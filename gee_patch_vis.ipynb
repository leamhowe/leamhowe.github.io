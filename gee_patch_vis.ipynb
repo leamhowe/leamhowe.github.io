{
 "cells": [
  {
   "cell_type": "code",
   "execution_count": 22,
   "id": "3e63d20b",
   "metadata": {},
   "outputs": [],
   "source": [
    "import numpy as np\n",
    "import plotly.express as px\n",
    "from plotly.subplots import make_subplots\n",
    "from dash import Dash, html, dcc, Input, Output, no_update, callback, State, callback_context\n",
    "from skimage import data, draw\n",
    "from scipy import ndimage\n",
    "from skimage import io\n",
    "import os\n",
    "import json\n",
    "\n",
    "from geemap import ee_to_numpy"
   ]
  },
  {
   "cell_type": "code",
   "execution_count": 12,
   "id": "f5bb7114",
   "metadata": {},
   "outputs": [
    {
     "data": {
      "text/plain": [
       "True"
      ]
     },
     "execution_count": 12,
     "metadata": {},
     "output_type": "execute_result"
    }
   ],
   "source": [
    "from google.oauth2 import service_account\n",
    "import ee\n",
    "from pathlib import Path\n",
    "\n",
    "# Define the required scopes\n",
    "scopes = ['https://www.googleapis.com/auth/earthengine', \n",
    "          'https://www.googleapis.com/auth/devstorage.read_write']\n",
    "\n",
    "# Use the service account JSON key path and scopes \n",
    "credentials = service_account.Credentials.from_service_account_file(\n",
    "    # '/home/users/leamhowe/ee-credentials/ee-snow-patches-81eaf6e60bf9.json',\n",
    "    Path(r'C:\\Users\\s2112771\\Documents\\ee-credentials\\ee-snow-patches-81eaf6e60bf9.json'),\n",
    "    scopes=scopes)\n",
    "\n",
    "# Initialize the Earth Engine API with the credentials\n",
    "ee.Initialize(credentials)\n",
    "ee.Authenticate()"
   ]
  },
  {
   "cell_type": "code",
   "execution_count": 30,
   "id": "e2979abd",
   "metadata": {},
   "outputs": [
    {
     "data": {
      "text/html": [
       "\n",
       "            <style>\n",
       "                .geemap-dark {\n",
       "                    --jp-widgets-color: white;\n",
       "                    --jp-widgets-label-color: white;\n",
       "                    --jp-ui-font-color1: white;\n",
       "                    --jp-layout-color2: #454545;\n",
       "                    background-color: #383838;\n",
       "                }\n",
       "\n",
       "                .geemap-dark .jupyter-button {\n",
       "                    --jp-layout-color3: #383838;\n",
       "                }\n",
       "\n",
       "                .geemap-colab {\n",
       "                    background-color: var(--colab-primary-surface-color, white);\n",
       "                }\n",
       "\n",
       "                .geemap-colab .jupyter-button {\n",
       "                    --jp-layout-color3: var(--colab-primary-surface-color, white);\n",
       "                }\n",
       "            </style>\n",
       "            "
      ],
      "text/plain": [
       "<IPython.core.display.HTML object>"
      ]
     },
     "metadata": {},
     "output_type": "display_data"
    }
   ],
   "source": [
    "def get_false_color_image(timestep_idx):\n",
    "    \"\"\"Helper function to get false color image for a given timestep index\"\"\"\n",
    "    image = ee.Image(image_list.get(timestep_idx))\n",
    "    # image = set_clouds_to_value(image)  # Apply cloud mask\n",
    "    bands = ['B11', 'B8', 'B3'] # B11 (SWIR), B4 (Red), B3 (Green)... good for distinguishing snow from cloud\n",
    "    # bands = ['B4', 'B3', 'B2'] # B11 (SWIR), B4 (Red), B3 (Green)... good for distinguishing snow from cloud\n",
    "    resampled = image.select(bands).resample().reproject(image.select('B2').projection())\n",
    "    region_image = resampled.clip(aoi)\n",
    "    image_array = ee_to_numpy(region_image, region=aoi, scale=pixel_size) \n",
    "\n",
    "    image_id = image.get('system:index').getInfo()  # Get the image ID\n",
    "\n",
    "    return image_array, image_id\n",
    "\n",
    "def get_true_color_image(timestep_idx):\n",
    "    \"\"\"Helper function to get false color image for a given timestep index\"\"\"\n",
    "    image = ee.Image(image_list.get(timestep_idx))\n",
    "    # image = set_clouds_to_value(image)  # Apply cloud mask\n",
    "    # bands = ['B11', 'B4', 'B3'] # B11 (SWIR), B4 (Red), B3 (Green)... good for distinguishing snow from cloud\n",
    "    bands = ['B4', 'B3', 'B2'] # true color bands\n",
    "    resampled = image.select(bands).resample().reproject(image.select('B2').projection())\n",
    "    region_image = resampled.clip(aoi)\n",
    "    image_array = ee_to_numpy(region_image, region=aoi, scale=pixel_size) \n",
    "\n",
    "    image_id = image.get('system:index').getInfo()  # Get the image ID\n",
    "\n",
    "    return image_array, image_id"
   ]
  },
  {
   "cell_type": "code",
   "execution_count": 19,
   "id": "0529c2f3",
   "metadata": {},
   "outputs": [],
   "source": [
    "location, lon, lat = 'Garbh_Choire_Mor',  -3.744673,  57.060077\n",
    "\n",
    "# -36.39952\t148.31508\t2030\t2\tBlue Lake Upper\tNSW\n",
    "# -36.40363\t148.31204\t1905\t4\tBlue Lake Lower\tNSW\n",
    "# location, lon, lat = 'Blue Lake Upper', 148.31508, -36.39952\n",
    "# location, lon, lat = 'Blue Lake Lower', 148.31204, -36.40363\n",
    "\n",
    "start_date = '2025-07-12'\n",
    "end_date = '2025-07-14'\n",
    "original_size=100\n",
    "\n",
    "# Satellite Data\n",
    "# da = cubo.create(lat=lat, lon=lon, collection=ee.ImageCollection(\"COPERNICUS/S2_HARMONIZED\"),\n",
    "#                     bands=s2l1c_bands_gee, \n",
    "#                     start_date=start_date, end_date=end_date,\n",
    "#                     edge_size=original_size, resolution=10, gee=True, chunk_size=1000,)\n",
    "\n",
    "# using gee python API\n",
    "# create a point geometry for the location\n",
    "point = ee.Geometry.Point([ lon, lat]) \n",
    "# Define pixel size and region dimensions\n",
    "pixel_size = 10  # Sentinel-2 native resolution (meters)\n",
    "region_size = 98  # 100 pixels\n",
    "buffer_distance = (region_size * pixel_size) / 2  # 500 meters (100px * 10m/px / 2)\n",
    "\n",
    "# Create a square region around the point\n",
    "aoi = point.buffer(buffer_distance).bounds()"
   ]
  },
  {
   "cell_type": "code",
   "execution_count": 20,
   "id": "8b42498c",
   "metadata": {},
   "outputs": [],
   "source": [
    "\n",
    "s2_toa = ee.ImageCollection('COPERNICUS/S2_HARMONIZED') # Sentinel-2 TOA\n",
    "\n",
    "filtered = (s2_toa\n",
    "    .filterBounds(point).filterDate(start_date, end_date)\n",
    "    # .linkCollection(csPlus, ['cs_cdf'])  # Join with Cloud Score+\n",
    "    # .map(set_clouds_to_value)  # Apply cloud replacement\n",
    "    # .first()  # Get the first image\n",
    ")\n",
    "# get a list of the images in the collection\n",
    "image_list = filtered.toList(filtered.size())\n",
    "# Get the number of images in the collection\n",
    "count = image_list.size().getInfo()"
   ]
  },
  {
   "cell_type": "code",
   "execution_count": null,
   "id": "72236d65",
   "metadata": {},
   "outputs": [
    {
     "data": {
      "text/html": [
       "\n",
       "            <style>\n",
       "                .geemap-dark {\n",
       "                    --jp-widgets-color: white;\n",
       "                    --jp-widgets-label-color: white;\n",
       "                    --jp-ui-font-color1: white;\n",
       "                    --jp-layout-color2: #454545;\n",
       "                    background-color: #383838;\n",
       "                }\n",
       "\n",
       "                .geemap-dark .jupyter-button {\n",
       "                    --jp-layout-color3: #383838;\n",
       "                }\n",
       "\n",
       "                .geemap-colab {\n",
       "                    background-color: var(--colab-primary-surface-color, white);\n",
       "                }\n",
       "\n",
       "                .geemap-colab .jupyter-button {\n",
       "                    --jp-layout-color3: var(--colab-primary-surface-color, white);\n",
       "                }\n",
       "            </style>\n",
       "            "
      ],
      "text/plain": [
       "<IPython.core.display.HTML object>"
      ]
     },
     "metadata": {},
     "output_type": "display_data"
    },
    {
     "data": {
      "application/vnd.plotly.v1+json": {
       "config": {
        "plotlyServerURL": "https://plot.ly"
       },
       "data": [
        {
         "hovertemplate": "x: %{x}<br>y: %{y}<extra></extra>",
         "name": "0",
         "source": "data:image/png;base64,iVBORw0KGgoAAAANSUhEUgAAAGQAAABkCAIAAAD/gAIDAABUF0lEQVR4XgXhSdPv2X0geH3PfH7zf3ymO+ZVDlLKkjzI5aLaVdXVRC0IKIIVQQTwMgheAREsWMMboHcsYNEBLBpwdVW3XZbLtmSlUsq8eYfnPtN//M1nPofPB/3X/6f/yxeXL37xZW1nNkzjvgubFduPQzv6RV6e1fh37999vztziv/yq594B4L6n715/qJppCSQ03anv3u4e/P8yii1myal/LaoNzU7T/M3Hz4s6xeFDJfb7JvvHn51+4CDZwTvJ3OaujmB4LHJyoum/Orq2Xno56iGyc4uvl4sFoQ5SJ4ywuXs7PvT42EeejchCFtc5KLaLotX6+sVr7wLu2kc3DzO/jQNBNvLfHG2ZjcOKiTwXlKeED7OBkcXfDSeTk4/fjwHJLY1twjv+z0gXGXZOs8NxJkoHtFs3der9WW+TR4fzdzbqcoQfbHd/OzVgnOGLLrTs4n+anHldDKs88jJTNysN3NCVusU0YsL+mr94r5rPz70//KLbdRiUbP1JO8fD6ehHTzH2Pz5mxvK5eLZcpFXd93wu4/33z/6ikkOrmyWh/Ysufi3rz777z98um/H5w1JJg7TJCQbtJOCjP6sjR0l7o2SclHRGZBlOZQ8w1aEBDSEyShztlNIv7h5cVWv++iB4hjP+ykJxtZNCYqdnVbGAIAocCYrTwGlbDe0O3MwOhQFyjKeYpr6ydkkc4xDstraoFqsBMueZ/WlvEAhtmZIzHtntBb0Zy8uZCmBIIxSq+PVssC82KygWZTHwd2qQ03lL58/TwJVKH+9qp+vlvuh7/Rx1tvZDzdygRPBCDbrTTgPnBZUckAGSJ4Qu90/jdZ+cbH8/OrmFz+6+f2uP3S7F4vmF8++NH6+lNlXL24YztYNG10yc0/yvFMsIkyZJABPw/AwGsRcb2xkhIWUcXS5XHGL2rHth+6pq1412x+t83OfgpKvG1HnMmdYO9gUTaLT6Fxn/W4+etNzIp0zKZCcy6YpCErH8xkIKoT0yY8eGEIeYUzZlcwu84ZjHJHJarKSTZVx5SNdrDeQYUieFPrLi/VyVUBCKAKNUZvj3e4AkX6+vKqqHLTiNB77Qc3x5aq2CA1OjSN/1izwipEF3h76v/7th9un84vXW0gJfDtqFTAsqxIjT7hclb3y6KoWXNj/6mc/+fRoT5N6ebUFSIUIAOtdZzJgOBEfEieiZNNx1inApOadGQMEQokH+qfrNy+XF73rjtP4Dx9vX24v16stkaU1MI7q8dyppHKRaEjBWWU7rZL3iVKDEbrOC4FFDHHWoWY8WwEkMSgXIaLglU/WUCfRKYw8iMtCVgXHgVDnPWgKHAEnEAiUaYkYWAOY52XuRw0J9aM1YaiEVM7erIoE5IdDj1HKcRWC+f7DMTr0YnMhKQAW67z5fFuj6EBN0xA+HA3BnIJ6OJ3dFFaLPGgE3l/WpdKqHUNw6X73SPMGsHFajzb6GWfArZ0n0DkvUEwRLKfldtmYHkxC4Nz946fMuT97/sWb7eev12aYjnftxwxvt1U9yYAAt5Z0iuQJZABsLEIRMMpYtS35rK3z1qWICM5FJohMISGU/FN3u+uMSVLiSNLduRsZhoZwspAoWJ84QREJCpzACFBykAhwtB+mmE5yuaICIZYwiZzyQRlI6UKw4+wf+5OgTAp6vVz/F1+zRBLQSPOU2un2fFqUZcUkFE3BTHw4CEaYl/f9uHmeCwpNkf27X379YtO8/dj9/YfHzbJRUPV+KrJMB219mL1OGepnG6dYx2hjnF3Qaazk6iajm4x6xM7zTCh6336Y7enl8upysZEqAmCBOOWIVwgTkAOdlKkZPgWVIpY0ZZRUMkfANbLezMhHF70NyCj/4fb8+4+7ZFyWZ4skszLHyAXHezO8HebQe4rlq3XNE6cACOwAQUBeAo8mC8N5Lg4kIhtcihEozSkjjJOn3gqOjXUMp8GxTvvFep3SOKsAkGmjfvP+4SevN/Mcq7gClmWUjJN+PE0mDv/szbPLZQk0Xi/KTvsJnRU2n8bTyYzNiJual41Ek1HeBJRFQmyIXfIM4cu87q0dlctpkjS7aCqy2Urgt0N/P5xb9enZYvtsuV7lUgAkSnmVJ8o5z07DwAkzbjFrT0jGqKOMZiw5rx68PY3z6Efswu5gH3ezALzZNjhnw6C4xXUuGi4D0G6etLNXEqkhCZ4osAQYQadACMhFyQCRRbnmuvfGIS549JYxkTy2yElGGRVt7yD6QzeXOU9AMAAQnl3iL07L05CO3eNsNRf4qKY3L1bbZcHIRS1ySBECf2iPv787P5yOmZRcrmIM0+SHQfGYnhf0OLJO2YQhEzhnZJ2zy2KpjOvsvGAFo/lG1Igyl8Im0U2REeR2fXscxmf16tXiYrtkhBPhLcWSYVZSlWf09rSftAfCWBI26WkyQTmagFqBAqt496OXsiDyZllMJr1/7GSBkESS40nHwSjBq9VyEYAlFihYB1UFPAHCgAS6fFZuGORI/1o/TG1G6WFUvkEBEkFx0LEUnFFCGdbEWBLOu+kwt18hLJarbbN4/PRx1063x2GzqEKAn7+++fMf3wB3dte/O7bnzn738DQ422NTSIaFEa5QdjoPNoVQZ6vd4KZoOE8IRYFIScoYBJe8QVgl0nnlFWkIi8QThNf19sWyeexOt/3gzHBWhBd4QYtKMBexRBhHKvNs9hTFnUpOa2Wsm7XlGGQmcsZjgKvFBQbGAWQmBzdzkU+Wzk4RQDZNhJCVEN4GA/rVcktBObjcAFjoDYgEzRYkgq7PEU4pPp373o6v4QJDeOxHD/Gri+c8Sw/tUY70cI7f3O33bStY/lUpBKd6RqMJh/E0mm5VrYK3ED0QUB797vHxw+4cIsaSm5AIhGQGxCgFaqxW0f12R3o/RUogYgN2xmavxiUB4YvZkMHOJzBdTF9UzU1W5FkxBMGF/NmrFz+Ose2GWRuAxDFhbGnBaZiK5CcbFrnAafnY9RYPgoXLdYZImQzgGGwkhOIQYkgBoSRB2jKxmEorOpVCIiVH2tvbcVqUEtAlBUqAeHAIEAY9gY5gJdCcXzQ/nq7/8+2DAb+bpuSnT6euLlkmX/XWIoQma7vzxFgsMzZaH7XzKh2nXuZofFCQ8hdrWRTl3WFoP+zPg7mb9RgC4TiGefYqmChF7ZMjGQkWxik4N3Li75UuGXCBIi0HYxN0dc5jJlAy3BDQOhX1oqy29eI0hmj9CUEl8dVqFXya7GxAa6sKUnBaSKa09QIhSqGSmRQkRX3ohmCD4FklaBRVAaEf5107cZ44JsM4TdhEZFSIS0kRp0frZqfB4/vhREF7OA+wWQEkgADnDo7v4M3XcFm86TcIJRfwsW2bkqoQkfa3XWuTPXfxNJ6uXlXbolrm2baqMEZdmBSKKUKTVU3BvrhZYZyO3fnT/an38eE8t2rMS2Gs8jQgxCyPQJGNnmEISHeOqgCD6hOImhUR4yR9BKL8jLE3OAnGni/ry1XFRWED58L7aJwz3qIYgFFWUnwe0+Dm18uskpyQ3CjX6sOH9jDYiJLyKR7mdpUt6rLIBQs+DCYihutajiGUOSvs8HQa93qmiVJWMOxWBaxijXFJEdD7p8PNXMDFGsCCx7CsIJbABVhymIZcomiJRRMT2xB0r8kf9jtGcAoR+2hCkJJSRgkXgOVkg57cqsm//uz5aiWravH+4fF01soGTTXj1ipDUowseOsxF50xiPOCESAcU2lnlzDBhLsADGFOcSbFBlUocRAs4wVB4Wp1VRWNkEQkF4kzkEIg46wOY08terVdMUoamvmYnI8EABOMUihJ6oN2CFKyBBODUu8VQd7q4EIgBKuEJzdIWjNgC1ZoF5z3NkTnMSJpIbNXTfWqvqDjFEPtiY8wM/vhE399Aa8vIHrwqXee0+Wzkgs/WYcyniNKDt3RWv96e4EieujO21QwCyAEsMpOyQHa1pvXl0vJ8d2x/3Q+g2eW+d5YpxInNAZKibSxbY2GZGTgHEuCEMImyyAlbhNTKKSUGsJykhWMZcC6GF5tb0pJKcEQ3agiYjkigsZovOtH1fZTRtjRhEGNmKAczKoWeSa4oJ+vL581l6/NOCP9fvckYNr1s1JRFAWlnCKWZTTPE+5jhFTlAscsIL3XiHCSaJqjwYo84nmZG3pVSlLlcJpATUyacD8Q7yAiyOizZfVy4bVhIl++P3UY8KrKhxEbpDfV8ma7Iik9Hsdn10UhRPT2XdsSbNc5McG9fxxUPyUfbPSt629NF0KSiKTIlE5ZnjOKfYzbYgPcjGrElNAIU4hlVkps10y8XixeXK7AJDOT6E/LDJFEfUwhCR9iGwxmEJNX1kx6lDwxlkVnghsfuwEjFMTzMoWGsWVVpklRFUoQP6pXY70u87Oxk8C5Ntb7Abk1p4kA9cEwwgtZXBDsYBrS7I2JKM1oej96IJjW10vIEiSXeoUunn389u385EgQn3+2Li7rr+8//9XdvULufr+7Wq2umhoFJhcLjGjwGgKfbHs8u0dWZ2o697vLvFCT+/TY3/btMqdFzs7DydoAFiw4GlgIeuwURdnmYoGwX9WcYTg5r4Kak+2d5kmscvp6tXi2vH61XnOSg7OTqxgpvE93g2rVkOFEEjjA2msXnAtAKUtgRpsQYggowol4MKk/KDE7bIN50kbS+HK1GDxjKNOptXMiCDnEU3T9qCXn1tFz20rOZKKEuGgijViT6CLyxt3aJwqjghnBgqGSgzKPY4988fOfrCljoGJVspTU95/6iP2qrEuZDXLuxhliLHlZl7KpSowoE27fhslamsq/e/vWUSKEUNENrd7P7eC9RwkwciTSkCThc2vFBjaLJcOhZHJZb8Zx/7v4iBDkgixF1uT5xWbBRQaSAZaFpuCBh1C5YIIPzimPxqC8swiCI+5+dBgcT7Btts8WNQBjFEeStZMKETHksRkm4PvW7lVnw5hnK8mMdTa5xCRfyLrIxVPXD/bjaMgMyYa0FsVs0+BOyDMDcVkK/E/v7/7+/S30FlgORFGoHZtklL/77hEM3q5WCUjOY8b5U3v2wYCj/ThsFuuiyM+zMRqiI03G98dzQmF26mh0QJHSkKI6j6fB6DlG6yNCCAhheZ5ta0vV0+O+YK4WCCeoSnF1eZVnGcLosipWRamMndQIOAOfgDBACCJAwpxQCjTENFg/K0UIQESd9ufpdBxGxvCmqKqsthGeBm2VJQlngiTMmaBNnmk7aTPnrNrIqpJikW0+W22eFxfbssoBlYxk9UoxohIJAE2eFZyUOMsYYcQDYHp3Vtq6Ktu9WC9HFe66XUr67GcDfTsfzRh+8vL6n4uv/tPdD20/kEReXzcpDSypc4e+332iKf7Zq9cJi8hDUKCJznLJGLiopMCVzAwiAL7Tc/T2SlRS4jlp5Oj+rG8f2mfbwrt4HBzD0lvSzfOsDcvywU8fDw+rfJHXJaQIVMBoTTDR+ojgOJtRzQSwxwLFsGRs5gXGEHF9GNp5Oo+eOIS+uFgu8yoml5HILp7FQJ5sd7MuSypiSgzRWqKUsHbhNA6jd4yFZVa65HOeMsIJYMAmJD96hxHCCWhZST2Zh3N33rcDitcLeTyxqpZ3v4GybonOLovqxfZiWcJ//+3t7f3pv/zTHyPElLIP7d5as16uWCF+uHt42g1nFbzUnIrJRZQsCLGp6wbibeiHw6w0soJxR0rGfN1YEg+zbTQbnG2t55DayZlI9pO7Ym4M9h+mg1dvf/nVZzmlABTiFIydlPVqcnqOwVKWzWYklDZFfolIMJ6E0E9usGmwzoXzLbDiRUWxgKQZJpjQV00TER3cNM6z08En0N4HSN08TlYBSdZ6ZyITsM1IZzoVlaUWkVixbFMw2lR0GnGvQhT5T97UNBQKvqUWIlLv39s6j2mKL56v1nHFikO+6FAizvnT1DMOC1G9WGwmbb/bnY5as4IqZ51XKppRKwP1YlPHELRxq7pYS8IxTHaa7EQE266zBedPPjyZYbJpSbAOMaeZcbDXljPUTu03U2yWy1+IHDIBGXdKt3Y6q5EzhLAkGAPjEcUpoFxSwAwAB+8SlJJFyZotl8j4OSSCsQ8xRetRQN4O2mqnPXCNEsaWpGQhHiYTve/0PDkVDKx4LmVeWJxleSGYNbqbHX1xU0dDf/t49/q6vKiqcSZ/9uprTOt/+6e/+M0f3p2mUWbU9PFhPGWQ0ChNUjmFioltsyDrkCXy6dzftq0jfikyIQtP7QLx3ghIWKUQUFTeliwzMmEEgNA0WbCBeQh5zAgxHmGSAEiiBmOMUFDErVmOE1HWvts93NTLbSSAECM0J+iAEia0yQoKwSPaDoPSYyXyRnALMRAos4JSIImggGaHdHA80RDBWeMFii7O3nuMMAIB4BANzjNClLMmzJiEkkkCESMkZHkV8booKMnP05ycoc2Lr54N998e3laoPJ9D6x4+W30W0iCXq8t1245aa/jbH26Nd7NJqAjaOoSkyFmVScTiw/3x/WE/ec04TRxXnEQinQWLLEJ4Nq6SdJ1lybLEgCAAwwtSIIeQJ4d5el6U25zfz6rzAVO2IpQghiObnEOQRhy/PzyuF8tavhIcZCZuLheexN64nArA6DQ6rT3irilJLcRsCPDAENIBKTU7CBSQ8ygEAwgppGIAjJikJAJzISUMHCXgYk3wlSpOI75cZQRKSIEi11tw1PiEkVUEkTfPNtTc7RXSq2rROmU0KE/eHp60VzVRJE8Xgn9Q5zUio53vj31K4cPtgWUMKOm76e7cnWc9+4kwSABDnCiWODIbgUUcYrw/dCtZIMkJxw3iFhuBQJCcBBAIWwKTspuStCicRyV5himVgEiwE4RoyBTjGMyH9u7Hm8stlSgiibLr+lqowfuoox/NYLxfFGXFchRpiNElGI0zMfjgODBEHELEBReTCwjjxDAhAUeGOCckIhRTiZKlOPviMjONRpSkpOfZa0SwPwcdPSHXTfmZ4JQx+le//YeX61eXyxszj4fz/rt3+1eX14GwTfX0F9dfvChvmt13FJW9V3PQyRntTTWXtGSfenN/PPKcEoQxAs4Q4RARY4hx6lHOz9po5DqlqWLbiwwDCxEz5pInhZBIuCbnCceUgGI/u8mHKBIqsuKyKgbr3/dnSlHwdLdX7tUEIEOMyjlEUJlJrbzXSTJZLHhV5VQwr7G2U6v8aWwlkxIJxlEkGOMUMUoIS5QjShCKOGHv02wtIq7gWUwxJJcBIkxA8kMgCGvwtFgsf7qsBK4WWd7N0w/7O7oV9ZvNiuds99A9DNkPWYupSFS83izh5RJG/Tp7sT+cxbncVrWZ5uM8EFGHaGNIWVk5bBDCQCOhKKfUBO+QThiH6DVyBhBJqIypjJmhOE0hS5xkpObsAMpH+3JRhhCedLQIH7QCEHUeny+vd/34A+yNZSj4FLXyEUJyKekUk3GnyWs3Q0RAEaCgvLd9ggS9Uh+PetBPq3zVLDlnCQGi4AmOEZiUhHIcg5jdNIeJMrLIK8m5sZaTIidhmpN2k+484hKwsx5J2axE4WJ8fz59Orf0i1eX/HoLh/HiorrYZJ2ZTpO/qGgpGzgN/5+/+pt//vXr7cV6W1Vfz5v/+Nvbg1GIZdZNmNCyxI+DdilylMZZyUhdisa6AhUCCeR8sCYiSIkOY5AN8xELRDLKXTQ6+DHO7BSuimKF8+j7Bz0CZqXCOpGLpt6cs9t2Ioyck73thlerNSYxGhus2/Xn09iGgBQEgRNDS8GJEBQTflH6UjxvMpERGr2PDPFEOUMxIYIpjSRCEixueFnznGPsUjAhZphyXgU/nkfno/NAJkg8S9ucBOe/3T28ax9nNeNJOTi1v739A2QOthfLvIIIi7xApTdju14uhnEGZ2DdLF+9AWIlT2elp6ABg4nOxDB7HzzjLHM+ap2mOVgVBKU3i+alLKqAs5x7sMkGSq0ssPXz+3Gn4nxZZDiQ4NlFsVoLHn04u/lej799vKUIfbZ6KRDrlT5M44fzfjQRIsWJzUhQDpxKJIplvbja3Dzf1otMNjxfVfn1qnq1LGsmgw8JgkgohUQDFZRa8DoYRGNOq4JkkJAL3rmEARunHrr2Q9+dpu6k5tPcWdWdu3gypPXTJ7U76YAB0b/77v3/+BfFxToHyCHDX79YW6QJjn4OOc6fb9Z/9+337t3p3/7zz3kq7sZTTasP+9HlHhOwwSKPR+2RmytRM84QskVWZIQLkkuOWJH1auRAIgJgdp2VEGRIqBYSGfqcX9As4uCXxfqXz8Lt2J6jHpX99v7hUpafbW+enQ9Pj8N50t8+3f/s8ubH188EC2UiqdoscpsCDQThkDzCLrjZWBu981giEDwYRxKOIcUEGIiLkGykDEcSnA2cQwDEIg2BIITAeSSRHp23HiavOMUQ6azPp3NaNYulKIYcntdL+rFrJzVvf/wZtATGQDYXn/X6YXDf3T6eBv1slR3HMw6y7adTu88oa+jlD+I754MNkeXIZ1RbyBJ/ms0GV6uK16IkANYBJ1RnkV+LEphymDJGAg6+uxbFl8XrT+eDcWqbX2ZAGUc/vnr9i8PuV/tPFJPe6/fn8+uLmx9dvH5/2j1N82N3+rvbt7UsF0Xpg4WAgsfeOeediSggjzxOkFBAgGwCFBPF4ABQonAYu2G2dZnXXOgUAsEZZgEFICn4RBGlWG4KPNrAxVOEgCG8Xj1rsuap14xO2joX4oVsBMG0yKCf42pi9x/fVlKUC5YSKZuojsgFkCJ783Jd+MXFsjJO/Xxz89C7qhEoMOvDnEzEluNIAxYcGHYilBBTxNTxPpcbpIO1DCWaC5TXfOz6ox0RpVuyulxeDMNQcbnKFrOfORW/fP7ljLQySXljsT8O3SLLL6pmP+te29/cf5CI/vTl85o23kbnvdFGm6AwohBzxEAQAIIRYAQCicDQ5LULOES6rHCe14ACGCCUBwjHXkdwBPGmpDgKkqd22h/GFiFxs+JfPruelHnqVGvs7e7ok71cXD6ePtLrcrlYwt273/364eF1foVHQ0JFm9TurWZBEPoXv/gL8AF4zBImmJ7t6dgFhXDkI00YKANODAqbbKOSNihRiN4b6/yYHOWIUYQDAwgqzoaqx/n8NChBszeb1fNCEswRSpyyGMPn2y0iX+4m9/Z4387m7fn0p7n4Ynn5MHWHWX8a5und+904/fM3P16STCcXIUVgNEWGsQMMPtAYMQZMccLWm0gwFjQrVpJRRBBRzgUEIcVOm313UNEyWkwx0Di5HrdqQBHeXG1XRb0qs3ked9Np1P3uPAqWDnActKV1JRbFxs4zl4ezn/MIBYIfPu07NV+vm/vH87N1BTmox+O96ndGGRvuj/OgXXNJmjJnWBQyWyKKuH8cj4PN/iS7aSRqDXvS58xlOFEp0nHq9317s8o3Of/t4fTtiV+KfLHcECIgugxnczIZlz999vlra3EkP5wevHfg3ZfXr3fW/v3dx07rNkwfh3R9Xsjty5hQQkAlIprgFGIMJoYEmOGEkwspFwVQzyjCc1TOkc4kh2YMANajyHiZkyQ3eZ4QeTqd2/EcgweS98E0fvzuQe/VHIKOgVZ1Zp07TceUMGUgIIDMCcRwf95fp/UE4w/7JwHSzuxe3U7/FGqBumkOVHuNqcELgjXG1FIzA0hHMoRyWjLMB3rXnRrOfra+bKqqC91ZH5eyAU6IQ4f9sMrRlbz6TRrfdocfZU2TFU0uKOaMMCKx9THjZUXST68DStF4c5ztzXL5p1c/ehpaF/Vs/RHU2/unHKpNVQBgDAA8xYgCxJBITBhSwJFSQilYZ10H0YQQsZ6mJGVgJPOBEgLbuhKkzHg4qNkolxLFwM/jeDgdG3zVDcdAyWKxKCfA2h36vZlnixOtcvGw2//T405bZV2YpjFmoSToOJpvHz74pFTYkU5dF9vg0mOnW9DbTZN5kpLTPllnIYtHNglOmlVxjsMfuo/E+y+uLiSjjyYmYzKJXm+W60KiCFf14uf98t4eW6fariMBSFY0OAjMEQNvfUj+qs4TvJjMGFIIaXy9XPx0fdHNk42ziuF+bMXxkbObuqxQAEq9twThGD2efO+BEJah6LGnEacIMw5YOxSjsV4IQXNJIDpP0mzU7eNh181zmBAK4LCNthEogTi42Q3hkxrDNI2TOTpjXbQh0E1V//3v7k9zu2oWSVhGyGWzvMCX/9H94Xhuz8q8QeSL1cVs3ah1NyiNcF432CftnTapdd24U7p3e3GuY15jGRDbKUXOey5IQaHBqESLi+LiRcHP52OeyC+Wr9e6zkhmPdIOYeoggbA2MYK0TzgRjl5uNygto1OM84tK/ti8vJt6e4yz1ta7djh/kuxLxguR2cR9cJ4mgnmdBcKSiyIQQyKlFPJIB3AS0bzKI4COapwJid4g303qNLaTcYCMd5hz9nJ7JfJy1OOpn459p4OPnikI3tkYEwZCT7190p2LKJH09eXqYlthBr83Y0jBBa7DfJ67P/vTzzeC/jf/kKpNQRM5qfk8OYkTjgprl7wXCfVORQFblOXAIEI3zF7hSvCbMqc+7Y6DSIkSBkSuaoawiDhwQrQLiIQYCUTrKfEQpJTI4wwiY5xn3Fk/ar1tFr949maeXQ9GR9c7tR/7i8WWcaJMYhyTSBAJmahmMLM5CyNixjOOU2IBYSmimXUf5mEw1tsUok1usDGkZIONMda5vFpvCkZ//+l+MtCbsdcGA2MkCkIl4y56FCn9/vaTpPhyI10UnUefv9zEe3W7e2+tijFEgHxJjqd4AqNR6rV+NF6Zac3qTVHedhM4VPJyVReTUt67ZVbmkgVjgOAUCJlIr1zKxqrkpJLLik8zaZUpOc8LSRGx1qcUfJzbgIK3gI2QmODcJ2AxRsYFJz5aieHVYrvbHB8m005jN54nZZRRMSslZRZM8sjjYdIzBpIzJjFnAoWEPIQiCz6BC1pDIATAu8EASZq5dJxMQPFqsX6+XXTG//ru7mk84CScTVo7TlOAlAErWO5CQCHQv/j5T5uSn8/d7w5PhAQYyWRM6wZtSAwACWrK//7DXZ9mka/++vcPH3f9z7688tb2PgTvDJ6wk3GiZWINEotYCCrmJCIQmxCJlBBmE1LOUJ3aEB5Pg4n2xaIoCww4BkJRsCqFYDAjCAHSCvICfDLUCcKAMowcH7xjDF/Wm07di7rJUJgs7uZ2VWRLWQ/j5JPLuWQYZVhgzuYpIOeNCZgnhMmxm3bnMZEgJdc2tlOnfFowlEuyrhZ1vhrn7tvb+8dxyDOurXdxQgxCwiggi1KJiYpoxog2qwrKXCpfiXocxv/2H//GW3yebHBKZhIs3O+U0jPnLM0nILqhzLn0oD/9K/hn/8Vf/sv/19/+9W/fv/XGVgWXiMUAMSGOCyCpzGgIACilkNRgVZ8e6Wx1YBS1lGLKlhIxQkOiTkXt5oS9mcEHHMGZaI+Jr4CtWea9Pxhlrec5K4sio9kfPbsZpuHusNu3fX0hvAutM4lwRojyKmqtlfVI6wh05jrY0/7QzZYIkhdZUBOO+NUik8XqpPvOTYfHd6epVz4tmkZbd1I9Sp5yBsmKADY6xZinOIRAAQiogaHwR8/Wp5b/X//mdlJKO61tTMxSDBhDJdN+toHoF9vVq/XiQZ1uyMX/9v/4vwQM//J//s/+N/+L//0c2go3gTCvAiYzEBITRpBjjCOKBJOIkTdWz86HoD0gSMpDXFZFASKiDAWL8X52xqjc8qlXn+YnNaNVufjpzdWqEBVj2NEILHhw83y52FxUy1M39LrvTTNFeJymfTtTQYDSgpPzbB77Q4KIEvJAiFZTijkSi7Jerq88ptoN57EzetxPp/OkERULUfiURmNQsghRSAkMRJQ84IiD107HQEF4AEYZh0auidC+Pw0TptBGj70VCJeSjC0c+6kqBE3I4m4twn/1o38DGAAAvoccp89+fF3YQmQEA9Ha62CdSgPMEFlCnAuGMLbGuxgAIxxjCM6DTYAoMMAOS4hno5T1CM/ODsp823azatmQW+r/4vLNusyzCrBLqF5+tFaHeYErKXg7DgkDgDdGEZQlP5kRBkkf+6HTLUnI+ISA1CJfFvyrZ9cX1bYdu+8fP707HiIkimC0LgKSkXR6PhtFU8oI9xAhJilERqmD5JGfkHU2UDAGsIypx5gB+CWvQwUise6wd8iVTGSWn2AqJTIh7WPnDbrJG4rfhd8Ksjj/3/7rH776crmVq4BjxChCJExI7DBNEQhEb32MJvoAxmuPLaccIhUoz7Ck1GU0M5ZMjniHsgQGUx1NjfGF2H5w/Xmc/+b9t7kPP7q4vm5WAliR4e2immaTJF0W+XEeWaJFUax9hZEcHTpPrTm74B1NvMkjNvnN5WbbXNV5goBvH2+/fXra920fIiTng+M8LyV3elYuKOcXmfDY4wA0EcapzKQyw6EfRhoXJFHQCijBNAfETBhfX12wA9OTywhzGG2rarOoJqT3nVRgrYHxrB/64X/2rz8ndPlX//fvHswomdSzYxIzzHCCLMMECsaDiaRTMx698mCDVs5gnCaVGHIx07nIOSUmBR8jYi5fFZYhZMxs0cEMNg4LWq4b3vnuh643ESsXXjabkvBNvsKx0wlK3jS1QShs8kq7+d1xfxhaBySXYlNt1lmZ8ZpxlHF+1z797YeneZ70bA/KnIIWhFCEfBICYZQipIhQZNSlRAMkjAjGwXs3WJh8UCkIjwMh9MPT9Oq1AFJDGgWSm2r10LUE0evV6hCGUmZfvlr47803dD/v1X/+/YNW/hdvrv7s330B5LPVv/+HIj9zti2ElEzmHM0zeOJjgs745L1z2ETQ3roYCQgUkw4hIN8bUpuwihQztITCEBECIMFOofPGTs4N81zm1VfPX8bgvYn37fT98Os/v37x48XNqi7zXE7WLstKCBoCphoFl7pRl1n+anOZyaLETBDUzdO+V/uu+/3xoM2RYgSYGeQiOO8QwyAIJd7ZiGaIEYLzeE6BE4QxMSFw4mOMAgHBlJGUHKL/4bvvXm3/GDZb4Awu8dX5cHfmT+deJ885KSTjtFhk1Ti+3e18UZRff11+vXn+f/jf/ep/9S+6/fz4ql45VwCLMbpW4xiTc9yi2ClMIWEcE4ooAXEIkpkdYMBZzmKAftCP9HxJylwUlJGsoJFCH1XS+rLMNnJ7tV692V6oGY7D+E+Hx18/vmt7Fz7PfpHxEgpJAWhyiB7GqSChYdlnm4umLEMi2Kneq908Pw7tqR9bPQQUmpxGg42LBCj2XvmIMoIBIRxptINXODGIWIFLjuTUEuJtStESgkhGE4bIEqHJOcAEwEBIoHx7Gh5Px9tp7IOiGbnt2uYTfH29/mKR67H/fLWpF/nuof2De6z+cNfMDeFJoDk42kiECS1qlAx5mFwIppt9SCFFzzkjiLoATEYMVHIEIXRDN5oexRjXQgBteM25rIWwJW1EtmT5ctEIJpO0y4B/1Cwf+4uP7embT5+uZF6tqCSod8F7rccQhZuUD8h/PO13pz2hCJD42O5Hax2KEVvhMRd5QGmGQDEWBFOKAeOYQgjUAzIuxZQyHDkCiSEk5ELyEBDGIuJLkU2zc4hRRtP72zv2brfYZsXVpuAcdH72BxzBT/4Qp/9hVs7jX77+TKfb3qEPPwzvPowpI9uFu8YmK6wzex/4q9Umr0J0pJ3GY9uT5CESIIRzKjlHMfUGOZ9o8gwxi+lsDEOs1RqPYxaltt5P2jvDMQPEyixHmCoXXPIm4Od1+cdX13fD7etFs9qUHlPkQ/QIUCnF6Yfzfr+3pEizso/DnBVIImRiQBSRCN7C6F3HgvSUe5ykZFlhg5p8SMHaAJyjHOGQAiGIBRIhIYyIRwGRgtECpRQjBVoKQR/Ow6/0x4Ttn7CXn796sc0l4SBYAJfPUU3WWWNeHMr/6S9/9vtPh//h9x8fdz1Q8rNnl0VWKc3ePhysmTIshsTwkzFKJ5lliC4KWsuMYJ5x7EicZjfOmuKYycohFBLxwWETx9Hi2E+dQhxQ8ilEzLD1viB5lgglyGk1j9Yg+Mnl5Z+8fv35xZol0U4zIQElaLV6dzr/sN9TIhjCEUhZFnWObSAXcRW9G8fubCmC5Mcw6YRC4gVkuRgm572NMXJMJSGEFxh8AJAIM4IRgCcEBUwQsjEklzDlAhE6zErn5RfbzSXagHOd84gjGgtN4oXMb30fE291KDL8r3/y5W3f/2qOE0LTTP/TN78rQ40aoDhDiJ1nM88uOXvDi+u6zAqEEUYYmRCHuR/mcFYmQMr9kAPJmLBRK5MCOBY9ZDkgmnzQzmWZ0E6fSTtMpCwziZDgQcdUC7bmSxeEt0A8Sz4a79+dPn2/v5u0eb7JOBE9m0sQmciM7RrBI2PIakqwsdgMyUIQDLEQibcYA00BgHBEUIQck4RdAsgBAwmTTpOLFCeaGAIRURh0GpKmIQaj/WWZVV9dgvfD6A7d6K1FCCkgzqcCiejQd/f7v/yjrzhzW/HhH+92v3p799Sdvn7FnmeVoIhSglCQGAFkFzXLBJuDb9U8z2aetGTcpPSH3d3dsWOElXLx/HKRQ5KYsUoUWcakNM4kHyNBZz1ro6x3tcwY5TTLZ28TFYxKIAlpRSmnJT4P8X5oPxzbLujX65uLskwGB+7HEI6zAmJlVllFgPQeHCAuM9zk4BN4Gw0oArBAQrMkE7bemgQYUQ6OIO+BBWKcsoxS7KlzYCGaFF2MNAOqrJOCw3IBj4e34+E0DwRQSOmkO+XMs0W53MjZJyDoz/7488vy5v/8H/67b+6earUYvf/DhwMWcF1toksmmGCTunU4HM7W7oeOCXpdZBmW+3H4mz882H4CinB+/vSwZCwtmvyX+c3z9QoTTLAnQA6jGo1LAIWEBc4HY5hgC5ExTiQh42wcCxcZO0/207mbk76qm1WxuCkbZV0blLHExsFOClHc8ynYoEJMEUQOGSlSDDFoAoA95sQxzmRINCbtcEyYiJgSNgCYJmQAJWKBTzGllCKhHBFBPH112dgB96O+CgZypgeVEo7Ms0hixFLIKiuquuKEB1AkWz//uvjXh2f7vf2n++59d+gOU72V3ZPbdW0MAVz8FSd1zjkSDvn1aokBTt3D3dPZnWYgCRSLyT7NOzD+kyB9b4/79PXn1y8vSkoxpBFjJFCmffi4fwIWP0OXL5pGuxCij94jywbsn9RwMoMDp5wDj5wxFJjzU4pGIIYp4IC8iUKKnGLsMyDc+8kakwKmGFDgnOQp6pC8CjFhzEnAglgNzlkXUoqUYiqBAwIsiUPOKpMxSb/cXPyj2d1Ohy8fniCgyblNxkbFe6wzwTeBBeefjo952pz7ZXm+l5L92c3N9OeO/NZWT2t7czW5+Vd/fQ/6DEVeNAWvsoKLaXB5gcGlD5/ujrsOrIOqWBWLMmMT+FEbc+whopMafvPpe0+Gqvxiky04yyKyGUMGuUkHbXXRU+xiikkCtZAQ6PUYRuzPg9pNh36cQ0J91X118WqTNXmgmHJWUOzcwdqI/Gh9FwaJmMWBFJioZCfvo3KOjN74CCSRXFKgeHIRR0RRASiqiBDBRVVGb5VPOrkUMEmEVoWoFvzhpP79P/4m45nzMRcsyWB6iDOOxB91UIMBhX+3WJQYaip+9OLix/PLb0/qs5f41z8c/99/fQ/jESQT5bbY4pSCt8H4CVsRkh2TB8FFU3x+tblaXJVL+PjUPp4Hw3A0hApOGL8/mL/+/ePNYpbcN3xVNXgRkMLo5Hy0/sN4TiRsM64CH9wJCE/UqtPxrMfRTBElwaM2dl2W65g7H8CC5iga12pvnBlssBFlOac8WaQCSjGRblDHeeacXDYZzUqH0FOv1wTnOWOJa+cWpZCoaL1OCS9oY8XkraEnPYMNfzgc/+PDpw1dUEYIwggBi7F1ofNKa1vibPT+m6f9j7fl63UNDFkU8yINR/z//U9vjx8fgXOoZKRT0DJnUuaiyQghPiHMTeZx9vLy4svnm6LIfNIxLl5cy5ovQkjDOCHKKSfB2bcPd9stpbSYj952M+Ei8NT3ZyTxzfKScdlO4/35DBTVrBhnJwHltPAQ6sSI7jBhkXEXQoh48t5HW5VCn3RJuYxSIN7158kECtwZxShmgk/I7oMlIRDPLnlVEeoBRaDB95OxvTYRTNPkS5E9Wn2aZ/r3PxxOWk/OP05uQKeaIhJ5VRYZk1yObe9npymnc7Kdmd4fyVYkh6asmOZh+m/+w9PD04NclFIwUeY0Ej15vobLCyqI0LM6tZMMbLUpP39evbppIJJW+xeXVSOXTbYK3BwP2Ww8QtwlP5Tae/O7+x8oEuus5Km3ChFEXm+WL8pSz9o6SIz3Y6+DMTFUWZZhBsjkJFOR3PW9FAJHFFJChNwsLxiDoKBhkgRhg+2mLGMMcd96yDEWlJ3mmTgYJy083KxygsVZmVM/DlpTxwVCVc4KzHHIJvVIA6IWjy5GHwMlIUY02MgTFk45Q513BaZZ1pRcfLZcLvhCw3gYxzvNloCTizkO/+7f/GKBKyRclpPubP/pXUtkyIWQAbvgCllcXC2bvNqucV0UyREgqMopARZRzAhbVFXEBx9NIeQ14X5C7/GBUS55JjJWW4YJIYDudh1gDyHlBIxOUpBXizUmaTbehWQCTG4ChOsUQhSSo4XgGDEf/GW9sl57nKaEny3xKU0nN+gAOHpKyZJlLLIwR4ttcDEkf7/bd2qSedHIoqIIBB+U7/0Jk0Qopadej8oHCiTCnILEmGAw3rsUUYrLsrxeFTywVxeNMWRTr3KUz3Z/1uiPf/TsxxcvccPGp+Epjq9Xy6ezCgw9nMbHxxGcq2txs81erouMFhlG3tnkUsVJlWchYmUmCjTjyQ0Qsdvm60VehRo0Mo/tNMY2McxBUgBzzkKgBs9mmgxERihOESHkEiCCOKIJkBQSeRI8wQRYECFCQNZYiyJ4kyIJHGMkK6ZU0gmH5BPkIAhgFx3xkIC2vZbclZICFAGhktMI9Knth05xlpZVMTpDpWCjMckjrQKIlEACwTbgQGIt6UW9uCpzZW0w8aj19uLy0+P4qM7YkLoRi+VFoObrL8qfieY5v/h91z6dzz7ox7v+oT9eqK1l6TOJ61y246Rm22SFkBlExEkgOWE8q3A+W08F2xRLhpGzmAmRZxNyLGnsCA0k4JAM8sZqhjNGiA7madCzjxUXgMAb5FEqPMSYZOZzxry3/ZyMDaOzi4xZ4xPCkoAJnkUmvbB+JAItZDFFpVCugwHnepeEbF6ut/vxHDGNCH3c7+9PZxqZ5DineQJHf3L9+gfy8X03xRwvc7GIPCVGBcUx1IJXnJoUDYT9PLV+vH1kp9M5oHRV1YnxTmuLJzOVP//sarFmay9+9uLKhfjtH7rVqgTl5yEpbeQi3lxKSWTGMuV1TDbjmQ9MCpIT+XxVh4ScBkNMCAHAZpgu1/Wz9aLr1dvTXqRIMF1wyfPiOA/dPEqaA8MI2Gi0Vxrn0rMYHQ4Igg2tMd6GeTJIQAxZP/YVbhzXM8LI40aKYsbBIchow2qOdMDRU2S99jYXRX1ZLyXJv3m6PZ0miLzImBQYE5qRjP6bL16y5O7V+4rSyyZ7GReJxsvF5v3TeXZh9qYdJ+uM8T5irybrtL/aXjUF+u50qmX97DI/nM3DYU9g87BXz54tvrpZL8r8w2CPu3mmY0zB6nizKJf5MiDv2n4ySBkfUmxQlTFuZDVbBdQqPdvoEJBMZE3FF7I+DBqHGClgAiHyfdd/ajuCQykwimH2sbOqElxg6ucYkkrJtzPsvaXUYZ/VXA6dOquZLjMWUfSIphiYYIjM2o5hLGkJOHmPQoTZhkY4q72UQvvgPZY8w2heZhnhKaZZSkH/sD90qXcQNlTmhp6U+/KL5ufbZ908+0lzCqfeeoQFFCMM1gRr/DKq3pVLwYvCHAZ76DGkrkeG03RRlp8vnt9Oxn762IjsaaDJB21npWiGx0Ry7aPWxnrNOR5m4WBw0XoXQoghmBg8JakuFoLlu2GYtc5p7mMywYxaDaaPCGqZHayarSFW0TxFkP08ewcxoYDHaMSEgpuVZLEMiDES5qjd5JOMKVBICQMFiozuvPI8xERaGzhBGhlI8L7fhR30zhk7b8qK86bMiDJ2jNqpQP/bb75TYWYCIU+HXk9hlG1Yxeazpslyth/mCYWLkn9V3fymv306tx55alCTs8XquSH0n969P02tilTx/M82X7x/PA7tu13bFQiVRcYSn1WgOB16FZwT1IxGa29H47LARwPu5CwKggrKIIbAKV/mOOPUdmM/DcfBnsfR2kSJ1xGYRE3JUaJROZ+os35RFvPklHNAMfI+pbDOa4xO5zNBLEYdPCSacHTeIqddLASNBhMAlMJo02QtIdgHS4EUkZxndzBH1brWpJyJRUk2S+YhUJ84kO/vBqqsG1KUnGhnlU8BiR8+9b569z/5oz/5tPePx8Oy5GTm1Wvxr65f/9qf3o73JvLfPO7frMxiJS0KnmJEaLTw7rz/dLz/xqVCZJssn8eEG7pZpziNep6HSAyeo7PdbDuYMsu9Px3MFBJ+vliVOVBFivWaYfF46KZxGib9m91BjzqXuY0+ANzAluRce6OmySe+LMoMiYOaHASGAaHAkWS5jWNMCOFkR8UNuOSxRyx5H7T3CEccCBERgrJauSS5wEABIefpDONTOycTuMRVVnDiqM86Aw7QeVCPpzNtk0UEpYScSRzwy21FgL3t7v672388Kl3y7Flz+d3dU+vmnzfb8xZiOXptT9MUl6uunU/9qAAgpE2BHqb+oL2Z3c2iyUL00U0qRAIQqVwhFoFYIhj0ZvbKjzb1zh9AcyAP03ANZY7F+93j/jgdz3qyWBl13/YxYUbHw5P5ox9fCiJ2gzsPQ4jzTbmVWd5rPxoNECgRiCCCBadEdeCR1QZpZ6nwuShQTMam2YUojMBUEF7yslMDQt6aENIckZTEJ4czIvOMG+wRIYJyE8nkRqvteZwXdUYJg94EoFGl+HxdvVquE+C3w+HXd+dK0lUu+7FDyH26O/QP4/Wq/Gyz/v671jlcZ1zinGZ7386bdfFque4n+9GeMIQV5XWWuaAYjkM/7bo2ndmKi6amHvNinsiMEIqMYEgJiDdeP4x2d3i6fTqNPWSMFDQfvQaHgSA38aap8mJxHh0trQewiKlItNUxYB2xSyYHDI6zVfKGjCEITo01EJEkIoTgXIiYWhz0aJeyBIwymufc0aBGE62LbnRQEInh1bLBiaqgU4qIsIQlQKdn3yq9FAUVkC/z4G2MwQqMvfGBs+vl+tyeEE3eJc8JKUU3TpqkxNGVvFgt/amf3j49vb68vGqa084/f1b8+Nn6/mz+cLxDc82kuFjx94f9Xa/HnqgUcplGH5lD2zK7KSpjUatdQGap84ijden74+nDbWt7oIxKUnuCp0l5jcpKSEl7kx4eHwq2GDs79YZRgpc2S0xyZpIF8MawPvjk0dO5N8GwJGIKnDKUiHHBo0QBWRN63YUQcykwYIHxYG0gkQustDfBa+M8sCXnwGCcjHamzI319rGflfVllqj3UfJ8n44U0lVefbm5/qfxkTmmIlQ4ZYI8W2SvMD8+wvazXHcDSv7Fi+XwwX06nyRjLKHE3LmzH1l3Tv6nry7HR3eYVC1pxZqn09PHBwUMygoIAD7rN9umRGyR54TG3IgVcnurvjuc7t9P9mgAeNMUq7o8DCOy9GIrUeBEhC+2DQT4sDtMZhRxUV8wCO67/cO6zFJKy4x11nzsj/gJdSO72CDq6wlgnccYvYsREnXYz9F+aAc56KriGWK35340OiBUUyowJT64EHvV5QKCCZNS1iRlzNvb0+440SwGH2g3jdZNJWY//+nlm9WFcui+bWcdPMYoIggsBvqTxfV7MZloXZQxJmQpD7zmxWysJWFVy307/uMQIsU/+9HLixfoV59+gEO6qIufvqm62R1UmJKjlkSh3nXhgi6Yx4xyTPG7o/7usfv+NE/tAI5snzUXy0Wvp9Gcn10826zl49MoGyYQv93vBz9ebxaFKJ009w+no9LXZXi2bVJAPxxP745dGWQuMRBhUghJkySVTYdezcENetwPaoqa8JAspY6Ng4aIgUbHSF0VEvHZea2sIFHg6FEY03z//nz/eKJC0AT7caJzjAuekYwyVr17nFu3m0db5/xVfdX2KiWjTXt/kB3RIShD0DJbnU+jjobWfD/MyfvrbLO6IrE3H/Vw23762foVcDtO6eT1V4vrx3U8vL13wDhiKDNGhQerpHCjCh+P51/9sJtGBTjBHJrr5eevqmOvj9Nc1/l6TZRRJ9M93UHllGH+1cU6k9VBnU+HIXPyclNdigyT8IfH4fv9AMlmvATmUGIzzKP2g+5P+/HueII5AVbAOOQSogYVQGGQGEopGDHB92rkyY/eccKXZZYTfPR6HtQ3H08IgADGhKYAlNPkCR5O4zf9By6LqkRLXiXA26zxJp1Gv+9CC/eMhTyrfRgf4oQL5JB1QzJK+YjFglxvVudhoig8HvWKTX/88jW08owPi9hk28Niz+7Pdt92mtto8LvdRHjSo1GtAo5JWSViERLPttlTPz60imO2KRuM4n03qtE3jZACJ8vGPu373eQMEJxlYtOUDNi73V3bT5A8INz78CyXOS0/qKfbjwc4OVAA0UDCgBAUEVoNaoaEABIwDjg3MQFY7fHsSfQJEqKMdb1DyT8cHWiLRSQ45DLLAGhIabIDUZhuss8uVg2XT+WUsfAXL5afNrxtF/th3Fs9jDph++LqKkOMlITcUZXcpqyViq0ZzqcIJLsqxF5ND0O32bwYyCiF1LO7KNnrzaYf7gxeJtK+/Xgcjy0wBAggUQASjAYar5/VVMjd+Snj8qapRYXf7YenxxZ5RhZ89GEcJo6YLJlgYjKG5qjI0Mf350+nM2ACQAFQVuPtNrvft7fvnqA1YAAgAQKQDCQGVEJ/hgCQEqQAkwZKgSNgHnKZItXRYq6+//Tp/tOJ19QlAjxiwVCOhzhBSPRgDR3Nj7KLz67Xl+tVjnmwrIrp+cWzdDw9nB6aptyQ8u3dOOPxul71fvJzBJberPMqlh87dT+dyl5cYlpkK5/Cu6c7a8PNcptBeuqHOsu/vCrXdXG3i//Pb87jyQKNwCV4CsyDtzBFEGiuzYPr85w9ryuG0O1Dd/+hg9mmPO0PrVcGfGKrDTgM1kgsMiHaXbw/d5SREKEWpBC82JCPbffp4xlaDzFBxCAIMAGZgBpg9JA8JAQJA8LgI3QKpIQqgymeWQ+cDR6Gxx1glpHc2hGMC4LN3hJHGULUG5UFsmwWF+WqEByF4GeVcvr24fzY9fvuNBu0WTVX1/WnR/XQnvo4ByVscgW6rhqxjK41sJKyLnD0et3cGINO3fH5ohYin5NOnROEYgbf3n60w/D56wuXLSoqDkafT51RBCgVJRWUFwXFRA6neJ7mwzBDiIApaO8HBwyxUlpnlfFNJjdLWbD04ensqCswLwr6R88uA/c/6P7TXQ+Th5zDHKDMcFXRPEUM3jlIDhAFHMFjQBYSABWQC4gIZg9NASzBYABnFzfV3EdAADllDEUHGWVNnlNE+eWy3DQCUCKUKM/OM0jGD2GmgmGg++noEXxeXQPhBzUgQEd3mIz67f27bV5pm2jECOGvNi+GefhOD3VWdSF9nM4vY6pEjEyAmlN0v/jR+qefX66bIoVwe2j/9nd3uaPZBa5LVlaliunYt0+7ru/BBwcpAiEQEugACJOyvNjUAbslZ0wUdcmmTg14bAQvCPtss6pE83E4PJ4mUB44gLcADKqsqjnlcWAGdhp6AIcAEaAJkACKQGLACABBKcBZ+DiBSbCg06h0ACAMI5xcQigxnBBBtGayKcvr7bKWufHBJnO9lnVR8oqdP7UJ40VWJuZDmD9brR/GkQocTbKeD35m2FfFhqWq3at5PZMMP949jaf25fK1wf3u4fz5yy2Q7IT6OqDrz5YaNIpZk+XPb1YLzvrRlXWmjTt38+9Pc5qTm1DwESABSkCh5jlZZE2NA/LWG0JonhWEeUrEQTvEvWACl8hG/XY3Ht3kUgSfwAdwCSQXQmJKpqTsQcOjgYhBYmAIbISUIKSsLsp6iag69cofBxg9UAqACWFVrtuziTGFSHNB5km3ytKFJCLSkGQUIqjp4+Px+lnNOXncdR+eHjzCN4tKQyiBGET68SwNkxxuqtwSSTxZLcq6NOd9+9f3332xvMxIces6YZSMUBCKLH2KDxxzKrgKseKF9UHHaZHJr15cMRx+8fqq09Nf/efvRh0X2+W25p7JrhvbeaxzWZB8tRA320U363ePU8SeZ2RRlMYhjywBBBBiSo9u6pWdnQPrQBtQCYSAmiwXuLfGDQjGCD4ABYgBIgEmgcLyYvmXP/n8bx8/hAn8bMEYSBQAwAelLSMx55nRCnACQmYdwHuaMIxG97q98NXgRhNmrxdPc/vN3d2oJ4bJKrtZZjBNboiq5JIwHqypsrrOUj/G6MyNXGzW8tZoo6IouZT8dty/KLI31zdzhNve1BQSBZJsAsYz7I2fnQUMiYbT5Jar1Z999fJipQiT7U6F0sdA+8F750zwsuSLRXVoVVPtunk2AAKT++Gg1IgjYZiaKQmCkopOaYAIqIClgJRA2Ud7hoQ5ZQFbIAwyDKSCyoOBsszevGju9sfJn6PK4DiDY4AJ8ATBu8lvF7WNoNLIKTbWQdQQEb0RtcPROjv3uvXTPNnd6SQkParOWJMlPGN4tdx88+l+15tCAIne+6Bol+uS5VAw/mxZhkU2PR0/dGe0FG+uF/MQCMMK9FlpDNobhBOBSM52FETUEiUSGY2Lbfl0PN73T9znm0WRZT4Een3d/PGzNyknf/ub9zRzy2L5sJuPx0O0imHKBH88dHf7Y3CRUjIZaxz0Kdp5hsmAJMAsIAEOAxb1BlMnrdNWcVjIepPnNDvNT4zwy60cx6nryPPtxe8+nCAAUAwcQ9NklDtMvA6HYQSEjAngHfgEBOiL5auz60+9viydyAUJ6andv1wtM09shJxJCOPTgz9PygQ/dvNSlnW98D78fjetL7IFkzMzj/fDvjs/W4qb4mZnW8xVoOh+GrzzG1ErGxMknCjDKSKjEqMWA01WhU8nO6VeErUqZIPEVZURT/fdIcs2VOCSiL/44rq7MUAN/ZZ+as9TNIddpwbrxjSkiCXQlOxgIEVwAVICwiEaKHEmGNOEypgzMQ5OcPG8bs5qrmhRCVERzhLafJaryYAzkHPI6PObrZCF7vvzpPdDgOCBcEgBCAESEKK0KgOd+Md5uOuexIxccs7H210/hZAJ7BC+P81nmAmFjKAwc8OSQGnJy4/hMRvUxeW1df4/fbgPXP0UfylYQE5hjBdCFA5GNjeiDnSkDgQVIhMYIaNnkryV7Dy3CkwM5GQGQF4QkVc8L8m7rsfapuielJ9capabn1wH48npH/t//Pbp42M3eQMzAQ7IU2sIWAMYQxIQASSGZDGuG8krLGmNtDEFpW9erX/+5vVZnWpRSjKPSlsdu8l/d38C7NdX2zc3zc3qIlIetR+d3Q3t46nXZlbGASEcAQFPjUWzURyn+/2uFlJFyyjLOdYJTZYkGtU8aUYKRLQKKviV4MMwNVt+3axs8jb47jR1btgKMRo7DeNuVCEmllBAuG5ykfLcmOBC69UGoZJkA40SsWVd6lkX3BrClFe9Vl8sc1JRzrDVdnc61UKWAn/38XG1GFkFq6YGJyrBXl0t21mimlBBnXNP0QRSAXVgoVlLPBOH/Ofby+fPVhdVdRoPd/vh8z+5/Is/fnOz2Ax63WTUqmnXt20fv333mDP26vNnv/z61ctnF1tZOE8SSufJnY67bz90v9vdmeAlbnJprAP6/nSvtGbAZ6tXWBJEcCQvVleMtN+1T7WQzoVE3KTsUbkQ3TNfnbwzxzPyaVLm37/72BD2erH52c3ly2r1aRoEJqdZ381dmeeNZQZszoVCVgyWJIRzyV3fj4pi5qyQrJQC5iiRj53X46l/MBQDyZGIPiFObtuTin5dlNT0Xz3L/8Uf/XlI2d1wFpB+e396d7/7wrlZ6cdhKkRxs+TvPvqvf7L+8y9fLYtaZmJWy1mbIhOZzDQ6A7KCLjDPr8u0Zejlqv4XPyUO+6uNKFnxbLFGWEYclPVqWq0vWv5DeHwoZVYcD4+Tc/S2bRn2EjGKkI6JEWqRBqRe1euRzqoF5MEzP7kkGMdAzhAF1W/vH3HihuJ5fvj54uX/+l9+8fLyBdhw9918dbEoMv342FqtJ+JzSjIiKaGrQiIOgznNLrTahHh0HhyNV+UiIHTs2sdxzxSWnG15XQiuGXDOlEncxf04e6+XWX3zbPX1xc1dfy5l8/LhLT6/Wiw396fu03HXWX9oz2U9/Yuvnr/crIWIPjgaGedACDNhnk1HEHVuPs69t7IR/JcvXheS/3Dq1vWCYm+VLyvhEwbirOsul8Wfv/nsfX5UZnATF0WgFBJjFAOKPnZReY8QjZNKCg/d5Ppp9pC8SryAL6sLJpJLwQRyWYfzYE5OW0BOAPJyHJz246eH7ua6vCrqsVYHNVQq48Ws3CRJVeRMExjUYH0IEcbgCEJgfQggMOWYBAwhghtcVXpBiAfXW8uoHKyaBnSdL25+kj48Hb5VkdV4yfIvmsvqUrz+8QsI8fzp9OuHjw+Hi7vz4XlTX662no62GwxJAbxythtcTvPlSk6DUdpITgGFHx6fnt9sX12W23Kt6fTrX99SlklZzAYPLkWWrq8vpWCfHmJ8Zn2qaAwsxIQcthhjH3Wwr/iyM+bhfGpNRFhwlqgJhRSfXV9KGRmEp87Q5dUfzg+n26dnm+WLVfmPHx4G913O5Gnu+Ckurp9frprTx741xjMRdEhUFZey5oyHlclcmc9jP9pgg49nd06OMExdChBtEgRxOkciYvARq6TmdlrRgmcyY8vgxhF3ZCjtfOwH/cXrEtxr4FLk87JML+WLv88T9/jZSpZ5qZvl/XnoTJymDuvT1fLm9cvqN29/aCeGEm2y8qxUb8fnq8+0p8OMLM+PVvMYBosY5zQShJKmRGbwI9w8u7qkCVx0LGHEMNbGT9EftVe49ShxngpB87zopqFMTBQu6DhqgmgsKZ1cWjfFv/z8xZ9fP/vN/uk1vizzTNLSxJASbMrVRWM+3j2abl9W1ehdUGD3PgWyriTnPALRFkaH6xkIII64dTaiUACKQRNeZiw/mfmKy9bpKcAQnZ3OJtl9a4siQiRP5lyfn704nPMlvj3eHnbTantRSPLxqfsC6W2x/m3b3T/tgkiYyqJkF1tMLBuMRghyRi+brU77959ONW9YHmdjZJZPypkICfsY0YIwTMZI7T6Cy/CPXm1ocBgiEGR9igZHjPxZtwzLjFVJQlNllWDBJI/sY3/wZ7y+LqQn+zHM2hQsK7F4tr2ORVz25CFaYJ67RJMqRPlitfh0OhozF0BcmOcnm9KYQsS4Pu20CxpFUnEiI8lyihJS42wQxkADCRmx84xN0Mv6QhZUBhEo+fikdmpiKaVItXPOkI/3Z+W//dmLVTtoIGXKMekYis5HeDLnx+FpVCYwyAONUbazNvg4n0HFEOPwadyzCsUJftg9VA3kUjJCU45w4ghBKfwGx9mg3x1VpOFNcxUmRl1KKjhEk4XYZIvRT1EFWUiWAFntjZiCTRFH8Pt7/TDMm6glIofOM4jY+R+eTu+2j8aR/9/7DzFp5yIOqQI5JhMTWtbZ4Rx9TEWW5QhhtIwubov6vn1LqOCMzVYTDCJyLkgmqVExAqIIz8pMxsbg3w/jT17WX9bN/+PtDz+0x5TiCksPJFEvMMwptvP0/afQabvktU1q0C4GvB+PDzt0t1ee4knpVo8C5Z8eHJNhdsohO0zKo/Tq8kVZrGdn6GwQwwLnELyPmmR4TesCtafBjKEVSOYip7mjUqCTVoEUmYS1yLB2J997B4wR5PA09IcELjiKWaJBG/PD05gRedT+zaouGGvt8Fe/+SZjXMNs+kg4tiG+O3cVzobZ9lOagxNxXmU1aKS1YykwiFervO9ZQaFTQFjwyFFEFqKQID3Ryduz9ikAJPxpOn4ZM7po8kxqFDjGY/A0OhwREAUJjKU/mJ4ghNnMes4QpYzcPrZtcMfTmTJmYrJ6yJnLOE0GpTwPPkGMyqnRWM75rExUI1CMGIoRTIAVBsrn1nZOKczpeTB3uhVtohjhiFECJBCpSnTdXP1D0Ds1XTDPJfdeu4ArwrwHyzWh2Hg3KM8zVnFaLiri4zAZHfSyWuxZp4PnhJ/VmcyhH8ZhioIiHEkwIQZkY7Dgvu8fq6yss2CjzwSLyftgMJDLZe0DPHY2aBCEG2RUCILIXOYA4tni8g93h+CMchYpelNXDqr9rAhKIoZGcghymiJlmGJ/mm1v5/PkCDM08UTA+Qg8iCgW9ZoFEiYX/RxxEkSQEKYwUkAzNQgyzH1Oio/t6R/evn08d5YC0cnl3NKahhAjQSXPCU0k5j9+9RmvxD98/GQTLTEhxTJj6Tqr7vtxdh0GiomE4FeoIIhflvnzrA5xcoYGySpW/M37t4tcYEzaQWMkyioAiikRZbBktC4oI1WnzzxFwaF3YSFZ74MOnlitdAUszsZxlJV5PsyuH2yDzV1rAn6Y3QwuuRg8hMHMp0Bj9Cl5ZFKIQQEbsDNMMRRx5AHNViVASClfSCKkLAE7SLO3NwKvxPZM53FiJvjJaCoFRRSATXNv58e6ziak7k4nNVtMoOLVq025WZQ1raiFEBNdN1WWGYLxy8ssb56/fzycrQ4BoxxiCKjia1Jc2erytXjXH344tDzgkx7pPfu3/+p1nb/87nEY4ljWyw/D/WjwZUPPJxcplGXuojNmnnW8Wi7XrHABASSevCiosKAs4Mi7lJRTB9X6MXWj26zzSrDDyAEHiO7jYX/Xt/08neyQAdiEsLP7rg82jSnkJC6kYIxP02AAVk0WCQFLc8jIEh+PHngUiOnopgEbZ9PTabteIkwYxvun40j7vFlwRM7zaZonDtAN7O18rvL6xXUVwZasyLhULp1cTwURGGwh4EV+1cdoHdCAS446H4cw+250miZyWFDGebaot29w8XjwQ7ANoZsmswjU6D/0rQm9gHCRX96U/mZd/wBPv93vZM5WWb7z3oYJ0MZHOqihKCVRFrtECMfSYy9w8siJ/Twb4xGCMQGNE6PoZV1RxtRs+m6etEUIYgoEcM6pCuxkBxcjywXNBQJhfNDO8Mg0Bp0sZZFTQaRmCCkde6v9DFyIY7fTrmuqC2em2U2Qanu4p5BrpLvBSoHSrN6N4+cX28+2V5GW4KAdBkqkD4ZyQnKMNrz5o8+v/+nt/vvd4cVFviqWb8+zcd5iX4j07ulxmdVfXKR+OoSIvlwXdzpIxJZl9e398U3VgBu7zi5L9fJqdSVAJceQEDkXUmQU5zTrvXo4jWMVkPM1YOvS4M8eEKGMSypH7IE7P0YftlWeIuzOmkDIWWldGoPbhQknXKA0WccJk4sMHK8iDx68h5NyiXsjgKHkiHPaEeJTpN65nJHgwxhnpVMlFkDjufM2jiFhY1zw5KSUi4oxO1s1zg5jD4jMs5aCbS8XyIk36yqGjOPq7Dn1NmFwH4bzi7YRjJ9mfbyfYjB5SJ4kiEgNAAJFY4uMvVle/939u6tmWSzz+4fD7fkB72V44b3Fve/ziGt6ZRL6/fmjcfZltV1ltfYIkxkTPjmVrC6IOJ5iisGm4H1oCM4x1hHNQeecAKkiERQTHxyiToXJmqQAzxHR6EiINmLOAAJiKdaCKx72ygVnC65nh7f5imeVOn9qrQdtlU28YBbiZBxHQmbl0e8xnifn55MOEWOMRq10SpRgGzyKSPhEJFnJalVlFSlCChKyKP1FIczU0Kamma7uz8ffvBfrPOvUdJ6GJa0NRxnOcgQ+oc9f3+RWXFT5plq8XNeTo9jrssxu292gErDUKWujKhF/4MdqUQQjx9SnWT84GzEGlxpRFiKLbgjJzcY57yJAcpiSmKK1EDBBhIhANEqEAZVcxpQYSUAokNjMIiZAMWSMIhKtAZwhMNEFjjNSZ7LOLy84v6zLGNNJZI9nrKMWFBOMtHF2ioRaJFSJiiNy+3FGyXFMI4YxBIAoEkkhBA8e0TeiXmR1xXnQsWmw9e7Q+VnNnHtaZcvtin3THTTYXuNdO3uI/dhFZAOVNjos0P/os5d/cvHZr/fvf/P776sLaajzO3RRLEbLNbptJD/G6bB31nQB0SXTxus2GZFS7jNIwQM0gr3aLnqV7vYnE6O2PgGUknCcfAjG+5hICpFispBZnS22khyndh67XIo+OUmtiywFKiTiLKUQnIEEKZoeiNyuFy8ubhYZTy52Y1fktMmF0UqSwrq5U5rG5DEblR57NdpzChCASMoiWA4YJc8wSZTo4KL13tnFFVozSWmUqWxdRNE0jTSeUUnpF5urj1ZjkJ1TrRlJhiLGkcFuHFCMqyKPgbJC7D5035yOP9k8DxYoZmWDUGd2k2ut+8sfPd+z7s7qq3z12M8Sc4GoA4eYcT755JUW+9MUmPOOWm0CDjKhjEpOsHLBQhBYMM6Ip3kmluvF9XLxNJS/fednbQmN22LlsBlDFMQDCgGDj57wnPNFJaabYskjNtO87/qnbj9pFTFb55I4pudU502S7qDU+dQjjRGBTGBjA6cIEqU4BS9sdCkhzkiAtFeuOan1VdMsM63mj7s2l6ul9een/v8P6YzARYescnsAAAAASUVORK5CYII=",
         "type": "image",
         "xaxis": "x",
         "yaxis": "y"
        }
       ],
       "layout": {
        "template": {
         "data": {
          "bar": [
           {
            "error_x": {
             "color": "#2a3f5f"
            },
            "error_y": {
             "color": "#2a3f5f"
            },
            "marker": {
             "line": {
              "color": "#E5ECF6",
              "width": 0.5
             },
             "pattern": {
              "fillmode": "overlay",
              "size": 10,
              "solidity": 0.2
             }
            },
            "type": "bar"
           }
          ],
          "barpolar": [
           {
            "marker": {
             "line": {
              "color": "#E5ECF6",
              "width": 0.5
             },
             "pattern": {
              "fillmode": "overlay",
              "size": 10,
              "solidity": 0.2
             }
            },
            "type": "barpolar"
           }
          ],
          "carpet": [
           {
            "aaxis": {
             "endlinecolor": "#2a3f5f",
             "gridcolor": "white",
             "linecolor": "white",
             "minorgridcolor": "white",
             "startlinecolor": "#2a3f5f"
            },
            "baxis": {
             "endlinecolor": "#2a3f5f",
             "gridcolor": "white",
             "linecolor": "white",
             "minorgridcolor": "white",
             "startlinecolor": "#2a3f5f"
            },
            "type": "carpet"
           }
          ],
          "choropleth": [
           {
            "colorbar": {
             "outlinewidth": 0,
             "ticks": ""
            },
            "type": "choropleth"
           }
          ],
          "contour": [
           {
            "colorbar": {
             "outlinewidth": 0,
             "ticks": ""
            },
            "colorscale": [
             [
              0,
              "#0d0887"
             ],
             [
              0.1111111111111111,
              "#46039f"
             ],
             [
              0.2222222222222222,
              "#7201a8"
             ],
             [
              0.3333333333333333,
              "#9c179e"
             ],
             [
              0.4444444444444444,
              "#bd3786"
             ],
             [
              0.5555555555555556,
              "#d8576b"
             ],
             [
              0.6666666666666666,
              "#ed7953"
             ],
             [
              0.7777777777777778,
              "#fb9f3a"
             ],
             [
              0.8888888888888888,
              "#fdca26"
             ],
             [
              1,
              "#f0f921"
             ]
            ],
            "type": "contour"
           }
          ],
          "contourcarpet": [
           {
            "colorbar": {
             "outlinewidth": 0,
             "ticks": ""
            },
            "type": "contourcarpet"
           }
          ],
          "heatmap": [
           {
            "colorbar": {
             "outlinewidth": 0,
             "ticks": ""
            },
            "colorscale": [
             [
              0,
              "#0d0887"
             ],
             [
              0.1111111111111111,
              "#46039f"
             ],
             [
              0.2222222222222222,
              "#7201a8"
             ],
             [
              0.3333333333333333,
              "#9c179e"
             ],
             [
              0.4444444444444444,
              "#bd3786"
             ],
             [
              0.5555555555555556,
              "#d8576b"
             ],
             [
              0.6666666666666666,
              "#ed7953"
             ],
             [
              0.7777777777777778,
              "#fb9f3a"
             ],
             [
              0.8888888888888888,
              "#fdca26"
             ],
             [
              1,
              "#f0f921"
             ]
            ],
            "type": "heatmap"
           }
          ],
          "histogram": [
           {
            "marker": {
             "pattern": {
              "fillmode": "overlay",
              "size": 10,
              "solidity": 0.2
             }
            },
            "type": "histogram"
           }
          ],
          "histogram2d": [
           {
            "colorbar": {
             "outlinewidth": 0,
             "ticks": ""
            },
            "colorscale": [
             [
              0,
              "#0d0887"
             ],
             [
              0.1111111111111111,
              "#46039f"
             ],
             [
              0.2222222222222222,
              "#7201a8"
             ],
             [
              0.3333333333333333,
              "#9c179e"
             ],
             [
              0.4444444444444444,
              "#bd3786"
             ],
             [
              0.5555555555555556,
              "#d8576b"
             ],
             [
              0.6666666666666666,
              "#ed7953"
             ],
             [
              0.7777777777777778,
              "#fb9f3a"
             ],
             [
              0.8888888888888888,
              "#fdca26"
             ],
             [
              1,
              "#f0f921"
             ]
            ],
            "type": "histogram2d"
           }
          ],
          "histogram2dcontour": [
           {
            "colorbar": {
             "outlinewidth": 0,
             "ticks": ""
            },
            "colorscale": [
             [
              0,
              "#0d0887"
             ],
             [
              0.1111111111111111,
              "#46039f"
             ],
             [
              0.2222222222222222,
              "#7201a8"
             ],
             [
              0.3333333333333333,
              "#9c179e"
             ],
             [
              0.4444444444444444,
              "#bd3786"
             ],
             [
              0.5555555555555556,
              "#d8576b"
             ],
             [
              0.6666666666666666,
              "#ed7953"
             ],
             [
              0.7777777777777778,
              "#fb9f3a"
             ],
             [
              0.8888888888888888,
              "#fdca26"
             ],
             [
              1,
              "#f0f921"
             ]
            ],
            "type": "histogram2dcontour"
           }
          ],
          "mesh3d": [
           {
            "colorbar": {
             "outlinewidth": 0,
             "ticks": ""
            },
            "type": "mesh3d"
           }
          ],
          "parcoords": [
           {
            "line": {
             "colorbar": {
              "outlinewidth": 0,
              "ticks": ""
             }
            },
            "type": "parcoords"
           }
          ],
          "pie": [
           {
            "automargin": true,
            "type": "pie"
           }
          ],
          "scatter": [
           {
            "fillpattern": {
             "fillmode": "overlay",
             "size": 10,
             "solidity": 0.2
            },
            "type": "scatter"
           }
          ],
          "scatter3d": [
           {
            "line": {
             "colorbar": {
              "outlinewidth": 0,
              "ticks": ""
             }
            },
            "marker": {
             "colorbar": {
              "outlinewidth": 0,
              "ticks": ""
             }
            },
            "type": "scatter3d"
           }
          ],
          "scattercarpet": [
           {
            "marker": {
             "colorbar": {
              "outlinewidth": 0,
              "ticks": ""
             }
            },
            "type": "scattercarpet"
           }
          ],
          "scattergeo": [
           {
            "marker": {
             "colorbar": {
              "outlinewidth": 0,
              "ticks": ""
             }
            },
            "type": "scattergeo"
           }
          ],
          "scattergl": [
           {
            "marker": {
             "colorbar": {
              "outlinewidth": 0,
              "ticks": ""
             }
            },
            "type": "scattergl"
           }
          ],
          "scattermap": [
           {
            "marker": {
             "colorbar": {
              "outlinewidth": 0,
              "ticks": ""
             }
            },
            "type": "scattermap"
           }
          ],
          "scattermapbox": [
           {
            "marker": {
             "colorbar": {
              "outlinewidth": 0,
              "ticks": ""
             }
            },
            "type": "scattermapbox"
           }
          ],
          "scatterpolar": [
           {
            "marker": {
             "colorbar": {
              "outlinewidth": 0,
              "ticks": ""
             }
            },
            "type": "scatterpolar"
           }
          ],
          "scatterpolargl": [
           {
            "marker": {
             "colorbar": {
              "outlinewidth": 0,
              "ticks": ""
             }
            },
            "type": "scatterpolargl"
           }
          ],
          "scatterternary": [
           {
            "marker": {
             "colorbar": {
              "outlinewidth": 0,
              "ticks": ""
             }
            },
            "type": "scatterternary"
           }
          ],
          "surface": [
           {
            "colorbar": {
             "outlinewidth": 0,
             "ticks": ""
            },
            "colorscale": [
             [
              0,
              "#0d0887"
             ],
             [
              0.1111111111111111,
              "#46039f"
             ],
             [
              0.2222222222222222,
              "#7201a8"
             ],
             [
              0.3333333333333333,
              "#9c179e"
             ],
             [
              0.4444444444444444,
              "#bd3786"
             ],
             [
              0.5555555555555556,
              "#d8576b"
             ],
             [
              0.6666666666666666,
              "#ed7953"
             ],
             [
              0.7777777777777778,
              "#fb9f3a"
             ],
             [
              0.8888888888888888,
              "#fdca26"
             ],
             [
              1,
              "#f0f921"
             ]
            ],
            "type": "surface"
           }
          ],
          "table": [
           {
            "cells": {
             "fill": {
              "color": "#EBF0F8"
             },
             "line": {
              "color": "white"
             }
            },
            "header": {
             "fill": {
              "color": "#C8D4E3"
             },
             "line": {
              "color": "white"
             }
            },
            "type": "table"
           }
          ]
         },
         "layout": {
          "annotationdefaults": {
           "arrowcolor": "#2a3f5f",
           "arrowhead": 0,
           "arrowwidth": 1
          },
          "autotypenumbers": "strict",
          "coloraxis": {
           "colorbar": {
            "outlinewidth": 0,
            "ticks": ""
           }
          },
          "colorscale": {
           "diverging": [
            [
             0,
             "#8e0152"
            ],
            [
             0.1,
             "#c51b7d"
            ],
            [
             0.2,
             "#de77ae"
            ],
            [
             0.3,
             "#f1b6da"
            ],
            [
             0.4,
             "#fde0ef"
            ],
            [
             0.5,
             "#f7f7f7"
            ],
            [
             0.6,
             "#e6f5d0"
            ],
            [
             0.7,
             "#b8e186"
            ],
            [
             0.8,
             "#7fbc41"
            ],
            [
             0.9,
             "#4d9221"
            ],
            [
             1,
             "#276419"
            ]
           ],
           "sequential": [
            [
             0,
             "#0d0887"
            ],
            [
             0.1111111111111111,
             "#46039f"
            ],
            [
             0.2222222222222222,
             "#7201a8"
            ],
            [
             0.3333333333333333,
             "#9c179e"
            ],
            [
             0.4444444444444444,
             "#bd3786"
            ],
            [
             0.5555555555555556,
             "#d8576b"
            ],
            [
             0.6666666666666666,
             "#ed7953"
            ],
            [
             0.7777777777777778,
             "#fb9f3a"
            ],
            [
             0.8888888888888888,
             "#fdca26"
            ],
            [
             1,
             "#f0f921"
            ]
           ],
           "sequentialminus": [
            [
             0,
             "#0d0887"
            ],
            [
             0.1111111111111111,
             "#46039f"
            ],
            [
             0.2222222222222222,
             "#7201a8"
            ],
            [
             0.3333333333333333,
             "#9c179e"
            ],
            [
             0.4444444444444444,
             "#bd3786"
            ],
            [
             0.5555555555555556,
             "#d8576b"
            ],
            [
             0.6666666666666666,
             "#ed7953"
            ],
            [
             0.7777777777777778,
             "#fb9f3a"
            ],
            [
             0.8888888888888888,
             "#fdca26"
            ],
            [
             1,
             "#f0f921"
            ]
           ]
          },
          "colorway": [
           "#636efa",
           "#EF553B",
           "#00cc96",
           "#ab63fa",
           "#FFA15A",
           "#19d3f3",
           "#FF6692",
           "#B6E880",
           "#FF97FF",
           "#FECB52"
          ],
          "font": {
           "color": "#2a3f5f"
          },
          "geo": {
           "bgcolor": "white",
           "lakecolor": "white",
           "landcolor": "#E5ECF6",
           "showlakes": true,
           "showland": true,
           "subunitcolor": "white"
          },
          "hoverlabel": {
           "align": "left"
          },
          "hovermode": "closest",
          "mapbox": {
           "style": "light"
          },
          "paper_bgcolor": "white",
          "plot_bgcolor": "#E5ECF6",
          "polar": {
           "angularaxis": {
            "gridcolor": "white",
            "linecolor": "white",
            "ticks": ""
           },
           "bgcolor": "#E5ECF6",
           "radialaxis": {
            "gridcolor": "white",
            "linecolor": "white",
            "ticks": ""
           }
          },
          "scene": {
           "xaxis": {
            "backgroundcolor": "#E5ECF6",
            "gridcolor": "white",
            "gridwidth": 2,
            "linecolor": "white",
            "showbackground": true,
            "ticks": "",
            "zerolinecolor": "white"
           },
           "yaxis": {
            "backgroundcolor": "#E5ECF6",
            "gridcolor": "white",
            "gridwidth": 2,
            "linecolor": "white",
            "showbackground": true,
            "ticks": "",
            "zerolinecolor": "white"
           },
           "zaxis": {
            "backgroundcolor": "#E5ECF6",
            "gridcolor": "white",
            "gridwidth": 2,
            "linecolor": "white",
            "showbackground": true,
            "ticks": "",
            "zerolinecolor": "white"
           }
          },
          "shapedefaults": {
           "line": {
            "color": "#2a3f5f"
           }
          },
          "ternary": {
           "aaxis": {
            "gridcolor": "white",
            "linecolor": "white",
            "ticks": ""
           },
           "baxis": {
            "gridcolor": "white",
            "linecolor": "white",
            "ticks": ""
           },
           "bgcolor": "#E5ECF6",
           "caxis": {
            "gridcolor": "white",
            "linecolor": "white",
            "ticks": ""
           }
          },
          "title": {
           "x": 0.05
          },
          "xaxis": {
           "automargin": true,
           "gridcolor": "white",
           "linecolor": "white",
           "ticks": "",
           "title": {
            "standoff": 15
           },
           "zerolinecolor": "white",
           "zerolinewidth": 2
          },
          "yaxis": {
           "automargin": true,
           "gridcolor": "white",
           "linecolor": "white",
           "ticks": "",
           "title": {
            "standoff": 15
           },
           "zerolinecolor": "white",
           "zerolinewidth": 2
          }
         }
        },
        "title": {
         "text": "20250713T114349_20250713T114350_T30VVJ"
        },
        "xaxis": {
         "anchor": "y",
         "domain": [
          0,
          1
         ],
         "showticklabels": false,
         "title": {}
        },
        "yaxis": {
         "anchor": "x",
         "autorange": true,
         "domain": [
          0,
          1
         ],
         "showticklabels": false,
         "title": {}
        }
       }
      }
     },
     "metadata": {},
     "output_type": "display_data"
    }
   ],
   "source": [
    "fc_image, image_id = get_false_color_image(0)\n",
    "rgb_image, image_id = get_true_color_image(0)\n",
    "vmin = np.percentile(rgb_image, 1)\n",
    "vmax = np.percentile(rgb_image, 99)\n",
    "fig = px.imshow(rgb_image, binary_string=True, origin='lower', \n",
    "                zmin=vmin, zmax=vmax, aspect=3.5/5.5,\n",
    "                title=image_id \n",
    "                )\n",
    "\n",
    "\n",
    "fig.update_xaxes(showticklabels=False, title=None)\n",
    "fig.update_yaxes(showticklabels=False, title=None)\n",
    "\n",
    "fig.show()"
   ]
  },
  {
   "cell_type": "code",
   "execution_count": 37,
   "id": "97324513",
   "metadata": {},
   "outputs": [
    {
     "data": {
      "text/html": [
       "\n",
       "            <style>\n",
       "                .geemap-dark {\n",
       "                    --jp-widgets-color: white;\n",
       "                    --jp-widgets-label-color: white;\n",
       "                    --jp-ui-font-color1: white;\n",
       "                    --jp-layout-color2: #454545;\n",
       "                    background-color: #383838;\n",
       "                }\n",
       "\n",
       "                .geemap-dark .jupyter-button {\n",
       "                    --jp-layout-color3: #383838;\n",
       "                }\n",
       "\n",
       "                .geemap-colab {\n",
       "                    background-color: var(--colab-primary-surface-color, white);\n",
       "                }\n",
       "\n",
       "                .geemap-colab .jupyter-button {\n",
       "                    --jp-layout-color3: var(--colab-primary-surface-color, white);\n",
       "                }\n",
       "            </style>\n",
       "            "
      ],
      "text/plain": [
       "<IPython.core.display.HTML object>"
      ]
     },
     "metadata": {},
     "output_type": "display_data"
    },
    {
     "data": {
      "text/plain": [
       "np.float64(731.0)"
      ]
     },
     "execution_count": 37,
     "metadata": {},
     "output_type": "execute_result"
    }
   ],
   "source": [
    "vmin_fc"
   ]
  },
  {
   "cell_type": "code",
   "execution_count": 40,
   "id": "79914803",
   "metadata": {},
   "outputs": [
    {
     "data": {
      "text/html": [
       "\n",
       "            <style>\n",
       "                .geemap-dark {\n",
       "                    --jp-widgets-color: white;\n",
       "                    --jp-widgets-label-color: white;\n",
       "                    --jp-ui-font-color1: white;\n",
       "                    --jp-layout-color2: #454545;\n",
       "                    background-color: #383838;\n",
       "                }\n",
       "\n",
       "                .geemap-dark .jupyter-button {\n",
       "                    --jp-layout-color3: #383838;\n",
       "                }\n",
       "\n",
       "                .geemap-colab {\n",
       "                    background-color: var(--colab-primary-surface-color, white);\n",
       "                }\n",
       "\n",
       "                .geemap-colab .jupyter-button {\n",
       "                    --jp-layout-color3: var(--colab-primary-surface-color, white);\n",
       "                }\n",
       "            </style>\n",
       "            "
      ],
      "text/plain": [
       "<IPython.core.display.HTML object>"
      ]
     },
     "metadata": {},
     "output_type": "display_data"
    },
    {
     "data": {
      "application/vnd.plotly.v1+json": {
       "config": {
        "plotlyServerURL": "https://plot.ly"
       },
       "data": [
        {
         "type": "image",
         "xaxis": "x",
         "yaxis": "y",
         "z": {
          "bdata": "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",
          "dtype": "u1",
          "shape": "100, 100, 3"
         }
        },
        {
         "type": "image",
         "xaxis": "x2",
         "yaxis": "y2",
         "z": {
          "bdata": "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",
          "dtype": "u1",
          "shape": "100, 100, 3"
         }
        }
       ],
       "layout": {
        "annotations": [
         {
          "font": {
           "size": 16
          },
          "showarrow": false,
          "text": "True Color",
          "x": 0.225,
          "xanchor": "center",
          "xref": "paper",
          "y": 1,
          "yanchor": "bottom",
          "yref": "paper"
         },
         {
          "font": {
           "size": 16
          },
          "showarrow": false,
          "text": "False Color",
          "x": 0.775,
          "xanchor": "center",
          "xref": "paper",
          "y": 1,
          "yanchor": "bottom",
          "yref": "paper"
         }
        ],
        "margin": {
         "b": 0,
         "l": 0,
         "r": 0,
         "t": 30
        },
        "showlegend": false,
        "template": {
         "data": {
          "bar": [
           {
            "error_x": {
             "color": "#2a3f5f"
            },
            "error_y": {
             "color": "#2a3f5f"
            },
            "marker": {
             "line": {
              "color": "#E5ECF6",
              "width": 0.5
             },
             "pattern": {
              "fillmode": "overlay",
              "size": 10,
              "solidity": 0.2
             }
            },
            "type": "bar"
           }
          ],
          "barpolar": [
           {
            "marker": {
             "line": {
              "color": "#E5ECF6",
              "width": 0.5
             },
             "pattern": {
              "fillmode": "overlay",
              "size": 10,
              "solidity": 0.2
             }
            },
            "type": "barpolar"
           }
          ],
          "carpet": [
           {
            "aaxis": {
             "endlinecolor": "#2a3f5f",
             "gridcolor": "white",
             "linecolor": "white",
             "minorgridcolor": "white",
             "startlinecolor": "#2a3f5f"
            },
            "baxis": {
             "endlinecolor": "#2a3f5f",
             "gridcolor": "white",
             "linecolor": "white",
             "minorgridcolor": "white",
             "startlinecolor": "#2a3f5f"
            },
            "type": "carpet"
           }
          ],
          "choropleth": [
           {
            "colorbar": {
             "outlinewidth": 0,
             "ticks": ""
            },
            "type": "choropleth"
           }
          ],
          "contour": [
           {
            "colorbar": {
             "outlinewidth": 0,
             "ticks": ""
            },
            "colorscale": [
             [
              0,
              "#0d0887"
             ],
             [
              0.1111111111111111,
              "#46039f"
             ],
             [
              0.2222222222222222,
              "#7201a8"
             ],
             [
              0.3333333333333333,
              "#9c179e"
             ],
             [
              0.4444444444444444,
              "#bd3786"
             ],
             [
              0.5555555555555556,
              "#d8576b"
             ],
             [
              0.6666666666666666,
              "#ed7953"
             ],
             [
              0.7777777777777778,
              "#fb9f3a"
             ],
             [
              0.8888888888888888,
              "#fdca26"
             ],
             [
              1,
              "#f0f921"
             ]
            ],
            "type": "contour"
           }
          ],
          "contourcarpet": [
           {
            "colorbar": {
             "outlinewidth": 0,
             "ticks": ""
            },
            "type": "contourcarpet"
           }
          ],
          "heatmap": [
           {
            "colorbar": {
             "outlinewidth": 0,
             "ticks": ""
            },
            "colorscale": [
             [
              0,
              "#0d0887"
             ],
             [
              0.1111111111111111,
              "#46039f"
             ],
             [
              0.2222222222222222,
              "#7201a8"
             ],
             [
              0.3333333333333333,
              "#9c179e"
             ],
             [
              0.4444444444444444,
              "#bd3786"
             ],
             [
              0.5555555555555556,
              "#d8576b"
             ],
             [
              0.6666666666666666,
              "#ed7953"
             ],
             [
              0.7777777777777778,
              "#fb9f3a"
             ],
             [
              0.8888888888888888,
              "#fdca26"
             ],
             [
              1,
              "#f0f921"
             ]
            ],
            "type": "heatmap"
           }
          ],
          "histogram": [
           {
            "marker": {
             "pattern": {
              "fillmode": "overlay",
              "size": 10,
              "solidity": 0.2
             }
            },
            "type": "histogram"
           }
          ],
          "histogram2d": [
           {
            "colorbar": {
             "outlinewidth": 0,
             "ticks": ""
            },
            "colorscale": [
             [
              0,
              "#0d0887"
             ],
             [
              0.1111111111111111,
              "#46039f"
             ],
             [
              0.2222222222222222,
              "#7201a8"
             ],
             [
              0.3333333333333333,
              "#9c179e"
             ],
             [
              0.4444444444444444,
              "#bd3786"
             ],
             [
              0.5555555555555556,
              "#d8576b"
             ],
             [
              0.6666666666666666,
              "#ed7953"
             ],
             [
              0.7777777777777778,
              "#fb9f3a"
             ],
             [
              0.8888888888888888,
              "#fdca26"
             ],
             [
              1,
              "#f0f921"
             ]
            ],
            "type": "histogram2d"
           }
          ],
          "histogram2dcontour": [
           {
            "colorbar": {
             "outlinewidth": 0,
             "ticks": ""
            },
            "colorscale": [
             [
              0,
              "#0d0887"
             ],
             [
              0.1111111111111111,
              "#46039f"
             ],
             [
              0.2222222222222222,
              "#7201a8"
             ],
             [
              0.3333333333333333,
              "#9c179e"
             ],
             [
              0.4444444444444444,
              "#bd3786"
             ],
             [
              0.5555555555555556,
              "#d8576b"
             ],
             [
              0.6666666666666666,
              "#ed7953"
             ],
             [
              0.7777777777777778,
              "#fb9f3a"
             ],
             [
              0.8888888888888888,
              "#fdca26"
             ],
             [
              1,
              "#f0f921"
             ]
            ],
            "type": "histogram2dcontour"
           }
          ],
          "mesh3d": [
           {
            "colorbar": {
             "outlinewidth": 0,
             "ticks": ""
            },
            "type": "mesh3d"
           }
          ],
          "parcoords": [
           {
            "line": {
             "colorbar": {
              "outlinewidth": 0,
              "ticks": ""
             }
            },
            "type": "parcoords"
           }
          ],
          "pie": [
           {
            "automargin": true,
            "type": "pie"
           }
          ],
          "scatter": [
           {
            "fillpattern": {
             "fillmode": "overlay",
             "size": 10,
             "solidity": 0.2
            },
            "type": "scatter"
           }
          ],
          "scatter3d": [
           {
            "line": {
             "colorbar": {
              "outlinewidth": 0,
              "ticks": ""
             }
            },
            "marker": {
             "colorbar": {
              "outlinewidth": 0,
              "ticks": ""
             }
            },
            "type": "scatter3d"
           }
          ],
          "scattercarpet": [
           {
            "marker": {
             "colorbar": {
              "outlinewidth": 0,
              "ticks": ""
             }
            },
            "type": "scattercarpet"
           }
          ],
          "scattergeo": [
           {
            "marker": {
             "colorbar": {
              "outlinewidth": 0,
              "ticks": ""
             }
            },
            "type": "scattergeo"
           }
          ],
          "scattergl": [
           {
            "marker": {
             "colorbar": {
              "outlinewidth": 0,
              "ticks": ""
             }
            },
            "type": "scattergl"
           }
          ],
          "scattermap": [
           {
            "marker": {
             "colorbar": {
              "outlinewidth": 0,
              "ticks": ""
             }
            },
            "type": "scattermap"
           }
          ],
          "scattermapbox": [
           {
            "marker": {
             "colorbar": {
              "outlinewidth": 0,
              "ticks": ""
             }
            },
            "type": "scattermapbox"
           }
          ],
          "scatterpolar": [
           {
            "marker": {
             "colorbar": {
              "outlinewidth": 0,
              "ticks": ""
             }
            },
            "type": "scatterpolar"
           }
          ],
          "scatterpolargl": [
           {
            "marker": {
             "colorbar": {
              "outlinewidth": 0,
              "ticks": ""
             }
            },
            "type": "scatterpolargl"
           }
          ],
          "scatterternary": [
           {
            "marker": {
             "colorbar": {
              "outlinewidth": 0,
              "ticks": ""
             }
            },
            "type": "scatterternary"
           }
          ],
          "surface": [
           {
            "colorbar": {
             "outlinewidth": 0,
             "ticks": ""
            },
            "colorscale": [
             [
              0,
              "#0d0887"
             ],
             [
              0.1111111111111111,
              "#46039f"
             ],
             [
              0.2222222222222222,
              "#7201a8"
             ],
             [
              0.3333333333333333,
              "#9c179e"
             ],
             [
              0.4444444444444444,
              "#bd3786"
             ],
             [
              0.5555555555555556,
              "#d8576b"
             ],
             [
              0.6666666666666666,
              "#ed7953"
             ],
             [
              0.7777777777777778,
              "#fb9f3a"
             ],
             [
              0.8888888888888888,
              "#fdca26"
             ],
             [
              1,
              "#f0f921"
             ]
            ],
            "type": "surface"
           }
          ],
          "table": [
           {
            "cells": {
             "fill": {
              "color": "#EBF0F8"
             },
             "line": {
              "color": "white"
             }
            },
            "header": {
             "fill": {
              "color": "#C8D4E3"
             },
             "line": {
              "color": "white"
             }
            },
            "type": "table"
           }
          ]
         },
         "layout": {
          "annotationdefaults": {
           "arrowcolor": "#2a3f5f",
           "arrowhead": 0,
           "arrowwidth": 1
          },
          "autotypenumbers": "strict",
          "coloraxis": {
           "colorbar": {
            "outlinewidth": 0,
            "ticks": ""
           }
          },
          "colorscale": {
           "diverging": [
            [
             0,
             "#8e0152"
            ],
            [
             0.1,
             "#c51b7d"
            ],
            [
             0.2,
             "#de77ae"
            ],
            [
             0.3,
             "#f1b6da"
            ],
            [
             0.4,
             "#fde0ef"
            ],
            [
             0.5,
             "#f7f7f7"
            ],
            [
             0.6,
             "#e6f5d0"
            ],
            [
             0.7,
             "#b8e186"
            ],
            [
             0.8,
             "#7fbc41"
            ],
            [
             0.9,
             "#4d9221"
            ],
            [
             1,
             "#276419"
            ]
           ],
           "sequential": [
            [
             0,
             "#0d0887"
            ],
            [
             0.1111111111111111,
             "#46039f"
            ],
            [
             0.2222222222222222,
             "#7201a8"
            ],
            [
             0.3333333333333333,
             "#9c179e"
            ],
            [
             0.4444444444444444,
             "#bd3786"
            ],
            [
             0.5555555555555556,
             "#d8576b"
            ],
            [
             0.6666666666666666,
             "#ed7953"
            ],
            [
             0.7777777777777778,
             "#fb9f3a"
            ],
            [
             0.8888888888888888,
             "#fdca26"
            ],
            [
             1,
             "#f0f921"
            ]
           ],
           "sequentialminus": [
            [
             0,
             "#0d0887"
            ],
            [
             0.1111111111111111,
             "#46039f"
            ],
            [
             0.2222222222222222,
             "#7201a8"
            ],
            [
             0.3333333333333333,
             "#9c179e"
            ],
            [
             0.4444444444444444,
             "#bd3786"
            ],
            [
             0.5555555555555556,
             "#d8576b"
            ],
            [
             0.6666666666666666,
             "#ed7953"
            ],
            [
             0.7777777777777778,
             "#fb9f3a"
            ],
            [
             0.8888888888888888,
             "#fdca26"
            ],
            [
             1,
             "#f0f921"
            ]
           ]
          },
          "colorway": [
           "#636efa",
           "#EF553B",
           "#00cc96",
           "#ab63fa",
           "#FFA15A",
           "#19d3f3",
           "#FF6692",
           "#B6E880",
           "#FF97FF",
           "#FECB52"
          ],
          "font": {
           "color": "#2a3f5f"
          },
          "geo": {
           "bgcolor": "white",
           "lakecolor": "white",
           "landcolor": "#E5ECF6",
           "showlakes": true,
           "showland": true,
           "subunitcolor": "white"
          },
          "hoverlabel": {
           "align": "left"
          },
          "hovermode": "closest",
          "mapbox": {
           "style": "light"
          },
          "paper_bgcolor": "white",
          "plot_bgcolor": "#E5ECF6",
          "polar": {
           "angularaxis": {
            "gridcolor": "white",
            "linecolor": "white",
            "ticks": ""
           },
           "bgcolor": "#E5ECF6",
           "radialaxis": {
            "gridcolor": "white",
            "linecolor": "white",
            "ticks": ""
           }
          },
          "scene": {
           "xaxis": {
            "backgroundcolor": "#E5ECF6",
            "gridcolor": "white",
            "gridwidth": 2,
            "linecolor": "white",
            "showbackground": true,
            "ticks": "",
            "zerolinecolor": "white"
           },
           "yaxis": {
            "backgroundcolor": "#E5ECF6",
            "gridcolor": "white",
            "gridwidth": 2,
            "linecolor": "white",
            "showbackground": true,
            "ticks": "",
            "zerolinecolor": "white"
           },
           "zaxis": {
            "backgroundcolor": "#E5ECF6",
            "gridcolor": "white",
            "gridwidth": 2,
            "linecolor": "white",
            "showbackground": true,
            "ticks": "",
            "zerolinecolor": "white"
           }
          },
          "shapedefaults": {
           "line": {
            "color": "#2a3f5f"
           }
          },
          "ternary": {
           "aaxis": {
            "gridcolor": "white",
            "linecolor": "white",
            "ticks": ""
           },
           "baxis": {
            "gridcolor": "white",
            "linecolor": "white",
            "ticks": ""
           },
           "bgcolor": "#E5ECF6",
           "caxis": {
            "gridcolor": "white",
            "linecolor": "white",
            "ticks": ""
           }
          },
          "title": {
           "x": 0.05
          },
          "xaxis": {
           "automargin": true,
           "gridcolor": "white",
           "linecolor": "white",
           "ticks": "",
           "title": {
            "standoff": 15
           },
           "zerolinecolor": "white",
           "zerolinewidth": 2
          },
          "yaxis": {
           "automargin": true,
           "gridcolor": "white",
           "linecolor": "white",
           "ticks": "",
           "title": {
            "standoff": 15
           },
           "zerolinecolor": "white",
           "zerolinewidth": 2
          }
         }
        },
        "title": {
         "text": "Image ID: 20250713T114349_20250713T114350_T30VVJ"
        },
        "xaxis": {
         "anchor": "y",
         "domain": [
          0,
          0.45
         ],
         "showticklabels": false,
         "title": {}
        },
        "xaxis2": {
         "anchor": "y2",
         "domain": [
          0.55,
          1
         ],
         "showticklabels": false,
         "title": {}
        },
        "yaxis": {
         "anchor": "x",
         "domain": [
          0,
          1
         ],
         "showticklabels": false,
         "title": {}
        },
        "yaxis2": {
         "anchor": "x2",
         "domain": [
          0,
          1
         ],
         "showticklabels": false,
         "title": {}
        }
       }
      }
     },
     "metadata": {},
     "output_type": "display_data"
    }
   ],
   "source": [
    "from plotly.subplots import make_subplots\n",
    "import plotly.graph_objects as go\n",
    "import numpy as np\n",
    "\n",
    "# Get images\n",
    "fc_image, image_id = get_false_color_image(0)\n",
    "rgb_image, _ = get_true_color_image(0)\n",
    "\n",
    "# Normalize RGB image manually\n",
    "vmin_rgb = np.percentile(rgb_image, 1)\n",
    "vmax_rgb = np.percentile(rgb_image, 99)\n",
    "rgb_image_scaled = np.clip((rgb_image - vmin_rgb) / (vmax_rgb - vmin_rgb), 0, 1)\n",
    "rgb_image_scaled = (rgb_image_scaled * 255).astype(np.uint8)\n",
    "\n",
    "# Normalize FC image manually\n",
    "vmin_fc = np.percentile(fc_image, 1)\n",
    "vmax_fc = np.percentile(fc_image, 99)\n",
    "fc_image_scaled = np.clip((fc_image - vmin_fc) / (vmax_fc - vmin_fc), 0, 1)\n",
    "fc_image_scaled = (fc_image_scaled * 255).astype(np.uint8)\n",
    "\n",
    "# Create subplot\n",
    "fig = make_subplots(rows=1, cols=2, subplot_titles=(\"True Color\", \"False Color\"))\n",
    "\n",
    "# Add True Color\n",
    "fig.add_trace(go.Image(z=rgb_image_scaled), row=1, col=1)\n",
    "\n",
    "# Add False Color\n",
    "fig.add_trace(go.Image(z=fc_image_scaled), row=1, col=2)\n",
    "\n",
    "# Hide axes, update layout\n",
    "fig.update_layout(\n",
    "    title_text=f\"Image ID: {image_id}\",\n",
    "    showlegend=False,\n",
    "    margin=dict(l=0, r=0, t=30, b=0)\n",
    ")\n",
    "\n",
    "fig.update_xaxes(showticklabels=False, title=None)\n",
    "fig.update_yaxes(showticklabels=False, title=None)\n",
    "\n",
    "fig.show()\n"
   ]
  },
  {
   "cell_type": "code",
   "execution_count": null,
   "id": "fc64efb3",
   "metadata": {},
   "outputs": [],
   "source": []
  },
  {
   "cell_type": "code",
   "execution_count": null,
   "id": "9daee7e5",
   "metadata": {},
   "outputs": [],
   "source": []
  },
  {
   "cell_type": "code",
   "execution_count": 57,
   "id": "cf96e7ba",
   "metadata": {},
   "outputs": [
    {
     "data": {
      "text/html": [
       "\n",
       "            <style>\n",
       "                .geemap-dark {\n",
       "                    --jp-widgets-color: white;\n",
       "                    --jp-widgets-label-color: white;\n",
       "                    --jp-ui-font-color1: white;\n",
       "                    --jp-layout-color2: #454545;\n",
       "                    background-color: #383838;\n",
       "                }\n",
       "\n",
       "                .geemap-dark .jupyter-button {\n",
       "                    --jp-layout-color3: #383838;\n",
       "                }\n",
       "\n",
       "                .geemap-colab {\n",
       "                    background-color: var(--colab-primary-surface-color, white);\n",
       "                }\n",
       "\n",
       "                .geemap-colab .jupyter-button {\n",
       "                    --jp-layout-color3: var(--colab-primary-surface-color, white);\n",
       "                }\n",
       "            </style>\n",
       "            "
      ],
      "text/plain": [
       "<IPython.core.display.HTML object>"
      ]
     },
     "metadata": {},
     "output_type": "display_data"
    }
   ],
   "source": [
    "def get_image_array(timestep_idx, bands, region, scale, image_list):\n",
    "    \"\"\"Fetch an image and return it as a NumPy array.\"\"\"\n",
    "    image = ee.Image(image_list.get(timestep_idx))\n",
    "    resampled = image.select(bands).resample().reproject(image.select('B2').projection())\n",
    "    region_image = resampled.clip(region)\n",
    "    image_array = ee_to_numpy(region_image, region=region, scale=scale)\n",
    "    image_id = image.get('system:index').getInfo()\n",
    "    return image_array, image_id\n"
   ]
  },
  {
   "cell_type": "code",
   "execution_count": 69,
   "id": "502d9fd0",
   "metadata": {},
   "outputs": [
    {
     "data": {
      "text/html": [
       "\n",
       "            <style>\n",
       "                .geemap-dark {\n",
       "                    --jp-widgets-color: white;\n",
       "                    --jp-widgets-label-color: white;\n",
       "                    --jp-ui-font-color1: white;\n",
       "                    --jp-layout-color2: #454545;\n",
       "                    background-color: #383838;\n",
       "                }\n",
       "\n",
       "                .geemap-dark .jupyter-button {\n",
       "                    --jp-layout-color3: #383838;\n",
       "                }\n",
       "\n",
       "                .geemap-colab {\n",
       "                    background-color: var(--colab-primary-surface-color, white);\n",
       "                }\n",
       "\n",
       "                .geemap-colab .jupyter-button {\n",
       "                    --jp-layout-color3: var(--colab-primary-surface-color, white);\n",
       "                }\n",
       "            </style>\n",
       "            "
      ],
      "text/plain": [
       "<IPython.core.display.HTML object>"
      ]
     },
     "metadata": {},
     "output_type": "display_data"
    }
   ],
   "source": [
    "# For true color:\n",
    "rgb_image, image_id = get_image_array(0, bands=['B4', 'B3', 'B2'], region=aoi, scale=pixel_size, image_list=image_list)\n",
    "\n",
    "# For false color:\n",
    "fc_image, _ = get_image_array(0, bands=['B11', 'B4', 'B3'], region=aoi, scale=pixel_size, image_list=image_list)\n"
   ]
  },
  {
   "cell_type": "code",
   "execution_count": 71,
   "id": "9eb0360e",
   "metadata": {},
   "outputs": [
    {
     "data": {
      "text/html": [
       "\n",
       "            <style>\n",
       "                .geemap-dark {\n",
       "                    --jp-widgets-color: white;\n",
       "                    --jp-widgets-label-color: white;\n",
       "                    --jp-ui-font-color1: white;\n",
       "                    --jp-layout-color2: #454545;\n",
       "                    background-color: #383838;\n",
       "                }\n",
       "\n",
       "                .geemap-dark .jupyter-button {\n",
       "                    --jp-layout-color3: #383838;\n",
       "                }\n",
       "\n",
       "                .geemap-colab {\n",
       "                    background-color: var(--colab-primary-surface-color, white);\n",
       "                }\n",
       "\n",
       "                .geemap-colab .jupyter-button {\n",
       "                    --jp-layout-color3: var(--colab-primary-surface-color, white);\n",
       "                }\n",
       "            </style>\n",
       "            "
      ],
      "text/plain": [
       "<IPython.core.display.HTML object>"
      ]
     },
     "metadata": {},
     "output_type": "display_data"
    },
    {
     "data": {
      "application/vnd.plotly.v1+json": {
       "config": {
        "plotlyServerURL": "https://plot.ly"
       },
       "data": [
        {
         "hovertemplate": "x: %{x}<br>y: %{y}<extra></extra>",
         "name": "0",
         "source": "data:image/png;base64,iVBORw0KGgoAAAANSUhEUgAAAGQAAABkCAIAAAD/gAIDAABUF0lEQVR4XgXhSdPv2X0geH3PfH7zf3ymO+ZVDlLKkjzI5aLaVdXVRC0IKIIVQQTwMgheAREsWMMboHcsYNEBLBpwdVW3XZbLtmSlUsq8eYfnPtN//M1nPofPB/3X/6f/yxeXL37xZW1nNkzjvgubFduPQzv6RV6e1fh37999vztziv/yq594B4L6n715/qJppCSQ03anv3u4e/P8yii1myal/LaoNzU7T/M3Hz4s6xeFDJfb7JvvHn51+4CDZwTvJ3OaujmB4LHJyoum/Orq2Xno56iGyc4uvl4sFoQ5SJ4ywuXs7PvT42EeejchCFtc5KLaLotX6+sVr7wLu2kc3DzO/jQNBNvLfHG2ZjcOKiTwXlKeED7OBkcXfDSeTk4/fjwHJLY1twjv+z0gXGXZOs8NxJkoHtFs3der9WW+TR4fzdzbqcoQfbHd/OzVgnOGLLrTs4n+anHldDKs88jJTNysN3NCVusU0YsL+mr94r5rPz70//KLbdRiUbP1JO8fD6ehHTzH2Pz5mxvK5eLZcpFXd93wu4/33z/6ikkOrmyWh/Ysufi3rz777z98um/H5w1JJg7TJCQbtJOCjP6sjR0l7o2SclHRGZBlOZQ8w1aEBDSEyShztlNIv7h5cVWv++iB4hjP+ykJxtZNCYqdnVbGAIAocCYrTwGlbDe0O3MwOhQFyjKeYpr6ydkkc4xDstraoFqsBMueZ/WlvEAhtmZIzHtntBb0Zy8uZCmBIIxSq+PVssC82KygWZTHwd2qQ03lL58/TwJVKH+9qp+vlvuh7/Rx1tvZDzdygRPBCDbrTTgPnBZUckAGSJ4Qu90/jdZ+cbH8/OrmFz+6+f2uP3S7F4vmF8++NH6+lNlXL24YztYNG10yc0/yvFMsIkyZJABPw/AwGsRcb2xkhIWUcXS5XHGL2rHth+6pq1412x+t83OfgpKvG1HnMmdYO9gUTaLT6Fxn/W4+etNzIp0zKZCcy6YpCErH8xkIKoT0yY8eGEIeYUzZlcwu84ZjHJHJarKSTZVx5SNdrDeQYUieFPrLi/VyVUBCKAKNUZvj3e4AkX6+vKqqHLTiNB77Qc3x5aq2CA1OjSN/1izwipEF3h76v/7th9un84vXW0gJfDtqFTAsqxIjT7hclb3y6KoWXNj/6mc/+fRoT5N6ebUFSIUIAOtdZzJgOBEfEieiZNNx1inApOadGQMEQokH+qfrNy+XF73rjtP4Dx9vX24v16stkaU1MI7q8dyppHKRaEjBWWU7rZL3iVKDEbrOC4FFDHHWoWY8WwEkMSgXIaLglU/WUCfRKYw8iMtCVgXHgVDnPWgKHAEnEAiUaYkYWAOY52XuRw0J9aM1YaiEVM7erIoE5IdDj1HKcRWC+f7DMTr0YnMhKQAW67z5fFuj6EBN0xA+HA3BnIJ6OJ3dFFaLPGgE3l/WpdKqHUNw6X73SPMGsHFajzb6GWfArZ0n0DkvUEwRLKfldtmYHkxC4Nz946fMuT97/sWb7eev12aYjnftxwxvt1U9yYAAt5Z0iuQJZABsLEIRMMpYtS35rK3z1qWICM5FJohMISGU/FN3u+uMSVLiSNLduRsZhoZwspAoWJ84QREJCpzACFBykAhwtB+mmE5yuaICIZYwiZzyQRlI6UKw4+wf+5OgTAp6vVz/F1+zRBLQSPOU2un2fFqUZcUkFE3BTHw4CEaYl/f9uHmeCwpNkf27X379YtO8/dj9/YfHzbJRUPV+KrJMB219mL1OGepnG6dYx2hjnF3Qaazk6iajm4x6xM7zTCh6336Y7enl8upysZEqAmCBOOWIVwgTkAOdlKkZPgWVIpY0ZZRUMkfANbLezMhHF70NyCj/4fb8+4+7ZFyWZ4skszLHyAXHezO8HebQe4rlq3XNE6cACOwAQUBeAo8mC8N5Lg4kIhtcihEozSkjjJOn3gqOjXUMp8GxTvvFep3SOKsAkGmjfvP+4SevN/Mcq7gClmWUjJN+PE0mDv/szbPLZQk0Xi/KTvsJnRU2n8bTyYzNiJual41Ek1HeBJRFQmyIXfIM4cu87q0dlctpkjS7aCqy2Urgt0N/P5xb9enZYvtsuV7lUgAkSnmVJ8o5z07DwAkzbjFrT0jGqKOMZiw5rx68PY3z6Efswu5gH3ezALzZNjhnw6C4xXUuGi4D0G6etLNXEqkhCZ4osAQYQadACMhFyQCRRbnmuvfGIS549JYxkTy2yElGGRVt7yD6QzeXOU9AMAAQnl3iL07L05CO3eNsNRf4qKY3L1bbZcHIRS1ySBECf2iPv787P5yOmZRcrmIM0+SHQfGYnhf0OLJO2YQhEzhnZJ2zy2KpjOvsvGAFo/lG1Igyl8Im0U2REeR2fXscxmf16tXiYrtkhBPhLcWSYVZSlWf09rSftAfCWBI26WkyQTmagFqBAqt496OXsiDyZllMJr1/7GSBkESS40nHwSjBq9VyEYAlFihYB1UFPAHCgAS6fFZuGORI/1o/TG1G6WFUvkEBEkFx0LEUnFFCGdbEWBLOu+kwt18hLJarbbN4/PRx1063x2GzqEKAn7+++fMf3wB3dte/O7bnzn738DQ422NTSIaFEa5QdjoPNoVQZ6vd4KZoOE8IRYFIScoYBJe8QVgl0nnlFWkIi8QThNf19sWyeexOt/3gzHBWhBd4QYtKMBexRBhHKvNs9hTFnUpOa2Wsm7XlGGQmcsZjgKvFBQbGAWQmBzdzkU+Wzk4RQDZNhJCVEN4GA/rVcktBObjcAFjoDYgEzRYkgq7PEU4pPp373o6v4QJDeOxHD/Gri+c8Sw/tUY70cI7f3O33bStY/lUpBKd6RqMJh/E0mm5VrYK3ED0QUB797vHxw+4cIsaSm5AIhGQGxCgFaqxW0f12R3o/RUogYgN2xmavxiUB4YvZkMHOJzBdTF9UzU1W5FkxBMGF/NmrFz+Ose2GWRuAxDFhbGnBaZiK5CcbFrnAafnY9RYPgoXLdYZImQzgGGwkhOIQYkgBoSRB2jKxmEorOpVCIiVH2tvbcVqUEtAlBUqAeHAIEAY9gY5gJdCcXzQ/nq7/8+2DAb+bpuSnT6euLlkmX/XWIoQma7vzxFgsMzZaH7XzKh2nXuZofFCQ8hdrWRTl3WFoP+zPg7mb9RgC4TiGefYqmChF7ZMjGQkWxik4N3Li75UuGXCBIi0HYxN0dc5jJlAy3BDQOhX1oqy29eI0hmj9CUEl8dVqFXya7GxAa6sKUnBaSKa09QIhSqGSmRQkRX3ohmCD4FklaBRVAaEf5107cZ44JsM4TdhEZFSIS0kRp0frZqfB4/vhREF7OA+wWQEkgADnDo7v4M3XcFm86TcIJRfwsW2bkqoQkfa3XWuTPXfxNJ6uXlXbolrm2baqMEZdmBSKKUKTVU3BvrhZYZyO3fnT/an38eE8t2rMS2Gs8jQgxCyPQJGNnmEISHeOqgCD6hOImhUR4yR9BKL8jLE3OAnGni/ry1XFRWED58L7aJwz3qIYgFFWUnwe0+Dm18uskpyQ3CjX6sOH9jDYiJLyKR7mdpUt6rLIBQs+DCYihutajiGUOSvs8HQa93qmiVJWMOxWBaxijXFJEdD7p8PNXMDFGsCCx7CsIJbABVhymIZcomiJRRMT2xB0r8kf9jtGcAoR+2hCkJJSRgkXgOVkg57cqsm//uz5aiWravH+4fF01soGTTXj1ipDUowseOsxF50xiPOCESAcU2lnlzDBhLsADGFOcSbFBlUocRAs4wVB4Wp1VRWNkEQkF4kzkEIg46wOY08terVdMUoamvmYnI8EABOMUihJ6oN2CFKyBBODUu8VQd7q4EIgBKuEJzdIWjNgC1ZoF5z3NkTnMSJpIbNXTfWqvqDjFEPtiY8wM/vhE399Aa8vIHrwqXee0+Wzkgs/WYcyniNKDt3RWv96e4EieujO21QwCyAEsMpOyQHa1pvXl0vJ8d2x/3Q+g2eW+d5YpxInNAZKibSxbY2GZGTgHEuCEMImyyAlbhNTKKSUGsJykhWMZcC6GF5tb0pJKcEQ3agiYjkigsZovOtH1fZTRtjRhEGNmKAczKoWeSa4oJ+vL581l6/NOCP9fvckYNr1s1JRFAWlnCKWZTTPE+5jhFTlAscsIL3XiHCSaJqjwYo84nmZG3pVSlLlcJpATUyacD8Q7yAiyOizZfVy4bVhIl++P3UY8KrKhxEbpDfV8ma7Iik9Hsdn10UhRPT2XdsSbNc5McG9fxxUPyUfbPSt629NF0KSiKTIlE5ZnjOKfYzbYgPcjGrElNAIU4hlVkps10y8XixeXK7AJDOT6E/LDJFEfUwhCR9iGwxmEJNX1kx6lDwxlkVnghsfuwEjFMTzMoWGsWVVpklRFUoQP6pXY70u87Oxk8C5Ntb7Abk1p4kA9cEwwgtZXBDsYBrS7I2JKM1oej96IJjW10vIEiSXeoUunn389u385EgQn3+2Li7rr+8//9XdvULufr+7Wq2umhoFJhcLjGjwGgKfbHs8u0dWZ2o697vLvFCT+/TY3/btMqdFzs7DydoAFiw4GlgIeuwURdnmYoGwX9WcYTg5r4Kak+2d5kmscvp6tXi2vH61XnOSg7OTqxgpvE93g2rVkOFEEjjA2msXnAtAKUtgRpsQYggowol4MKk/KDE7bIN50kbS+HK1GDxjKNOptXMiCDnEU3T9qCXn1tFz20rOZKKEuGgijViT6CLyxt3aJwqjghnBgqGSgzKPY4988fOfrCljoGJVspTU95/6iP2qrEuZDXLuxhliLHlZl7KpSowoE27fhslamsq/e/vWUSKEUNENrd7P7eC9RwkwciTSkCThc2vFBjaLJcOhZHJZb8Zx/7v4iBDkgixF1uT5xWbBRQaSAZaFpuCBh1C5YIIPzimPxqC8swiCI+5+dBgcT7Btts8WNQBjFEeStZMKETHksRkm4PvW7lVnw5hnK8mMdTa5xCRfyLrIxVPXD/bjaMgMyYa0FsVs0+BOyDMDcVkK/E/v7/7+/S30FlgORFGoHZtklL/77hEM3q5WCUjOY8b5U3v2wYCj/ThsFuuiyM+zMRqiI03G98dzQmF26mh0QJHSkKI6j6fB6DlG6yNCCAhheZ5ta0vV0+O+YK4WCCeoSnF1eZVnGcLosipWRamMndQIOAOfgDBACCJAwpxQCjTENFg/K0UIQESd9ufpdBxGxvCmqKqsthGeBm2VJQlngiTMmaBNnmk7aTPnrNrIqpJikW0+W22eFxfbssoBlYxk9UoxohIJAE2eFZyUOMsYYcQDYHp3Vtq6Ktu9WC9HFe66XUr67GcDfTsfzRh+8vL6n4uv/tPdD20/kEReXzcpDSypc4e+332iKf7Zq9cJi8hDUKCJznLJGLiopMCVzAwiAL7Tc/T2SlRS4jlp5Oj+rG8f2mfbwrt4HBzD0lvSzfOsDcvywU8fDw+rfJHXJaQIVMBoTTDR+ojgOJtRzQSwxwLFsGRs5gXGEHF9GNp5Oo+eOIS+uFgu8yoml5HILp7FQJ5sd7MuSypiSgzRWqKUsHbhNA6jd4yFZVa65HOeMsIJYMAmJD96hxHCCWhZST2Zh3N33rcDitcLeTyxqpZ3v4GybonOLovqxfZiWcJ//+3t7f3pv/zTHyPElLIP7d5as16uWCF+uHt42g1nFbzUnIrJRZQsCLGp6wbibeiHw6w0soJxR0rGfN1YEg+zbTQbnG2t55DayZlI9pO7Ym4M9h+mg1dvf/nVZzmlABTiFIydlPVqcnqOwVKWzWYklDZFfolIMJ6E0E9usGmwzoXzLbDiRUWxgKQZJpjQV00TER3cNM6z08En0N4HSN08TlYBSdZ6ZyITsM1IZzoVlaUWkVixbFMw2lR0GnGvQhT5T97UNBQKvqUWIlLv39s6j2mKL56v1nHFikO+6FAizvnT1DMOC1G9WGwmbb/bnY5as4IqZ51XKppRKwP1YlPHELRxq7pYS8IxTHaa7EQE266zBedPPjyZYbJpSbAOMaeZcbDXljPUTu03U2yWy1+IHDIBGXdKt3Y6q5EzhLAkGAPjEcUpoFxSwAwAB+8SlJJFyZotl8j4OSSCsQ8xRetRQN4O2mqnPXCNEsaWpGQhHiYTve/0PDkVDKx4LmVeWJxleSGYNbqbHX1xU0dDf/t49/q6vKiqcSZ/9uprTOt/+6e/+M0f3p2mUWbU9PFhPGWQ0ChNUjmFioltsyDrkCXy6dzftq0jfikyIQtP7QLx3ghIWKUQUFTeliwzMmEEgNA0WbCBeQh5zAgxHmGSAEiiBmOMUFDErVmOE1HWvts93NTLbSSAECM0J+iAEia0yQoKwSPaDoPSYyXyRnALMRAos4JSIImggGaHdHA80RDBWeMFii7O3nuMMAIB4BANzjNClLMmzJiEkkkCESMkZHkV8booKMnP05ycoc2Lr54N998e3laoPJ9D6x4+W30W0iCXq8t1245aa/jbH26Nd7NJqAjaOoSkyFmVScTiw/3x/WE/ec04TRxXnEQinQWLLEJ4Nq6SdJ1lybLEgCAAwwtSIIeQJ4d5el6U25zfz6rzAVO2IpQghiObnEOQRhy/PzyuF8tavhIcZCZuLheexN64nArA6DQ6rT3irilJLcRsCPDAENIBKTU7CBSQ8ygEAwgppGIAjJikJAJzISUMHCXgYk3wlSpOI75cZQRKSIEi11tw1PiEkVUEkTfPNtTc7RXSq2rROmU0KE/eHp60VzVRJE8Xgn9Q5zUio53vj31K4cPtgWUMKOm76e7cnWc9+4kwSABDnCiWODIbgUUcYrw/dCtZIMkJxw3iFhuBQJCcBBAIWwKTspuStCicRyV5himVgEiwE4RoyBTjGMyH9u7Hm8stlSgiibLr+lqowfuoox/NYLxfFGXFchRpiNElGI0zMfjgODBEHELEBReTCwjjxDAhAUeGOCckIhRTiZKlOPviMjONRpSkpOfZa0SwPwcdPSHXTfmZ4JQx+le//YeX61eXyxszj4fz/rt3+1eX14GwTfX0F9dfvChvmt13FJW9V3PQyRntTTWXtGSfenN/PPKcEoQxAs4Q4RARY4hx6lHOz9po5DqlqWLbiwwDCxEz5pInhZBIuCbnCceUgGI/u8mHKBIqsuKyKgbr3/dnSlHwdLdX7tUEIEOMyjlEUJlJrbzXSTJZLHhV5VQwr7G2U6v8aWwlkxIJxlEkGOMUMUoIS5QjShCKOGHv02wtIq7gWUwxJJcBIkxA8kMgCGvwtFgsf7qsBK4WWd7N0w/7O7oV9ZvNiuds99A9DNkPWYupSFS83izh5RJG/Tp7sT+cxbncVrWZ5uM8EFGHaGNIWVk5bBDCQCOhKKfUBO+QThiH6DVyBhBJqIypjJmhOE0hS5xkpObsAMpH+3JRhhCedLQIH7QCEHUeny+vd/34A+yNZSj4FLXyEUJyKekUk3GnyWs3Q0RAEaCgvLd9ggS9Uh+PetBPq3zVLDlnCQGi4AmOEZiUhHIcg5jdNIeJMrLIK8m5sZaTIidhmpN2k+484hKwsx5J2axE4WJ8fz59Orf0i1eX/HoLh/HiorrYZJ2ZTpO/qGgpGzgN/5+/+pt//vXr7cV6W1Vfz5v/+Nvbg1GIZdZNmNCyxI+DdilylMZZyUhdisa6AhUCCeR8sCYiSIkOY5AN8xELRDLKXTQ6+DHO7BSuimKF8+j7Bz0CZqXCOpGLpt6cs9t2Ioyck73thlerNSYxGhus2/Xn09iGgBQEgRNDS8GJEBQTflH6UjxvMpERGr2PDPFEOUMxIYIpjSRCEixueFnznGPsUjAhZphyXgU/nkfno/NAJkg8S9ucBOe/3T28ax9nNeNJOTi1v739A2QOthfLvIIIi7xApTdju14uhnEGZ2DdLF+9AWIlT2elp6ABg4nOxDB7HzzjLHM+ap2mOVgVBKU3i+alLKqAs5x7sMkGSq0ssPXz+3Gn4nxZZDiQ4NlFsVoLHn04u/lej799vKUIfbZ6KRDrlT5M44fzfjQRIsWJzUhQDpxKJIplvbja3Dzf1otMNjxfVfn1qnq1LGsmgw8JgkgohUQDFZRa8DoYRGNOq4JkkJAL3rmEARunHrr2Q9+dpu6k5tPcWdWdu3gypPXTJ7U76YAB0b/77v3/+BfFxToHyCHDX79YW6QJjn4OOc6fb9Z/9+337t3p3/7zz3kq7sZTTasP+9HlHhOwwSKPR+2RmytRM84QskVWZIQLkkuOWJH1auRAIgJgdp2VEGRIqBYSGfqcX9As4uCXxfqXz8Lt2J6jHpX99v7hUpafbW+enQ9Pj8N50t8+3f/s8ubH188EC2UiqdoscpsCDQThkDzCLrjZWBu981giEDwYRxKOIcUEGIiLkGykDEcSnA2cQwDEIg2BIITAeSSRHp23HiavOMUQ6azPp3NaNYulKIYcntdL+rFrJzVvf/wZtATGQDYXn/X6YXDf3T6eBv1slR3HMw6y7adTu88oa+jlD+I754MNkeXIZ1RbyBJ/ms0GV6uK16IkANYBJ1RnkV+LEphymDJGAg6+uxbFl8XrT+eDcWqbX2ZAGUc/vnr9i8PuV/tPFJPe6/fn8+uLmx9dvH5/2j1N82N3+rvbt7UsF0Xpg4WAgsfeOeediSggjzxOkFBAgGwCFBPF4ABQonAYu2G2dZnXXOgUAsEZZgEFICn4RBGlWG4KPNrAxVOEgCG8Xj1rsuap14xO2joX4oVsBMG0yKCf42pi9x/fVlKUC5YSKZuojsgFkCJ783Jd+MXFsjJO/Xxz89C7qhEoMOvDnEzEluNIAxYcGHYilBBTxNTxPpcbpIO1DCWaC5TXfOz6ox0RpVuyulxeDMNQcbnKFrOfORW/fP7ljLQySXljsT8O3SLLL6pmP+te29/cf5CI/vTl85o23kbnvdFGm6AwohBzxEAQAIIRYAQCicDQ5LULOES6rHCe14ACGCCUBwjHXkdwBPGmpDgKkqd22h/GFiFxs+JfPruelHnqVGvs7e7ok71cXD6ePtLrcrlYwt273/364eF1foVHQ0JFm9TurWZBEPoXv/gL8AF4zBImmJ7t6dgFhXDkI00YKANODAqbbKOSNihRiN4b6/yYHOWIUYQDAwgqzoaqx/n8NChBszeb1fNCEswRSpyyGMPn2y0iX+4m9/Z4387m7fn0p7n4Ynn5MHWHWX8a5und+904/fM3P16STCcXIUVgNEWGsQMMPtAYMQZMccLWm0gwFjQrVpJRRBBRzgUEIcVOm313UNEyWkwx0Di5HrdqQBHeXG1XRb0qs3ked9Np1P3uPAqWDnActKV1JRbFxs4zl4ezn/MIBYIfPu07NV+vm/vH87N1BTmox+O96ndGGRvuj/OgXXNJmjJnWBQyWyKKuH8cj4PN/iS7aSRqDXvS58xlOFEp0nHq9317s8o3Of/t4fTtiV+KfLHcECIgugxnczIZlz999vlra3EkP5wevHfg3ZfXr3fW/v3dx07rNkwfh3R9Xsjty5hQQkAlIprgFGIMJoYEmOGEkwspFwVQzyjCc1TOkc4kh2YMANajyHiZkyQ3eZ4QeTqd2/EcgweS98E0fvzuQe/VHIKOgVZ1Zp07TceUMGUgIIDMCcRwf95fp/UE4w/7JwHSzuxe3U7/FGqBumkOVHuNqcELgjXG1FIzA0hHMoRyWjLMB3rXnRrOfra+bKqqC91ZH5eyAU6IQ4f9sMrRlbz6TRrfdocfZU2TFU0uKOaMMCKx9THjZUXST68DStF4c5ztzXL5p1c/ehpaF/Vs/RHU2/unHKpNVQBgDAA8xYgCxJBITBhSwJFSQilYZ10H0YQQsZ6mJGVgJPOBEgLbuhKkzHg4qNkolxLFwM/jeDgdG3zVDcdAyWKxKCfA2h36vZlnixOtcvGw2//T405bZV2YpjFmoSToOJpvHz74pFTYkU5dF9vg0mOnW9DbTZN5kpLTPllnIYtHNglOmlVxjsMfuo/E+y+uLiSjjyYmYzKJXm+W60KiCFf14uf98t4eW6fariMBSFY0OAjMEQNvfUj+qs4TvJjMGFIIaXy9XPx0fdHNk42ziuF+bMXxkbObuqxQAEq9twThGD2efO+BEJah6LGnEacIMw5YOxSjsV4IQXNJIDpP0mzU7eNh181zmBAK4LCNthEogTi42Q3hkxrDNI2TOTpjXbQh0E1V//3v7k9zu2oWSVhGyGWzvMCX/9H94Xhuz8q8QeSL1cVs3ah1NyiNcF432CftnTapdd24U7p3e3GuY15jGRDbKUXOey5IQaHBqESLi+LiRcHP52OeyC+Wr9e6zkhmPdIOYeoggbA2MYK0TzgRjl5uNygto1OM84tK/ti8vJt6e4yz1ta7djh/kuxLxguR2cR9cJ4mgnmdBcKSiyIQQyKlFPJIB3AS0bzKI4COapwJid4g303qNLaTcYCMd5hz9nJ7JfJy1OOpn459p4OPnikI3tkYEwZCT7190p2LKJH09eXqYlthBr83Y0jBBa7DfJ67P/vTzzeC/jf/kKpNQRM5qfk8OYkTjgprl7wXCfVORQFblOXAIEI3zF7hSvCbMqc+7Y6DSIkSBkSuaoawiDhwQrQLiIQYCUTrKfEQpJTI4wwiY5xn3Fk/ar1tFr949maeXQ9GR9c7tR/7i8WWcaJMYhyTSBAJmahmMLM5CyNixjOOU2IBYSmimXUf5mEw1tsUok1usDGkZIONMda5vFpvCkZ//+l+MtCbsdcGA2MkCkIl4y56FCn9/vaTpPhyI10UnUefv9zEe3W7e2+tijFEgHxJjqd4AqNR6rV+NF6Zac3qTVHedhM4VPJyVReTUt67ZVbmkgVjgOAUCJlIr1zKxqrkpJLLik8zaZUpOc8LSRGx1qcUfJzbgIK3gI2QmODcJ2AxRsYFJz5aieHVYrvbHB8m005jN54nZZRRMSslZRZM8sjjYdIzBpIzJjFnAoWEPIQiCz6BC1pDIATAu8EASZq5dJxMQPFqsX6+XXTG//ru7mk84CScTVo7TlOAlAErWO5CQCHQv/j5T5uSn8/d7w5PhAQYyWRM6wZtSAwACWrK//7DXZ9mka/++vcPH3f9z7688tb2PgTvDJ6wk3GiZWINEotYCCrmJCIQmxCJlBBmE1LOUJ3aEB5Pg4n2xaIoCww4BkJRsCqFYDAjCAHSCvICfDLUCcKAMowcH7xjDF/Wm07di7rJUJgs7uZ2VWRLWQ/j5JPLuWQYZVhgzuYpIOeNCZgnhMmxm3bnMZEgJdc2tlOnfFowlEuyrhZ1vhrn7tvb+8dxyDOurXdxQgxCwiggi1KJiYpoxog2qwrKXCpfiXocxv/2H//GW3yebHBKZhIs3O+U0jPnLM0nILqhzLn0oD/9K/hn/8Vf/sv/19/+9W/fv/XGVgWXiMUAMSGOCyCpzGgIACilkNRgVZ8e6Wx1YBS1lGLKlhIxQkOiTkXt5oS9mcEHHMGZaI+Jr4CtWea9Pxhlrec5K4sio9kfPbsZpuHusNu3fX0hvAutM4lwRojyKmqtlfVI6wh05jrY0/7QzZYIkhdZUBOO+NUik8XqpPvOTYfHd6epVz4tmkZbd1I9Sp5yBsmKADY6xZinOIRAAQiogaHwR8/Wp5b/X//mdlJKO61tTMxSDBhDJdN+toHoF9vVq/XiQZ1uyMX/9v/4vwQM//J//s/+N/+L//0c2go3gTCvAiYzEBITRpBjjCOKBJOIkTdWz86HoD0gSMpDXFZFASKiDAWL8X52xqjc8qlXn+YnNaNVufjpzdWqEBVj2NEILHhw83y52FxUy1M39LrvTTNFeJymfTtTQYDSgpPzbB77Q4KIEvJAiFZTijkSi7Jerq88ptoN57EzetxPp/OkERULUfiURmNQsghRSAkMRJQ84IiD107HQEF4AEYZh0auidC+Pw0TptBGj70VCJeSjC0c+6kqBE3I4m4twn/1o38DGAAAvoccp89+fF3YQmQEA9Ha62CdSgPMEFlCnAuGMLbGuxgAIxxjCM6DTYAoMMAOS4hno5T1CM/ODsp823azatmQW+r/4vLNusyzCrBLqF5+tFaHeYErKXg7DgkDgDdGEZQlP5kRBkkf+6HTLUnI+ISA1CJfFvyrZ9cX1bYdu+8fP707HiIkimC0LgKSkXR6PhtFU8oI9xAhJilERqmD5JGfkHU2UDAGsIypx5gB+CWvQwUise6wd8iVTGSWn2AqJTIh7WPnDbrJG4rfhd8Ksjj/3/7rH776crmVq4BjxChCJExI7DBNEQhEb32MJvoAxmuPLaccIhUoz7Ck1GU0M5ZMjniHsgQGUx1NjfGF2H5w/Xmc/+b9t7kPP7q4vm5WAliR4e2immaTJF0W+XEeWaJFUax9hZEcHTpPrTm74B1NvMkjNvnN5WbbXNV5goBvH2+/fXra920fIiTng+M8LyV3elYuKOcXmfDY4wA0EcapzKQyw6EfRhoXJFHQCijBNAfETBhfX12wA9OTywhzGG2rarOoJqT3nVRgrYHxrB/64X/2rz8ndPlX//fvHswomdSzYxIzzHCCLMMECsaDiaRTMx698mCDVs5gnCaVGHIx07nIOSUmBR8jYi5fFZYhZMxs0cEMNg4LWq4b3vnuh643ESsXXjabkvBNvsKx0wlK3jS1QShs8kq7+d1xfxhaBySXYlNt1lmZ8ZpxlHF+1z797YeneZ70bA/KnIIWhFCEfBICYZQipIhQZNSlRAMkjAjGwXs3WJh8UCkIjwMh9MPT9Oq1AFJDGgWSm2r10LUE0evV6hCGUmZfvlr47803dD/v1X/+/YNW/hdvrv7s330B5LPVv/+HIj9zti2ElEzmHM0zeOJjgs745L1z2ETQ3roYCQgUkw4hIN8bUpuwihQztITCEBECIMFOofPGTs4N81zm1VfPX8bgvYn37fT98Os/v37x48XNqi7zXE7WLstKCBoCphoFl7pRl1n+anOZyaLETBDUzdO+V/uu+/3xoM2RYgSYGeQiOO8QwyAIJd7ZiGaIEYLzeE6BE4QxMSFw4mOMAgHBlJGUHKL/4bvvXm3/GDZb4Awu8dX5cHfmT+deJ885KSTjtFhk1Ti+3e18UZRff11+vXn+f/jf/ep/9S+6/fz4ql45VwCLMbpW4xiTc9yi2ClMIWEcE4ooAXEIkpkdYMBZzmKAftCP9HxJylwUlJGsoJFCH1XS+rLMNnJ7tV692V6oGY7D+E+Hx18/vmt7Fz7PfpHxEgpJAWhyiB7GqSChYdlnm4umLEMi2Kneq908Pw7tqR9bPQQUmpxGg42LBCj2XvmIMoIBIRxptINXODGIWIFLjuTUEuJtStESgkhGE4bIEqHJOcAEwEBIoHx7Gh5Px9tp7IOiGbnt2uYTfH29/mKR67H/fLWpF/nuof2De6z+cNfMDeFJoDk42kiECS1qlAx5mFwIppt9SCFFzzkjiLoATEYMVHIEIXRDN5oexRjXQgBteM25rIWwJW1EtmT5ctEIJpO0y4B/1Cwf+4uP7embT5+uZF6tqCSod8F7rccQhZuUD8h/PO13pz2hCJD42O5Hax2KEVvhMRd5QGmGQDEWBFOKAeOYQgjUAzIuxZQyHDkCiSEk5ELyEBDGIuJLkU2zc4hRRtP72zv2brfYZsXVpuAcdH72BxzBT/4Qp/9hVs7jX77+TKfb3qEPPwzvPowpI9uFu8YmK6wzex/4q9Umr0J0pJ3GY9uT5CESIIRzKjlHMfUGOZ9o8gwxi+lsDEOs1RqPYxaltt5P2jvDMQPEyixHmCoXXPIm4Od1+cdX13fD7etFs9qUHlPkQ/QIUCnF6Yfzfr+3pEizso/DnBVIImRiQBSRCN7C6F3HgvSUe5ykZFlhg5p8SMHaAJyjHOGQAiGIBRIhIYyIRwGRgtECpRQjBVoKQR/Ow6/0x4Ttn7CXn796sc0l4SBYAJfPUU3WWWNeHMr/6S9/9vtPh//h9x8fdz1Q8rNnl0VWKc3ePhysmTIshsTwkzFKJ5lliC4KWsuMYJ5x7EicZjfOmuKYycohFBLxwWETx9Hi2E+dQhxQ8ilEzLD1viB5lgglyGk1j9Yg+Mnl5Z+8fv35xZol0U4zIQElaLV6dzr/sN9TIhjCEUhZFnWObSAXcRW9G8fubCmC5Mcw6YRC4gVkuRgm572NMXJMJSGEFxh8AJAIM4IRgCcEBUwQsjEklzDlAhE6zErn5RfbzSXagHOd84gjGgtN4oXMb30fE291KDL8r3/y5W3f/2qOE0LTTP/TN78rQ40aoDhDiJ1nM88uOXvDi+u6zAqEEUYYmRCHuR/mcFYmQMr9kAPJmLBRK5MCOBY9ZDkgmnzQzmWZ0E6fSTtMpCwziZDgQcdUC7bmSxeEt0A8Sz4a79+dPn2/v5u0eb7JOBE9m0sQmciM7RrBI2PIakqwsdgMyUIQDLEQibcYA00BgHBEUIQck4RdAsgBAwmTTpOLFCeaGAIRURh0GpKmIQaj/WWZVV9dgvfD6A7d6K1FCCkgzqcCiejQd/f7v/yjrzhzW/HhH+92v3p799Sdvn7FnmeVoIhSglCQGAFkFzXLBJuDb9U8z2aetGTcpPSH3d3dsWOElXLx/HKRQ5KYsUoUWcakNM4kHyNBZz1ro6x3tcwY5TTLZ28TFYxKIAlpRSmnJT4P8X5oPxzbLujX65uLskwGB+7HEI6zAmJlVllFgPQeHCAuM9zk4BN4Gw0oArBAQrMkE7bemgQYUQ6OIO+BBWKcsoxS7KlzYCGaFF2MNAOqrJOCw3IBj4e34+E0DwRQSOmkO+XMs0W53MjZJyDoz/7488vy5v/8H/67b+6earUYvf/DhwMWcF1toksmmGCTunU4HM7W7oeOCXpdZBmW+3H4mz882H4CinB+/vSwZCwtmvyX+c3z9QoTTLAnQA6jGo1LAIWEBc4HY5hgC5ExTiQh42wcCxcZO0/207mbk76qm1WxuCkbZV0blLHExsFOClHc8ynYoEJMEUQOGSlSDDFoAoA95sQxzmRINCbtcEyYiJgSNgCYJmQAJWKBTzGllCKhHBFBPH112dgB96O+CgZypgeVEo7Ms0hixFLIKiuquuKEB1AkWz//uvjXh2f7vf2n++59d+gOU72V3ZPbdW0MAVz8FSd1zjkSDvn1aokBTt3D3dPZnWYgCRSLyT7NOzD+kyB9b4/79PXn1y8vSkoxpBFjJFCmffi4fwIWP0OXL5pGuxCij94jywbsn9RwMoMDp5wDj5wxFJjzU4pGIIYp4IC8iUKKnGLsMyDc+8kakwKmGFDgnOQp6pC8CjFhzEnAglgNzlkXUoqUYiqBAwIsiUPOKpMxSb/cXPyj2d1Ohy8fniCgyblNxkbFe6wzwTeBBeefjo952pz7ZXm+l5L92c3N9OeO/NZWT2t7czW5+Vd/fQ/6DEVeNAWvsoKLaXB5gcGlD5/ujrsOrIOqWBWLMmMT+FEbc+whopMafvPpe0+Gqvxiky04yyKyGUMGuUkHbXXRU+xiikkCtZAQ6PUYRuzPg9pNh36cQ0J91X118WqTNXmgmHJWUOzcwdqI/Gh9FwaJmMWBFJioZCfvo3KOjN74CCSRXFKgeHIRR0RRASiqiBDBRVVGb5VPOrkUMEmEVoWoFvzhpP79P/4m45nzMRcsyWB6iDOOxB91UIMBhX+3WJQYaip+9OLix/PLb0/qs5f41z8c/99/fQ/jESQT5bbY4pSCt8H4CVsRkh2TB8FFU3x+tblaXJVL+PjUPp4Hw3A0hApOGL8/mL/+/ePNYpbcN3xVNXgRkMLo5Hy0/sN4TiRsM64CH9wJCE/UqtPxrMfRTBElwaM2dl2W65g7H8CC5iga12pvnBlssBFlOac8WaQCSjGRblDHeeacXDYZzUqH0FOv1wTnOWOJa+cWpZCoaL1OCS9oY8XkraEnPYMNfzgc/+PDpw1dUEYIwggBi7F1ofNKa1vibPT+m6f9j7fl63UNDFkU8yINR/z//U9vjx8fgXOoZKRT0DJnUuaiyQghPiHMTeZx9vLy4svnm6LIfNIxLl5cy5ovQkjDOCHKKSfB2bcPd9stpbSYj952M+Ei8NT3ZyTxzfKScdlO4/35DBTVrBhnJwHltPAQ6sSI7jBhkXEXQoh48t5HW5VCn3RJuYxSIN7158kECtwZxShmgk/I7oMlIRDPLnlVEeoBRaDB95OxvTYRTNPkS5E9Wn2aZ/r3PxxOWk/OP05uQKeaIhJ5VRYZk1yObe9npymnc7Kdmd4fyVYkh6asmOZh+m/+w9PD04NclFIwUeY0Ej15vobLCyqI0LM6tZMMbLUpP39evbppIJJW+xeXVSOXTbYK3BwP2Ww8QtwlP5Tae/O7+x8oEuus5Km3ChFEXm+WL8pSz9o6SIz3Y6+DMTFUWZZhBsjkJFOR3PW9FAJHFFJChNwsLxiDoKBhkgRhg+2mLGMMcd96yDEWlJ3mmTgYJy083KxygsVZmVM/DlpTxwVCVc4KzHHIJvVIA6IWjy5GHwMlIUY02MgTFk45Q513BaZZ1pRcfLZcLvhCw3gYxzvNloCTizkO/+7f/GKBKyRclpPubP/pXUtkyIWQAbvgCllcXC2bvNqucV0UyREgqMopARZRzAhbVFXEBx9NIeQ14X5C7/GBUS55JjJWW4YJIYDudh1gDyHlBIxOUpBXizUmaTbehWQCTG4ChOsUQhSSo4XgGDEf/GW9sl57nKaEny3xKU0nN+gAOHpKyZJlLLIwR4ttcDEkf7/bd2qSedHIoqIIBB+U7/0Jk0Qopadej8oHCiTCnILEmGAw3rsUUYrLsrxeFTywVxeNMWRTr3KUz3Z/1uiPf/TsxxcvccPGp+Epjq9Xy6ezCgw9nMbHxxGcq2txs81erouMFhlG3tnkUsVJlWchYmUmCjTjyQ0Qsdvm60VehRo0Mo/tNMY2McxBUgBzzkKgBs9mmgxERihOESHkEiCCOKIJkBQSeRI8wQRYECFCQNZYiyJ4kyIJHGMkK6ZU0gmH5BPkIAhgFx3xkIC2vZbclZICFAGhktMI9Knth05xlpZVMTpDpWCjMckjrQKIlEACwTbgQGIt6UW9uCpzZW0w8aj19uLy0+P4qM7YkLoRi+VFoObrL8qfieY5v/h91z6dzz7ox7v+oT9eqK1l6TOJ61y246Rm22SFkBlExEkgOWE8q3A+W08F2xRLhpGzmAmRZxNyLGnsCA0k4JAM8sZqhjNGiA7madCzjxUXgMAb5FEqPMSYZOZzxry3/ZyMDaOzi4xZ4xPCkoAJnkUmvbB+JAItZDFFpVCugwHnepeEbF6ut/vxHDGNCH3c7+9PZxqZ5DineQJHf3L9+gfy8X03xRwvc7GIPCVGBcUx1IJXnJoUDYT9PLV+vH1kp9M5oHRV1YnxTmuLJzOVP//sarFmay9+9uLKhfjtH7rVqgTl5yEpbeQi3lxKSWTGMuV1TDbjmQ9MCpIT+XxVh4ScBkNMCAHAZpgu1/Wz9aLr1dvTXqRIMF1wyfPiOA/dPEqaA8MI2Gi0Vxrn0rMYHQ4Igg2tMd6GeTJIQAxZP/YVbhzXM8LI40aKYsbBIchow2qOdMDRU2S99jYXRX1ZLyXJv3m6PZ0miLzImBQYE5qRjP6bL16y5O7V+4rSyyZ7GReJxsvF5v3TeXZh9qYdJ+uM8T5irybrtL/aXjUF+u50qmX97DI/nM3DYU9g87BXz54tvrpZL8r8w2CPu3mmY0zB6nizKJf5MiDv2n4ySBkfUmxQlTFuZDVbBdQqPdvoEJBMZE3FF7I+DBqHGClgAiHyfdd/ajuCQykwimH2sbOqElxg6ucYkkrJtzPsvaXUYZ/VXA6dOquZLjMWUfSIphiYYIjM2o5hLGkJOHmPQoTZhkY4q72UQvvgPZY8w2heZhnhKaZZSkH/sD90qXcQNlTmhp6U+/KL5ufbZ908+0lzCqfeeoQFFCMM1gRr/DKq3pVLwYvCHAZ76DGkrkeG03RRlp8vnt9Oxn762IjsaaDJB21npWiGx0Ry7aPWxnrNOR5m4WBw0XoXQoghmBg8JakuFoLlu2GYtc5p7mMywYxaDaaPCGqZHayarSFW0TxFkP08ewcxoYDHaMSEgpuVZLEMiDES5qjd5JOMKVBICQMFiozuvPI8xERaGzhBGhlI8L7fhR30zhk7b8qK86bMiDJ2jNqpQP/bb75TYWYCIU+HXk9hlG1Yxeazpslyth/mCYWLkn9V3fymv306tx55alCTs8XquSH0n969P02tilTx/M82X7x/PA7tu13bFQiVRcYSn1WgOB16FZwT1IxGa29H47LARwPu5CwKggrKIIbAKV/mOOPUdmM/DcfBnsfR2kSJ1xGYRE3JUaJROZ+os35RFvPklHNAMfI+pbDOa4xO5zNBLEYdPCSacHTeIqddLASNBhMAlMJo02QtIdgHS4EUkZxndzBH1brWpJyJRUk2S+YhUJ84kO/vBqqsG1KUnGhnlU8BiR8+9b569z/5oz/5tPePx8Oy5GTm1Wvxr65f/9qf3o73JvLfPO7frMxiJS0KnmJEaLTw7rz/dLz/xqVCZJssn8eEG7pZpziNep6HSAyeo7PdbDuYMsu9Px3MFBJ+vliVOVBFivWaYfF46KZxGib9m91BjzqXuY0+ANzAluRce6OmySe+LMoMiYOaHASGAaHAkWS5jWNMCOFkR8UNuOSxRyx5H7T3CEccCBERgrJauSS5wEABIefpDONTOycTuMRVVnDiqM86Aw7QeVCPpzNtk0UEpYScSRzwy21FgL3t7v672388Kl3y7Flz+d3dU+vmnzfb8xZiOXptT9MUl6uunU/9qAAgpE2BHqb+oL2Z3c2iyUL00U0qRAIQqVwhFoFYIhj0ZvbKjzb1zh9AcyAP03ANZY7F+93j/jgdz3qyWBl13/YxYUbHw5P5ox9fCiJ2gzsPQ4jzTbmVWd5rPxoNECgRiCCCBadEdeCR1QZpZ6nwuShQTMam2YUojMBUEF7yslMDQt6aENIckZTEJ4czIvOMG+wRIYJyE8nkRqvteZwXdUYJg94EoFGl+HxdvVquE+C3w+HXd+dK0lUu+7FDyH26O/QP4/Wq/Gyz/v671jlcZ1zinGZ7386bdfFque4n+9GeMIQV5XWWuaAYjkM/7bo2ndmKi6amHvNinsiMEIqMYEgJiDdeP4x2d3i6fTqNPWSMFDQfvQaHgSA38aap8mJxHh0trQewiKlItNUxYB2xSyYHDI6zVfKGjCEITo01EJEkIoTgXIiYWhz0aJeyBIwymufc0aBGE62LbnRQEInh1bLBiaqgU4qIsIQlQKdn3yq9FAUVkC/z4G2MwQqMvfGBs+vl+tyeEE3eJc8JKUU3TpqkxNGVvFgt/amf3j49vb68vGqa084/f1b8+Nn6/mz+cLxDc82kuFjx94f9Xa/HnqgUcplGH5lD2zK7KSpjUatdQGap84ijden74+nDbWt7oIxKUnuCp0l5jcpKSEl7kx4eHwq2GDs79YZRgpc2S0xyZpIF8MawPvjk0dO5N8GwJGIKnDKUiHHBo0QBWRN63YUQcykwYIHxYG0gkQustDfBa+M8sCXnwGCcjHamzI319rGflfVllqj3UfJ8n44U0lVefbm5/qfxkTmmIlQ4ZYI8W2SvMD8+wvazXHcDSv7Fi+XwwX06nyRjLKHE3LmzH1l3Tv6nry7HR3eYVC1pxZqn09PHBwUMygoIAD7rN9umRGyR54TG3IgVcnurvjuc7t9P9mgAeNMUq7o8DCOy9GIrUeBEhC+2DQT4sDtMZhRxUV8wCO67/cO6zFJKy4x11nzsj/gJdSO72CDq6wlgnccYvYsREnXYz9F+aAc56KriGWK35340OiBUUyowJT64EHvV5QKCCZNS1iRlzNvb0+440SwGH2g3jdZNJWY//+nlm9WFcui+bWcdPMYoIggsBvqTxfV7MZloXZQxJmQpD7zmxWysJWFVy307/uMQIsU/+9HLixfoV59+gEO6qIufvqm62R1UmJKjlkSh3nXhgi6Yx4xyTPG7o/7usfv+NE/tAI5snzUXy0Wvp9Gcn10826zl49MoGyYQv93vBz9ebxaFKJ009w+no9LXZXi2bVJAPxxP745dGWQuMRBhUghJkySVTYdezcENetwPaoqa8JAspY6Ng4aIgUbHSF0VEvHZea2sIFHg6FEY03z//nz/eKJC0AT7caJzjAuekYwyVr17nFu3m0db5/xVfdX2KiWjTXt/kB3RIShD0DJbnU+jjobWfD/MyfvrbLO6IrE3H/Vw23762foVcDtO6eT1V4vrx3U8vL13wDhiKDNGhQerpHCjCh+P51/9sJtGBTjBHJrr5eevqmOvj9Nc1/l6TZRRJ9M93UHllGH+1cU6k9VBnU+HIXPyclNdigyT8IfH4fv9AMlmvATmUGIzzKP2g+5P+/HueII5AVbAOOQSogYVQGGQGEopGDHB92rkyY/eccKXZZYTfPR6HtQ3H08IgADGhKYAlNPkCR5O4zf9By6LqkRLXiXA26zxJp1Gv+9CC/eMhTyrfRgf4oQL5JB1QzJK+YjFglxvVudhoig8HvWKTX/88jW08owPi9hk28Niz+7Pdt92mtto8LvdRHjSo1GtAo5JWSViERLPttlTPz60imO2KRuM4n03qtE3jZACJ8vGPu373eQMEJxlYtOUDNi73V3bT5A8INz78CyXOS0/qKfbjwc4OVAA0UDCgBAUEVoNaoaEABIwDjg3MQFY7fHsSfQJEqKMdb1DyT8cHWiLRSQ45DLLAGhIabIDUZhuss8uVg2XT+WUsfAXL5afNrxtF/th3Fs9jDph++LqKkOMlITcUZXcpqyViq0ZzqcIJLsqxF5ND0O32bwYyCiF1LO7KNnrzaYf7gxeJtK+/Xgcjy0wBAggUQASjAYar5/VVMjd+Snj8qapRYXf7YenxxZ5RhZ89GEcJo6YLJlgYjKG5qjI0Mf350+nM2ACQAFQVuPtNrvft7fvnqA1YAAgAQKQDCQGVEJ/hgCQEqQAkwZKgSNgHnKZItXRYq6+//Tp/tOJ19QlAjxiwVCOhzhBSPRgDR3Nj7KLz67Xl+tVjnmwrIrp+cWzdDw9nB6aptyQ8u3dOOPxul71fvJzBJberPMqlh87dT+dyl5cYlpkK5/Cu6c7a8PNcptBeuqHOsu/vCrXdXG3i//Pb87jyQKNwCV4CsyDtzBFEGiuzYPr85w9ryuG0O1Dd/+hg9mmPO0PrVcGfGKrDTgM1kgsMiHaXbw/d5SREKEWpBC82JCPbffp4xlaDzFBxCAIMAGZgBpg9JA8JAQJA8LgI3QKpIQqgymeWQ+cDR6Gxx1glpHc2hGMC4LN3hJHGULUG5UFsmwWF+WqEByF4GeVcvr24fzY9fvuNBu0WTVX1/WnR/XQnvo4ByVscgW6rhqxjK41sJKyLnD0et3cGINO3fH5ohYin5NOnROEYgbf3n60w/D56wuXLSoqDkafT51RBCgVJRWUFwXFRA6neJ7mwzBDiIApaO8HBwyxUlpnlfFNJjdLWbD04ensqCswLwr6R88uA/c/6P7TXQ+Th5zDHKDMcFXRPEUM3jlIDhAFHMFjQBYSABWQC4gIZg9NASzBYABnFzfV3EdAADllDEUHGWVNnlNE+eWy3DQCUCKUKM/OM0jGD2GmgmGg++noEXxeXQPhBzUgQEd3mIz67f27bV5pm2jECOGvNi+GefhOD3VWdSF9nM4vY6pEjEyAmlN0v/jR+qefX66bIoVwe2j/9nd3uaPZBa5LVlaliunYt0+7ru/BBwcpAiEQEugACJOyvNjUAbslZ0wUdcmmTg14bAQvCPtss6pE83E4PJ4mUB44gLcADKqsqjnlcWAGdhp6AIcAEaAJkACKQGLACABBKcBZ+DiBSbCg06h0ACAMI5xcQigxnBBBtGayKcvr7bKWufHBJnO9lnVR8oqdP7UJ40VWJuZDmD9brR/GkQocTbKeD35m2FfFhqWq3at5PZMMP949jaf25fK1wf3u4fz5yy2Q7IT6OqDrz5YaNIpZk+XPb1YLzvrRlXWmjTt38+9Pc5qTm1DwESABSkCh5jlZZE2NA/LWG0JonhWEeUrEQTvEvWACl8hG/XY3Ht3kUgSfwAdwCSQXQmJKpqTsQcOjgYhBYmAIbISUIKSsLsp6iag69cofBxg9UAqACWFVrtuziTGFSHNB5km3ytKFJCLSkGQUIqjp4+Px+lnNOXncdR+eHjzCN4tKQyiBGET68SwNkxxuqtwSSTxZLcq6NOd9+9f3332xvMxIces6YZSMUBCKLH2KDxxzKrgKseKF9UHHaZHJr15cMRx+8fqq09Nf/efvRh0X2+W25p7JrhvbeaxzWZB8tRA320U363ePU8SeZ2RRlMYhjywBBBBiSo9u6pWdnQPrQBtQCYSAmiwXuLfGDQjGCD4ABYgBIgEmgcLyYvmXP/n8bx8/hAn8bMEYSBQAwAelLSMx55nRCnACQmYdwHuaMIxG97q98NXgRhNmrxdPc/vN3d2oJ4bJKrtZZjBNboiq5JIwHqypsrrOUj/G6MyNXGzW8tZoo6IouZT8dty/KLI31zdzhNve1BQSBZJsAsYz7I2fnQUMiYbT5Jar1Z999fJipQiT7U6F0sdA+8F750zwsuSLRXVoVVPtunk2AAKT++Gg1IgjYZiaKQmCkopOaYAIqIClgJRA2Ud7hoQ5ZQFbIAwyDKSCyoOBsszevGju9sfJn6PK4DiDY4AJ8ATBu8lvF7WNoNLIKTbWQdQQEb0RtcPROjv3uvXTPNnd6SQkParOWJMlPGN4tdx88+l+15tCAIne+6Bol+uS5VAw/mxZhkU2PR0/dGe0FG+uF/MQCMMK9FlpDNobhBOBSM52FETUEiUSGY2Lbfl0PN73T9znm0WRZT4Een3d/PGzNyknf/ub9zRzy2L5sJuPx0O0imHKBH88dHf7Y3CRUjIZaxz0Kdp5hsmAJMAsIAEOAxb1BlMnrdNWcVjIepPnNDvNT4zwy60cx6nryPPtxe8+nCAAUAwcQ9NklDtMvA6HYQSEjAngHfgEBOiL5auz60+9viydyAUJ6andv1wtM09shJxJCOPTgz9PygQ/dvNSlnW98D78fjetL7IFkzMzj/fDvjs/W4qb4mZnW8xVoOh+GrzzG1ErGxMknCjDKSKjEqMWA01WhU8nO6VeErUqZIPEVZURT/fdIcs2VOCSiL/44rq7MUAN/ZZ+as9TNIddpwbrxjSkiCXQlOxgIEVwAVICwiEaKHEmGNOEypgzMQ5OcPG8bs5qrmhRCVERzhLafJaryYAzkHPI6PObrZCF7vvzpPdDgOCBcEgBCAESEKK0KgOd+Md5uOuexIxccs7H210/hZAJ7BC+P81nmAmFjKAwc8OSQGnJy4/hMRvUxeW1df4/fbgPXP0UfylYQE5hjBdCFA5GNjeiDnSkDgQVIhMYIaNnkryV7Dy3CkwM5GQGQF4QkVc8L8m7rsfapuielJ9capabn1wH48npH/t//Pbp42M3eQMzAQ7IU2sIWAMYQxIQASSGZDGuG8krLGmNtDEFpW9erX/+5vVZnWpRSjKPSlsdu8l/d38C7NdX2zc3zc3qIlIetR+d3Q3t46nXZlbGASEcAQFPjUWzURyn+/2uFlJFyyjLOdYJTZYkGtU8aUYKRLQKKviV4MMwNVt+3axs8jb47jR1btgKMRo7DeNuVCEmllBAuG5ykfLcmOBC69UGoZJkA40SsWVd6lkX3BrClFe9Vl8sc1JRzrDVdnc61UKWAn/38XG1GFkFq6YGJyrBXl0t21mimlBBnXNP0QRSAXVgoVlLPBOH/Ofby+fPVhdVdRoPd/vh8z+5/Is/fnOz2Ax63WTUqmnXt20fv333mDP26vNnv/z61ctnF1tZOE8SSufJnY67bz90v9vdmeAlbnJprAP6/nSvtGbAZ6tXWBJEcCQvVleMtN+1T7WQzoVE3KTsUbkQ3TNfnbwzxzPyaVLm37/72BD2erH52c3ly2r1aRoEJqdZ381dmeeNZQZszoVCVgyWJIRzyV3fj4pi5qyQrJQC5iiRj53X46l/MBQDyZGIPiFObtuTin5dlNT0Xz3L/8Uf/XlI2d1wFpB+e396d7/7wrlZ6cdhKkRxs+TvPvqvf7L+8y9fLYtaZmJWy1mbIhOZzDQ6A7KCLjDPr8u0Zejlqv4XPyUO+6uNKFnxbLFGWEYclPVqWq0vWv5DeHwoZVYcD4+Tc/S2bRn2EjGKkI6JEWqRBqRe1euRzqoF5MEzP7kkGMdAzhAF1W/vH3HihuJ5fvj54uX/+l9+8fLyBdhw9918dbEoMv342FqtJ+JzSjIiKaGrQiIOgznNLrTahHh0HhyNV+UiIHTs2sdxzxSWnG15XQiuGXDOlEncxf04e6+XWX3zbPX1xc1dfy5l8/LhLT6/Wiw396fu03HXWX9oz2U9/Yuvnr/crIWIPjgaGedACDNhnk1HEHVuPs69t7IR/JcvXheS/3Dq1vWCYm+VLyvhEwbirOsul8Wfv/nsfX5UZnATF0WgFBJjFAOKPnZReY8QjZNKCg/d5Ppp9pC8SryAL6sLJpJLwQRyWYfzYE5OW0BOAPJyHJz246eH7ua6vCrqsVYHNVQq48Ws3CRJVeRMExjUYH0IEcbgCEJgfQggMOWYBAwhghtcVXpBiAfXW8uoHKyaBnSdL25+kj48Hb5VkdV4yfIvmsvqUrz+8QsI8fzp9OuHjw+Hi7vz4XlTX662no62GwxJAbxythtcTvPlSk6DUdpITgGFHx6fnt9sX12W23Kt6fTrX99SlklZzAYPLkWWrq8vpWCfHmJ8Zn2qaAwsxIQcthhjH3Wwr/iyM+bhfGpNRFhwlqgJhRSfXV9KGRmEp87Q5dUfzg+n26dnm+WLVfmPHx4G913O5Gnu+Ckurp9frprTx741xjMRdEhUFZey5oyHlclcmc9jP9pgg49nd06OMExdChBtEgRxOkciYvARq6TmdlrRgmcyY8vgxhF3ZCjtfOwH/cXrEtxr4FLk87JML+WLv88T9/jZSpZ5qZvl/XnoTJymDuvT1fLm9cvqN29/aCeGEm2y8qxUb8fnq8+0p8OMLM+PVvMYBosY5zQShJKmRGbwI9w8u7qkCVx0LGHEMNbGT9EftVe49ShxngpB87zopqFMTBQu6DhqgmgsKZ1cWjfFv/z8xZ9fP/vN/uk1vizzTNLSxJASbMrVRWM+3j2abl9W1ehdUGD3PgWyriTnPALRFkaH6xkIII64dTaiUACKQRNeZiw/mfmKy9bpKcAQnZ3OJtl9a4siQiRP5lyfn704nPMlvj3eHnbTantRSPLxqfsC6W2x/m3b3T/tgkiYyqJkF1tMLBuMRghyRi+brU77959ONW9YHmdjZJZPypkICfsY0YIwTMZI7T6Cy/CPXm1ocBgiEGR9igZHjPxZtwzLjFVJQlNllWDBJI/sY3/wZ7y+LqQn+zHM2hQsK7F4tr2ORVz25CFaYJ67RJMqRPlitfh0OhozF0BcmOcnm9KYQsS4Pu20CxpFUnEiI8lyihJS42wQxkADCRmx84xN0Mv6QhZUBhEo+fikdmpiKaVItXPOkI/3Z+W//dmLVTtoIGXKMekYis5HeDLnx+FpVCYwyAONUbazNvg4n0HFEOPwadyzCsUJftg9VA3kUjJCU45w4ghBKfwGx9mg3x1VpOFNcxUmRl1KKjhEk4XYZIvRT1EFWUiWAFntjZiCTRFH8Pt7/TDMm6glIofOM4jY+R+eTu+2j8aR/9/7DzFp5yIOqQI5JhMTWtbZ4Rx9TEWW5QhhtIwubov6vn1LqOCMzVYTDCJyLkgmqVExAqIIz8pMxsbg3w/jT17WX9bN/+PtDz+0x5TiCksPJFEvMMwptvP0/afQabvktU1q0C4GvB+PDzt0t1ee4knpVo8C5Z8eHJNhdsohO0zKo/Tq8kVZrGdn6GwQwwLnELyPmmR4TesCtafBjKEVSOYip7mjUqCTVoEUmYS1yLB2J997B4wR5PA09IcELjiKWaJBG/PD05gRedT+zaouGGvt8Fe/+SZjXMNs+kg4tiG+O3cVzobZ9lOagxNxXmU1aKS1YykwiFervO9ZQaFTQFjwyFFEFqKQID3Ryduz9ikAJPxpOn4ZM7po8kxqFDjGY/A0OhwREAUJjKU/mJ4ghNnMes4QpYzcPrZtcMfTmTJmYrJ6yJnLOE0GpTwPPkGMyqnRWM75rExUI1CMGIoRTIAVBsrn1nZOKczpeTB3uhVtohjhiFECJBCpSnTdXP1D0Ds1XTDPJfdeu4ArwrwHyzWh2Hg3KM8zVnFaLiri4zAZHfSyWuxZp4PnhJ/VmcyhH8ZhioIiHEkwIQZkY7Dgvu8fq6yss2CjzwSLyftgMJDLZe0DPHY2aBCEG2RUCILIXOYA4tni8g93h+CMchYpelNXDqr9rAhKIoZGcghymiJlmGJ/mm1v5/PkCDM08UTA+Qg8iCgW9ZoFEiYX/RxxEkSQEKYwUkAzNQgyzH1Oio/t6R/evn08d5YC0cnl3NKahhAjQSXPCU0k5j9+9RmvxD98/GQTLTEhxTJj6Tqr7vtxdh0GiomE4FeoIIhflvnzrA5xcoYGySpW/M37t4tcYEzaQWMkyioAiikRZbBktC4oI1WnzzxFwaF3YSFZ74MOnlitdAUszsZxlJV5PsyuH2yDzV1rAn6Y3QwuuRg8hMHMp0Bj9Cl5ZFKIQQEbsDNMMRRx5AHNViVASClfSCKkLAE7SLO3NwKvxPZM53FiJvjJaCoFRRSATXNv58e6ziak7k4nNVtMoOLVq025WZQ1raiFEBNdN1WWGYLxy8ssb56/fzycrQ4BoxxiCKjia1Jc2erytXjXH344tDzgkx7pPfu3/+p1nb/87nEY4ljWyw/D/WjwZUPPJxcplGXuojNmnnW8Wi7XrHABASSevCiosKAs4Mi7lJRTB9X6MXWj26zzSrDDyAEHiO7jYX/Xt/08neyQAdiEsLP7rg82jSnkJC6kYIxP02AAVk0WCQFLc8jIEh+PHngUiOnopgEbZ9PTabteIkwYxvun40j7vFlwRM7zaZonDtAN7O18rvL6xXUVwZasyLhULp1cTwURGGwh4EV+1cdoHdCAS446H4cw+250miZyWFDGebaot29w8XjwQ7ANoZsmswjU6D/0rQm9gHCRX96U/mZd/wBPv93vZM5WWb7z3oYJ0MZHOqihKCVRFrtECMfSYy9w8siJ/Twb4xGCMQGNE6PoZV1RxtRs+m6etEUIYgoEcM6pCuxkBxcjywXNBQJhfNDO8Mg0Bp0sZZFTQaRmCCkde6v9DFyIY7fTrmuqC2em2U2Qanu4p5BrpLvBSoHSrN6N4+cX28+2V5GW4KAdBkqkD4ZyQnKMNrz5o8+v/+nt/vvd4cVFviqWb8+zcd5iX4j07ulxmdVfXKR+OoSIvlwXdzpIxJZl9e398U3VgBu7zi5L9fJqdSVAJceQEDkXUmQU5zTrvXo4jWMVkPM1YOvS4M8eEKGMSypH7IE7P0YftlWeIuzOmkDIWWldGoPbhQknXKA0WccJk4sMHK8iDx68h5NyiXsjgKHkiHPaEeJTpN65nJHgwxhnpVMlFkDjufM2jiFhY1zw5KSUi4oxO1s1zg5jD4jMs5aCbS8XyIk36yqGjOPq7Dn1NmFwH4bzi7YRjJ9mfbyfYjB5SJ4kiEgNAAJFY4uMvVle/939u6tmWSzz+4fD7fkB72V44b3Fve/ziGt6ZRL6/fmjcfZltV1ltfYIkxkTPjmVrC6IOJ5iisGm4H1oCM4x1hHNQeecAKkiERQTHxyiToXJmqQAzxHR6EiINmLOAAJiKdaCKx72ygVnC65nh7f5imeVOn9qrQdtlU28YBbiZBxHQmbl0e8xnifn55MOEWOMRq10SpRgGzyKSPhEJFnJalVlFSlCChKyKP1FIczU0Kamma7uz8ffvBfrPOvUdJ6GJa0NRxnOcgQ+oc9f3+RWXFT5plq8XNeTo9jrssxu292gErDUKWujKhF/4MdqUQQjx9SnWT84GzEGlxpRFiKLbgjJzcY57yJAcpiSmKK1EDBBhIhANEqEAZVcxpQYSUAokNjMIiZAMWSMIhKtAZwhMNEFjjNSZ7LOLy84v6zLGNNJZI9nrKMWFBOMtHF2ioRaJFSJiiNy+3FGyXFMI4YxBIAoEkkhBA8e0TeiXmR1xXnQsWmw9e7Q+VnNnHtaZcvtin3THTTYXuNdO3uI/dhFZAOVNjos0P/os5d/cvHZr/fvf/P776sLaajzO3RRLEbLNbptJD/G6bB31nQB0SXTxus2GZFS7jNIwQM0gr3aLnqV7vYnE6O2PgGUknCcfAjG+5hICpFispBZnS22khyndh67XIo+OUmtiywFKiTiLKUQnIEEKZoeiNyuFy8ubhYZTy52Y1fktMmF0UqSwrq5U5rG5DEblR57NdpzChCASMoiWA4YJc8wSZTo4KL13tnFFVozSWmUqWxdRNE0jTSeUUnpF5urj1ZjkJ1TrRlJhiLGkcFuHFCMqyKPgbJC7D5035yOP9k8DxYoZmWDUGd2k2ut+8sfPd+z7s7qq3z12M8Sc4GoA4eYcT755JUW+9MUmPOOWm0CDjKhjEpOsHLBQhBYMM6Ip3kmluvF9XLxNJS/fednbQmN22LlsBlDFMQDCgGDj57wnPNFJaabYskjNtO87/qnbj9pFTFb55I4pudU502S7qDU+dQjjRGBTGBjA6cIEqU4BS9sdCkhzkiAtFeuOan1VdMsM63mj7s2l6ul9een/v8P6YzARYescnsAAAAASUVORK5CYII=",
         "type": "image",
         "xaxis": "x",
         "yaxis": "y"
        },
        {
         "hovertemplate": "x: %{x}<br>y: %{y}<extra></extra>",
         "name": "0",
         "source": "data:image/png;base64,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",
         "type": "image",
         "xaxis": "x2",
         "yaxis": "y2"
        }
       ],
       "layout": {
        "annotations": [
         {
          "font": {
           "size": 16
          },
          "showarrow": false,
          "text": "True Color",
          "x": 0.225,
          "xanchor": "center",
          "xref": "paper",
          "y": 1,
          "yanchor": "bottom",
          "yref": "paper"
         },
         {
          "font": {
           "size": 16
          },
          "showarrow": false,
          "text": "False Color",
          "x": 0.775,
          "xanchor": "center",
          "xref": "paper",
          "y": 1,
          "yanchor": "bottom",
          "yref": "paper"
         }
        ],
        "height": 600,
        "margin": {
         "b": 10,
         "l": 0,
         "r": 0,
         "t": 80
        },
        "template": {
         "data": {
          "bar": [
           {
            "error_x": {
             "color": "#2a3f5f"
            },
            "error_y": {
             "color": "#2a3f5f"
            },
            "marker": {
             "line": {
              "color": "#E5ECF6",
              "width": 0.5
             },
             "pattern": {
              "fillmode": "overlay",
              "size": 10,
              "solidity": 0.2
             }
            },
            "type": "bar"
           }
          ],
          "barpolar": [
           {
            "marker": {
             "line": {
              "color": "#E5ECF6",
              "width": 0.5
             },
             "pattern": {
              "fillmode": "overlay",
              "size": 10,
              "solidity": 0.2
             }
            },
            "type": "barpolar"
           }
          ],
          "carpet": [
           {
            "aaxis": {
             "endlinecolor": "#2a3f5f",
             "gridcolor": "white",
             "linecolor": "white",
             "minorgridcolor": "white",
             "startlinecolor": "#2a3f5f"
            },
            "baxis": {
             "endlinecolor": "#2a3f5f",
             "gridcolor": "white",
             "linecolor": "white",
             "minorgridcolor": "white",
             "startlinecolor": "#2a3f5f"
            },
            "type": "carpet"
           }
          ],
          "choropleth": [
           {
            "colorbar": {
             "outlinewidth": 0,
             "ticks": ""
            },
            "type": "choropleth"
           }
          ],
          "contour": [
           {
            "colorbar": {
             "outlinewidth": 0,
             "ticks": ""
            },
            "colorscale": [
             [
              0,
              "#0d0887"
             ],
             [
              0.1111111111111111,
              "#46039f"
             ],
             [
              0.2222222222222222,
              "#7201a8"
             ],
             [
              0.3333333333333333,
              "#9c179e"
             ],
             [
              0.4444444444444444,
              "#bd3786"
             ],
             [
              0.5555555555555556,
              "#d8576b"
             ],
             [
              0.6666666666666666,
              "#ed7953"
             ],
             [
              0.7777777777777778,
              "#fb9f3a"
             ],
             [
              0.8888888888888888,
              "#fdca26"
             ],
             [
              1,
              "#f0f921"
             ]
            ],
            "type": "contour"
           }
          ],
          "contourcarpet": [
           {
            "colorbar": {
             "outlinewidth": 0,
             "ticks": ""
            },
            "type": "contourcarpet"
           }
          ],
          "heatmap": [
           {
            "colorbar": {
             "outlinewidth": 0,
             "ticks": ""
            },
            "colorscale": [
             [
              0,
              "#0d0887"
             ],
             [
              0.1111111111111111,
              "#46039f"
             ],
             [
              0.2222222222222222,
              "#7201a8"
             ],
             [
              0.3333333333333333,
              "#9c179e"
             ],
             [
              0.4444444444444444,
              "#bd3786"
             ],
             [
              0.5555555555555556,
              "#d8576b"
             ],
             [
              0.6666666666666666,
              "#ed7953"
             ],
             [
              0.7777777777777778,
              "#fb9f3a"
             ],
             [
              0.8888888888888888,
              "#fdca26"
             ],
             [
              1,
              "#f0f921"
             ]
            ],
            "type": "heatmap"
           }
          ],
          "histogram": [
           {
            "marker": {
             "pattern": {
              "fillmode": "overlay",
              "size": 10,
              "solidity": 0.2
             }
            },
            "type": "histogram"
           }
          ],
          "histogram2d": [
           {
            "colorbar": {
             "outlinewidth": 0,
             "ticks": ""
            },
            "colorscale": [
             [
              0,
              "#0d0887"
             ],
             [
              0.1111111111111111,
              "#46039f"
             ],
             [
              0.2222222222222222,
              "#7201a8"
             ],
             [
              0.3333333333333333,
              "#9c179e"
             ],
             [
              0.4444444444444444,
              "#bd3786"
             ],
             [
              0.5555555555555556,
              "#d8576b"
             ],
             [
              0.6666666666666666,
              "#ed7953"
             ],
             [
              0.7777777777777778,
              "#fb9f3a"
             ],
             [
              0.8888888888888888,
              "#fdca26"
             ],
             [
              1,
              "#f0f921"
             ]
            ],
            "type": "histogram2d"
           }
          ],
          "histogram2dcontour": [
           {
            "colorbar": {
             "outlinewidth": 0,
             "ticks": ""
            },
            "colorscale": [
             [
              0,
              "#0d0887"
             ],
             [
              0.1111111111111111,
              "#46039f"
             ],
             [
              0.2222222222222222,
              "#7201a8"
             ],
             [
              0.3333333333333333,
              "#9c179e"
             ],
             [
              0.4444444444444444,
              "#bd3786"
             ],
             [
              0.5555555555555556,
              "#d8576b"
             ],
             [
              0.6666666666666666,
              "#ed7953"
             ],
             [
              0.7777777777777778,
              "#fb9f3a"
             ],
             [
              0.8888888888888888,
              "#fdca26"
             ],
             [
              1,
              "#f0f921"
             ]
            ],
            "type": "histogram2dcontour"
           }
          ],
          "mesh3d": [
           {
            "colorbar": {
             "outlinewidth": 0,
             "ticks": ""
            },
            "type": "mesh3d"
           }
          ],
          "parcoords": [
           {
            "line": {
             "colorbar": {
              "outlinewidth": 0,
              "ticks": ""
             }
            },
            "type": "parcoords"
           }
          ],
          "pie": [
           {
            "automargin": true,
            "type": "pie"
           }
          ],
          "scatter": [
           {
            "fillpattern": {
             "fillmode": "overlay",
             "size": 10,
             "solidity": 0.2
            },
            "type": "scatter"
           }
          ],
          "scatter3d": [
           {
            "line": {
             "colorbar": {
              "outlinewidth": 0,
              "ticks": ""
             }
            },
            "marker": {
             "colorbar": {
              "outlinewidth": 0,
              "ticks": ""
             }
            },
            "type": "scatter3d"
           }
          ],
          "scattercarpet": [
           {
            "marker": {
             "colorbar": {
              "outlinewidth": 0,
              "ticks": ""
             }
            },
            "type": "scattercarpet"
           }
          ],
          "scattergeo": [
           {
            "marker": {
             "colorbar": {
              "outlinewidth": 0,
              "ticks": ""
             }
            },
            "type": "scattergeo"
           }
          ],
          "scattergl": [
           {
            "marker": {
             "colorbar": {
              "outlinewidth": 0,
              "ticks": ""
             }
            },
            "type": "scattergl"
           }
          ],
          "scattermap": [
           {
            "marker": {
             "colorbar": {
              "outlinewidth": 0,
              "ticks": ""
             }
            },
            "type": "scattermap"
           }
          ],
          "scattermapbox": [
           {
            "marker": {
             "colorbar": {
              "outlinewidth": 0,
              "ticks": ""
             }
            },
            "type": "scattermapbox"
           }
          ],
          "scatterpolar": [
           {
            "marker": {
             "colorbar": {
              "outlinewidth": 0,
              "ticks": ""
             }
            },
            "type": "scatterpolar"
           }
          ],
          "scatterpolargl": [
           {
            "marker": {
             "colorbar": {
              "outlinewidth": 0,
              "ticks": ""
             }
            },
            "type": "scatterpolargl"
           }
          ],
          "scatterternary": [
           {
            "marker": {
             "colorbar": {
              "outlinewidth": 0,
              "ticks": ""
             }
            },
            "type": "scatterternary"
           }
          ],
          "surface": [
           {
            "colorbar": {
             "outlinewidth": 0,
             "ticks": ""
            },
            "colorscale": [
             [
              0,
              "#0d0887"
             ],
             [
              0.1111111111111111,
              "#46039f"
             ],
             [
              0.2222222222222222,
              "#7201a8"
             ],
             [
              0.3333333333333333,
              "#9c179e"
             ],
             [
              0.4444444444444444,
              "#bd3786"
             ],
             [
              0.5555555555555556,
              "#d8576b"
             ],
             [
              0.6666666666666666,
              "#ed7953"
             ],
             [
              0.7777777777777778,
              "#fb9f3a"
             ],
             [
              0.8888888888888888,
              "#fdca26"
             ],
             [
              1,
              "#f0f921"
             ]
            ],
            "type": "surface"
           }
          ],
          "table": [
           {
            "cells": {
             "fill": {
              "color": "#EBF0F8"
             },
             "line": {
              "color": "white"
             }
            },
            "header": {
             "fill": {
              "color": "#C8D4E3"
             },
             "line": {
              "color": "white"
             }
            },
            "type": "table"
           }
          ]
         },
         "layout": {
          "annotationdefaults": {
           "arrowcolor": "#2a3f5f",
           "arrowhead": 0,
           "arrowwidth": 1
          },
          "autotypenumbers": "strict",
          "coloraxis": {
           "colorbar": {
            "outlinewidth": 0,
            "ticks": ""
           }
          },
          "colorscale": {
           "diverging": [
            [
             0,
             "#8e0152"
            ],
            [
             0.1,
             "#c51b7d"
            ],
            [
             0.2,
             "#de77ae"
            ],
            [
             0.3,
             "#f1b6da"
            ],
            [
             0.4,
             "#fde0ef"
            ],
            [
             0.5,
             "#f7f7f7"
            ],
            [
             0.6,
             "#e6f5d0"
            ],
            [
             0.7,
             "#b8e186"
            ],
            [
             0.8,
             "#7fbc41"
            ],
            [
             0.9,
             "#4d9221"
            ],
            [
             1,
             "#276419"
            ]
           ],
           "sequential": [
            [
             0,
             "#0d0887"
            ],
            [
             0.1111111111111111,
             "#46039f"
            ],
            [
             0.2222222222222222,
             "#7201a8"
            ],
            [
             0.3333333333333333,
             "#9c179e"
            ],
            [
             0.4444444444444444,
             "#bd3786"
            ],
            [
             0.5555555555555556,
             "#d8576b"
            ],
            [
             0.6666666666666666,
             "#ed7953"
            ],
            [
             0.7777777777777778,
             "#fb9f3a"
            ],
            [
             0.8888888888888888,
             "#fdca26"
            ],
            [
             1,
             "#f0f921"
            ]
           ],
           "sequentialminus": [
            [
             0,
             "#0d0887"
            ],
            [
             0.1111111111111111,
             "#46039f"
            ],
            [
             0.2222222222222222,
             "#7201a8"
            ],
            [
             0.3333333333333333,
             "#9c179e"
            ],
            [
             0.4444444444444444,
             "#bd3786"
            ],
            [
             0.5555555555555556,
             "#d8576b"
            ],
            [
             0.6666666666666666,
             "#ed7953"
            ],
            [
             0.7777777777777778,
             "#fb9f3a"
            ],
            [
             0.8888888888888888,
             "#fdca26"
            ],
            [
             1,
             "#f0f921"
            ]
           ]
          },
          "colorway": [
           "#636efa",
           "#EF553B",
           "#00cc96",
           "#ab63fa",
           "#FFA15A",
           "#19d3f3",
           "#FF6692",
           "#B6E880",
           "#FF97FF",
           "#FECB52"
          ],
          "font": {
           "color": "#2a3f5f"
          },
          "geo": {
           "bgcolor": "white",
           "lakecolor": "white",
           "landcolor": "#E5ECF6",
           "showlakes": true,
           "showland": true,
           "subunitcolor": "white"
          },
          "hoverlabel": {
           "align": "left"
          },
          "hovermode": "closest",
          "mapbox": {
           "style": "light"
          },
          "paper_bgcolor": "white",
          "plot_bgcolor": "#E5ECF6",
          "polar": {
           "angularaxis": {
            "gridcolor": "white",
            "linecolor": "white",
            "ticks": ""
           },
           "bgcolor": "#E5ECF6",
           "radialaxis": {
            "gridcolor": "white",
            "linecolor": "white",
            "ticks": ""
           }
          },
          "scene": {
           "xaxis": {
            "backgroundcolor": "#E5ECF6",
            "gridcolor": "white",
            "gridwidth": 2,
            "linecolor": "white",
            "showbackground": true,
            "ticks": "",
            "zerolinecolor": "white"
           },
           "yaxis": {
            "backgroundcolor": "#E5ECF6",
            "gridcolor": "white",
            "gridwidth": 2,
            "linecolor": "white",
            "showbackground": true,
            "ticks": "",
            "zerolinecolor": "white"
           },
           "zaxis": {
            "backgroundcolor": "#E5ECF6",
            "gridcolor": "white",
            "gridwidth": 2,
            "linecolor": "white",
            "showbackground": true,
            "ticks": "",
            "zerolinecolor": "white"
           }
          },
          "shapedefaults": {
           "line": {
            "color": "#2a3f5f"
           }
          },
          "ternary": {
           "aaxis": {
            "gridcolor": "white",
            "linecolor": "white",
            "ticks": ""
           },
           "baxis": {
            "gridcolor": "white",
            "linecolor": "white",
            "ticks": ""
           },
           "bgcolor": "#E5ECF6",
           "caxis": {
            "gridcolor": "white",
            "linecolor": "white",
            "ticks": ""
           }
          },
          "title": {
           "x": 0.05
          },
          "xaxis": {
           "automargin": true,
           "gridcolor": "white",
           "linecolor": "white",
           "ticks": "",
           "title": {
            "standoff": 15
           },
           "zerolinecolor": "white",
           "zerolinewidth": 2
          },
          "yaxis": {
           "automargin": true,
           "gridcolor": "white",
           "linecolor": "white",
           "ticks": "",
           "title": {
            "standoff": 15
           },
           "zerolinecolor": "white",
           "zerolinewidth": 2
          }
         }
        },
        "title": {
         "text": "Image ID: 20250713T114349_20250713T114350_T30VVJ",
         "x": 0.5
        },
        "xaxis": {
         "anchor": "y",
         "domain": [
          0,
          0.45
         ],
         "showticklabels": false
        },
        "xaxis2": {
         "anchor": "y2",
         "domain": [
          0.55,
          1
         ],
         "showticklabels": false
        },
        "yaxis": {
         "anchor": "x",
         "domain": [
          0,
          1
         ],
         "scaleanchor": "x",
         "showticklabels": false
        },
        "yaxis2": {
         "anchor": "x2",
         "domain": [
          0,
          1
         ],
         "showticklabels": false
        }
       }
      }
     },
     "metadata": {},
     "output_type": "display_data"
    }
   ],
   "source": [
    "from plotly.subplots import make_subplots\n",
    "import plotly.express as px\n",
    "import numpy as np\n",
    "\n",
    "# Get images\n",
    "rgb_image, image_id = get_image_array(0, ['B4', 'B3', 'B2'], aoi, pixel_size, image_list)\n",
    "fc_image, _ = get_image_array(0, ['B11', 'B4', 'B3'], aoi, pixel_size, image_list)\n",
    "\n",
    "# Compute contrast bounds\n",
    "vmin_rgb = np.percentile(rgb_image, 1)\n",
    "vmax_rgb = np.percentile(rgb_image, 99)\n",
    "vmin_fc = np.percentile(fc_image, 1)\n",
    "vmax_fc = np.percentile(fc_image, 99)\n",
    "\n",
    "# Use px.imshow for contrast stretching, then extract trace\n",
    "fig_rgb = px.imshow(rgb_image, zmin=vmin_rgb, zmax=vmax_rgb, binary_string=True)\n",
    "fig_fc = px.imshow(fc_image, zmin=vmin_fc, zmax=vmax_fc, binary_string=True)\n",
    "\n",
    "# Create subplot\n",
    "fig = make_subplots(rows=1, cols=2, subplot_titles=[\"True Color\", \"False Color\"])\n",
    "fig.add_trace(fig_rgb.data[0], row=1, col=1)\n",
    "fig.add_trace(fig_fc.data[0], row=1, col=2)\n",
    "\n",
    "# Layout adjustments\n",
    "fig.update_layout(\n",
    "    title_text=f\"Image ID: {image_id}\",\n",
    "    title={'x': 0.5},\n",
    "    height=600,\n",
    "    margin=dict(l=0, r=0, t=80, b=10)\n",
    ")\n",
    "\n",
    "# Preserve aspect ratio\n",
    "fig.update_yaxes(scaleanchor=\"x\", row=1, col=1)\n",
    "fig.update_yaxes(scaleanchor=\"x\", row=1, col=1)\n",
    "\n",
    "# Remove axis ticks\n",
    "fig.update_xaxes(showticklabels=False)\n",
    "fig.update_yaxes(showticklabels=False)\n",
    "\n",
    "fig.show()\n"
   ]
  },
  {
   "cell_type": "code",
   "execution_count": 72,
   "id": "e7adc1d1",
   "metadata": {},
   "outputs": [
    {
     "data": {
      "text/html": [
       "\n",
       "            <style>\n",
       "                .geemap-dark {\n",
       "                    --jp-widgets-color: white;\n",
       "                    --jp-widgets-label-color: white;\n",
       "                    --jp-ui-font-color1: white;\n",
       "                    --jp-layout-color2: #454545;\n",
       "                    background-color: #383838;\n",
       "                }\n",
       "\n",
       "                .geemap-dark .jupyter-button {\n",
       "                    --jp-layout-color3: #383838;\n",
       "                }\n",
       "\n",
       "                .geemap-colab {\n",
       "                    background-color: var(--colab-primary-surface-color, white);\n",
       "                }\n",
       "\n",
       "                .geemap-colab .jupyter-button {\n",
       "                    --jp-layout-color3: var(--colab-primary-surface-color, white);\n",
       "                }\n",
       "            </style>\n",
       "            "
      ],
      "text/plain": [
       "<IPython.core.display.HTML object>"
      ]
     },
     "metadata": {},
     "output_type": "display_data"
    },
    {
     "ename": "AttributeError",
     "evalue": "module 'geemap' has no attribute 'imshow'",
     "output_type": "error",
     "traceback": [
      "\u001b[31m---------------------------------------------------------------------------\u001b[39m",
      "\u001b[31mAttributeError\u001b[39m                            Traceback (most recent call last)",
      "\u001b[36mCell\u001b[39m\u001b[36m \u001b[39m\u001b[32mIn[72]\u001b[39m\u001b[32m, line 4\u001b[39m\n\u001b[32m      1\u001b[39m \u001b[38;5;28;01mimport\u001b[39;00m\u001b[38;5;250m \u001b[39m\u001b[34;01mgeemap\u001b[39;00m\n\u001b[32m      3\u001b[39m \u001b[38;5;66;03m# Plot the true color image using geemap\u001b[39;00m\n\u001b[32m----> \u001b[39m\u001b[32m4\u001b[39m \u001b[43mgeemap\u001b[49m\u001b[43m.\u001b[49m\u001b[43mimshow\u001b[49m(rgb_image, title=\u001b[33mf\u001b[39m\u001b[33m\"\u001b[39m\u001b[33mTrue Color - \u001b[39m\u001b[38;5;132;01m{\u001b[39;00mimage_id\u001b[38;5;132;01m}\u001b[39;00m\u001b[33m\"\u001b[39m)\n",
      "\u001b[31mAttributeError\u001b[39m: module 'geemap' has no attribute 'imshow'"
     ]
    }
   ],
   "source": [
    "import geemap\n",
    "\n",
    "# Plot the true color image using geemap\n",
    "geemap.imshow(rgb_image, title=f\"True Color - {image_id}\")"
   ]
  },
  {
   "cell_type": "code",
   "execution_count": 75,
   "id": "6d6afe71",
   "metadata": {},
   "outputs": [
    {
     "data": {
      "text/html": [
       "\n",
       "            <style>\n",
       "                .geemap-dark {\n",
       "                    --jp-widgets-color: white;\n",
       "                    --jp-widgets-label-color: white;\n",
       "                    --jp-ui-font-color1: white;\n",
       "                    --jp-layout-color2: #454545;\n",
       "                    background-color: #383838;\n",
       "                }\n",
       "\n",
       "                .geemap-dark .jupyter-button {\n",
       "                    --jp-layout-color3: #383838;\n",
       "                }\n",
       "\n",
       "                .geemap-colab {\n",
       "                    background-color: var(--colab-primary-surface-color, white);\n",
       "                }\n",
       "\n",
       "                .geemap-colab .jupyter-button {\n",
       "                    --jp-layout-color3: var(--colab-primary-surface-color, white);\n",
       "                }\n",
       "            </style>\n",
       "            "
      ],
      "text/plain": [
       "<IPython.core.display.HTML object>"
      ]
     },
     "metadata": {},
     "output_type": "display_data"
    },
    {
     "ename": "EEException",
     "evalue": "Geometry.centroid: Unable to perform this geometry operation. Please specify a non-zero error margin.",
     "output_type": "error",
     "traceback": [
      "\u001b[31m---------------------------------------------------------------------------\u001b[39m",
      "\u001b[31mHttpError\u001b[39m                                 Traceback (most recent call last)",
      "\u001b[36mFile \u001b[39m\u001b[32mc:\\Users\\s2112771\\miniconda3\\envs\\geo\\Lib\\site-packages\\ee\\data.py:408\u001b[39m, in \u001b[36m_execute_cloud_call\u001b[39m\u001b[34m(call, num_retries)\u001b[39m\n\u001b[32m    407\u001b[39m \u001b[38;5;28;01mtry\u001b[39;00m:\n\u001b[32m--> \u001b[39m\u001b[32m408\u001b[39m   \u001b[38;5;28;01mreturn\u001b[39;00m \u001b[43mcall\u001b[49m\u001b[43m.\u001b[49m\u001b[43mexecute\u001b[49m\u001b[43m(\u001b[49m\u001b[43mnum_retries\u001b[49m\u001b[43m=\u001b[49m\u001b[43mnum_retries\u001b[49m\u001b[43m)\u001b[49m\n\u001b[32m    409\u001b[39m \u001b[38;5;28;01mexcept\u001b[39;00m googleapiclient.errors.HttpError \u001b[38;5;28;01mas\u001b[39;00m e:\n",
      "\u001b[36mFile \u001b[39m\u001b[32mc:\\Users\\s2112771\\miniconda3\\envs\\geo\\Lib\\site-packages\\googleapiclient\\_helpers.py:134\u001b[39m, in \u001b[36mpositional.<locals>.positional_decorator.<locals>.positional_wrapper\u001b[39m\u001b[34m(*args, **kwargs)\u001b[39m\n\u001b[32m    133\u001b[39m         logger.warning(message)\n\u001b[32m--> \u001b[39m\u001b[32m134\u001b[39m \u001b[38;5;28;01mreturn\u001b[39;00m \u001b[43mwrapped\u001b[49m\u001b[43m(\u001b[49m\u001b[43m*\u001b[49m\u001b[43margs\u001b[49m\u001b[43m,\u001b[49m\u001b[43m \u001b[49m\u001b[43m*\u001b[49m\u001b[43m*\u001b[49m\u001b[43mkwargs\u001b[49m\u001b[43m)\u001b[49m\n",
      "\u001b[36mFile \u001b[39m\u001b[32mc:\\Users\\s2112771\\miniconda3\\envs\\geo\\Lib\\site-packages\\googleapiclient\\http.py:915\u001b[39m, in \u001b[36mHttpRequest.execute\u001b[39m\u001b[34m(self, http, num_retries)\u001b[39m\n\u001b[32m    914\u001b[39m \u001b[38;5;28;01mif\u001b[39;00m resp.status >= \u001b[32m300\u001b[39m:\n\u001b[32m--> \u001b[39m\u001b[32m915\u001b[39m     \u001b[38;5;28;01mraise\u001b[39;00m HttpError(resp, content, uri=\u001b[38;5;28mself\u001b[39m.uri)\n\u001b[32m    916\u001b[39m \u001b[38;5;28;01mreturn\u001b[39;00m \u001b[38;5;28mself\u001b[39m.postproc(resp, content)\n",
      "\u001b[31mHttpError\u001b[39m: <HttpError 400 when requesting https://earthengine.googleapis.com/v1/projects/earthengine-legacy/value:compute?prettyPrint=false&alt=json returned \"Geometry.centroid: Unable to perform this geometry operation. Please specify a non-zero error margin.\". Details: \"Geometry.centroid: Unable to perform this geometry operation. Please specify a non-zero error margin.\">",
      "\nDuring handling of the above exception, another exception occurred:\n",
      "\u001b[31mEEException\u001b[39m                               Traceback (most recent call last)",
      "\u001b[36mCell\u001b[39m\u001b[36m \u001b[39m\u001b[32mIn[75]\u001b[39m\u001b[32m, line 32\u001b[39m\n\u001b[32m     29\u001b[39m     \u001b[38;5;28;01mreturn\u001b[39;00m Map\n\u001b[32m     31\u001b[39m \u001b[38;5;66;03m# Example usage: True color\u001b[39;00m\n\u001b[32m---> \u001b[39m\u001b[32m32\u001b[39m true_color_map = \u001b[43mplot_image_geemap\u001b[49m\u001b[43m(\u001b[49m\n\u001b[32m     33\u001b[39m \u001b[43m    \u001b[49m\u001b[43mtimestep_idx\u001b[49m\u001b[43m=\u001b[49m\u001b[32;43m0\u001b[39;49m\u001b[43m,\u001b[49m\n\u001b[32m     34\u001b[39m \u001b[43m    \u001b[49m\u001b[43mbands\u001b[49m\u001b[43m=\u001b[49m\u001b[43m[\u001b[49m\u001b[33;43m'\u001b[39;49m\u001b[33;43mB4\u001b[39;49m\u001b[33;43m'\u001b[39;49m\u001b[43m,\u001b[49m\u001b[43m \u001b[49m\u001b[33;43m'\u001b[39;49m\u001b[33;43mB3\u001b[39;49m\u001b[33;43m'\u001b[39;49m\u001b[43m,\u001b[49m\u001b[43m \u001b[49m\u001b[33;43m'\u001b[39;49m\u001b[33;43mB2\u001b[39;49m\u001b[33;43m'\u001b[39;49m\u001b[43m]\u001b[49m\u001b[43m,\u001b[49m\u001b[43m  \u001b[49m\u001b[38;5;66;43;03m# true color\u001b[39;49;00m\n\u001b[32m     35\u001b[39m \u001b[43m    \u001b[49m\u001b[43mvis_params\u001b[49m\u001b[43m=\u001b[49m\u001b[43m{\u001b[49m\u001b[33;43m'\u001b[39;49m\u001b[33;43mmin\u001b[39;49m\u001b[33;43m'\u001b[39;49m\u001b[43m:\u001b[49m\u001b[43m \u001b[49m\u001b[32;43m0\u001b[39;49m\u001b[43m,\u001b[49m\u001b[43m \u001b[49m\u001b[33;43m'\u001b[39;49m\u001b[33;43mmax\u001b[39;49m\u001b[33;43m'\u001b[39;49m\u001b[43m:\u001b[49m\u001b[43m \u001b[49m\u001b[32;43m3000\u001b[39;49m\u001b[43m,\u001b[49m\u001b[43m \u001b[49m\u001b[33;43m'\u001b[39;49m\u001b[33;43mbands\u001b[39;49m\u001b[33;43m'\u001b[39;49m\u001b[43m:\u001b[49m\u001b[43m \u001b[49m\u001b[43m[\u001b[49m\u001b[33;43m'\u001b[39;49m\u001b[33;43mB4\u001b[39;49m\u001b[33;43m'\u001b[39;49m\u001b[43m,\u001b[49m\u001b[43m \u001b[49m\u001b[33;43m'\u001b[39;49m\u001b[33;43mB3\u001b[39;49m\u001b[33;43m'\u001b[39;49m\u001b[43m,\u001b[49m\u001b[43m \u001b[49m\u001b[33;43m'\u001b[39;49m\u001b[33;43mB2\u001b[39;49m\u001b[33;43m'\u001b[39;49m\u001b[43m]\u001b[49m\u001b[43m}\u001b[49m\u001b[43m,\u001b[49m\n\u001b[32m     36\u001b[39m \u001b[43m    \u001b[49m\u001b[43mregion\u001b[49m\u001b[43m=\u001b[49m\u001b[43maoi\u001b[49m\u001b[43m,\u001b[49m\n\u001b[32m     37\u001b[39m \u001b[43m    \u001b[49m\u001b[43mzoom\u001b[49m\u001b[43m=\u001b[49m\u001b[32;43m10\u001b[39;49m\n\u001b[32m     38\u001b[39m \u001b[43m)\u001b[49m\n\u001b[32m     39\u001b[39m true_color_map\n",
      "\u001b[36mCell\u001b[39m\u001b[36m \u001b[39m\u001b[32mIn[75]\u001b[39m\u001b[32m, line 14\u001b[39m, in \u001b[36mplot_image_geemap\u001b[39m\u001b[34m(timestep_idx, bands, vis_params, region, zoom)\u001b[39m\n\u001b[32m      7\u001b[39m image = image.select(bands)\n\u001b[32m      9\u001b[39m \u001b[38;5;66;03m# Center on the region if given, else center on image centroid\u001b[39;00m\n\u001b[32m     10\u001b[39m \u001b[38;5;66;03m# if region:\u001b[39;00m\n\u001b[32m     11\u001b[39m \u001b[38;5;66;03m#     center = region.centroid().coordinates().getInfo()\u001b[39;00m\n\u001b[32m     12\u001b[39m \u001b[38;5;66;03m# else:\u001b[39;00m\n\u001b[32m     13\u001b[39m \u001b[38;5;66;03m#     center = image.geometry().centroid().coordinates().getInfo()\u001b[39;00m\n\u001b[32m---> \u001b[39m\u001b[32m14\u001b[39m center = \u001b[43mregion\u001b[49m\u001b[43m.\u001b[49m\u001b[43mcentroid\u001b[49m\u001b[43m(\u001b[49m\u001b[43m)\u001b[49m\u001b[43m.\u001b[49m\u001b[43mcoordinates\u001b[49m\u001b[43m(\u001b[49m\u001b[43m)\u001b[49m\u001b[43m.\u001b[49m\u001b[43mgetInfo\u001b[49m\u001b[43m(\u001b[49m\u001b[43m)\u001b[49m \u001b[38;5;28;01mif\u001b[39;00m region \u001b[38;5;28;01melse\u001b[39;00m image.geometry().centroid().coordinates().getInfo()\n\u001b[32m     16\u001b[39m \u001b[38;5;66;03m# Set default visualization parameters if none provided\u001b[39;00m\n\u001b[32m     17\u001b[39m \u001b[38;5;28;01mif\u001b[39;00m vis_params \u001b[38;5;129;01mis\u001b[39;00m \u001b[38;5;28;01mNone\u001b[39;00m:\n",
      "\u001b[36mFile \u001b[39m\u001b[32mc:\\Users\\s2112771\\miniconda3\\envs\\geo\\Lib\\site-packages\\ee\\computedobject.py:107\u001b[39m, in \u001b[36mComputedObject.getInfo\u001b[39m\u001b[34m(self)\u001b[39m\n\u001b[32m    101\u001b[39m \u001b[38;5;28;01mdef\u001b[39;00m\u001b[38;5;250m \u001b[39m\u001b[34mgetInfo\u001b[39m(\u001b[38;5;28mself\u001b[39m) -> Optional[Any]:\n\u001b[32m    102\u001b[39m \u001b[38;5;250m  \u001b[39m\u001b[33;03m\"\"\"Fetch and return information about this object.\u001b[39;00m\n\u001b[32m    103\u001b[39m \n\u001b[32m    104\u001b[39m \u001b[33;03m  Returns:\u001b[39;00m\n\u001b[32m    105\u001b[39m \u001b[33;03m    The object can evaluate to anything.\u001b[39;00m\n\u001b[32m    106\u001b[39m \u001b[33;03m  \"\"\"\u001b[39;00m\n\u001b[32m--> \u001b[39m\u001b[32m107\u001b[39m   \u001b[38;5;28;01mreturn\u001b[39;00m \u001b[43mdata\u001b[49m\u001b[43m.\u001b[49m\u001b[43mcomputeValue\u001b[49m\u001b[43m(\u001b[49m\u001b[38;5;28;43mself\u001b[39;49m\u001b[43m)\u001b[49m\n",
      "\u001b[36mFile \u001b[39m\u001b[32mc:\\Users\\s2112771\\miniconda3\\envs\\geo\\Lib\\site-packages\\ee\\data.py:1128\u001b[39m, in \u001b[36mcomputeValue\u001b[39m\u001b[34m(obj)\u001b[39m\n\u001b[32m   1125\u001b[39m body = {\u001b[33m'\u001b[39m\u001b[33mexpression\u001b[39m\u001b[33m'\u001b[39m: serializer.encode(obj, for_cloud_api=\u001b[38;5;28;01mTrue\u001b[39;00m)}\n\u001b[32m   1126\u001b[39m _maybe_populate_workload_tag(body)\n\u001b[32m-> \u001b[39m\u001b[32m1128\u001b[39m \u001b[38;5;28;01mreturn\u001b[39;00m \u001b[43m_execute_cloud_call\u001b[49m\u001b[43m(\u001b[49m\n\u001b[32m   1129\u001b[39m \u001b[43m    \u001b[49m\u001b[43m_get_cloud_projects\u001b[49m\u001b[43m(\u001b[49m\u001b[43m)\u001b[49m\n\u001b[32m   1130\u001b[39m \u001b[43m    \u001b[49m\u001b[43m.\u001b[49m\u001b[43mvalue\u001b[49m\u001b[43m(\u001b[49m\u001b[43m)\u001b[49m\n\u001b[32m   1131\u001b[39m \u001b[43m    \u001b[49m\u001b[43m.\u001b[49m\u001b[43mcompute\u001b[49m\u001b[43m(\u001b[49m\u001b[43mbody\u001b[49m\u001b[43m=\u001b[49m\u001b[43mbody\u001b[49m\u001b[43m,\u001b[49m\u001b[43m \u001b[49m\u001b[43mproject\u001b[49m\u001b[43m=\u001b[49m\u001b[43m_get_projects_path\u001b[49m\u001b[43m(\u001b[49m\u001b[43m)\u001b[49m\u001b[43m,\u001b[49m\u001b[43m \u001b[49m\u001b[43mprettyPrint\u001b[49m\u001b[43m=\u001b[49m\u001b[38;5;28;43;01mFalse\u001b[39;49;00m\u001b[43m)\u001b[49m\n\u001b[32m   1132\u001b[39m \u001b[43m\u001b[49m\u001b[43m)\u001b[49m[\u001b[33m'\u001b[39m\u001b[33mresult\u001b[39m\u001b[33m'\u001b[39m]\n",
      "\u001b[36mFile \u001b[39m\u001b[32mc:\\Users\\s2112771\\miniconda3\\envs\\geo\\Lib\\site-packages\\ee\\data.py:410\u001b[39m, in \u001b[36m_execute_cloud_call\u001b[39m\u001b[34m(call, num_retries)\u001b[39m\n\u001b[32m    408\u001b[39m   \u001b[38;5;28;01mreturn\u001b[39;00m call.execute(num_retries=num_retries)\n\u001b[32m    409\u001b[39m \u001b[38;5;28;01mexcept\u001b[39;00m googleapiclient.errors.HttpError \u001b[38;5;28;01mas\u001b[39;00m e:\n\u001b[32m--> \u001b[39m\u001b[32m410\u001b[39m   \u001b[38;5;28;01mraise\u001b[39;00m _translate_cloud_exception(e)\n",
      "\u001b[31mEEException\u001b[39m: Geometry.centroid: Unable to perform this geometry operation. Please specify a non-zero error margin."
     ]
    }
   ],
   "source": [
    "import geemap\n",
    "import ee\n",
    "\n",
    "def plot_image_geemap(timestep_idx, bands, vis_params=None, region=None, zoom=10):\n",
    "    \"\"\"Display a single image from image_list on an interactive geemap map.\"\"\"\n",
    "    image = ee.Image(image_list.get(timestep_idx))\n",
    "    image = image.select(bands)\n",
    "\n",
    "    # Center on the region if given, else center on image centroid\n",
    "    # if region:\n",
    "    #     center = region.centroid().coordinates().getInfo()\n",
    "    # else:\n",
    "    #     center = image.geometry().centroid().coordinates().getInfo()\n",
    "    center = region.centroid().coordinates().getInfo() if region else image.geometry().centroid().coordinates().getInfo()\n",
    "\n",
    "    # Set default visualization parameters if none provided\n",
    "    if vis_params is None:\n",
    "        vis_params = {\n",
    "            'min': 0,\n",
    "            'max': 3000,  # Sentinel-2 reflectance scale\n",
    "            'bands': bands\n",
    "        }\n",
    "\n",
    "    # Create the map\n",
    "    Map = geemap.Map(center=center[::-1], zoom=zoom)  # reverse lat/lon for center\n",
    "    Map.addLayer(image.clip(region if region else image.geometry()), vis_params, 'Image')\n",
    "    Map.addLayer(region, {}, 'AOI') if region else None\n",
    "    Map.addLayerControl()\n",
    "    return Map\n",
    "\n",
    "# Example usage: True color\n",
    "true_color_map = plot_image_geemap(\n",
    "    timestep_idx=0,\n",
    "    bands=['B4', 'B3', 'B2'],  # true color\n",
    "    vis_params={'min': 0, 'max': 3000, 'bands': ['B4', 'B3', 'B2']},\n",
    "    region=aoi,\n",
    "    zoom=10\n",
    ")\n",
    "true_color_map\n"
   ]
  },
  {
   "cell_type": "code",
   "execution_count": null,
   "id": "8ca553c0",
   "metadata": {},
   "outputs": [],
   "source": []
  }
 ],
 "metadata": {
  "kernelspec": {
   "display_name": "geo",
   "language": "python",
   "name": "python3"
  },
  "language_info": {
   "codemirror_mode": {
    "name": "ipython",
    "version": 3
   },
   "file_extension": ".py",
   "mimetype": "text/x-python",
   "name": "python",
   "nbconvert_exporter": "python",
   "pygments_lexer": "ipython3",
   "version": "3.13.2"
  }
 },
 "nbformat": 4,
 "nbformat_minor": 5
}
